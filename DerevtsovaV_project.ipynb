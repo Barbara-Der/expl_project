{
 "cells": [
  {
   "cell_type": "markdown",
   "metadata": {},
   "source": [
    "# Прогнозирование оттока клиентов "
   ]
  },
  {
   "cell_type": "markdown",
   "metadata": {},
   "source": [
    "Оператор связи «Ниединогоразрыва.ком» хочет научиться прогнозировать отток клиентов. Если выяснится, что пользователь планирует уйти, ему будут предложены промокоды и специальные условия. Команда оператора собрала персональные данные о некоторых клиентах, информацию об их тарифах и договорах.\n",
    "\n",
    "Необходимо построить модель для решения задачи классификации, которая определит: планирует ли клиент уйти. \n",
    "\n",
    "Изучим данные, по необходимости подготовим их для исследования. Построим модель с максимально большим значением *AUC-ROC*. Для успешного решения задачи доведем значение метрики по крайней мере до 0.85. "
   ]
  },
  {
   "cell_type": "markdown",
   "metadata": {},
   "source": [
    "## Знакомство с файлом"
   ]
  },
  {
   "cell_type": "code",
   "execution_count": 1,
   "metadata": {},
   "outputs": [
    {
     "name": "stdout",
     "output_type": "stream",
     "text": [
      "Requirement already satisfied: phik in c:\\programdata\\anaconda3\\lib\\site-packages (0.12.3)\n",
      "Requirement already satisfied: numpy>=1.18.0 in c:\\programdata\\anaconda3\\lib\\site-packages (from phik) (1.24.3)\n",
      "Requirement already satisfied: scipy>=1.5.2 in c:\\programdata\\anaconda3\\lib\\site-packages (from phik) (1.9.1)\n",
      "Requirement already satisfied: matplotlib>=2.2.3 in c:\\programdata\\anaconda3\\lib\\site-packages (from phik) (3.5.2)\n",
      "Requirement already satisfied: joblib>=0.14.1 in c:\\programdata\\anaconda3\\lib\\site-packages (from phik) (1.1.0)\n",
      "Requirement already satisfied: pandas>=0.25.1 in c:\\programdata\\anaconda3\\lib\\site-packages (from phik) (1.4.4)\n",
      "Requirement already satisfied: kiwisolver>=1.0.1 in c:\\programdata\\anaconda3\\lib\\site-packages (from matplotlib>=2.2.3->phik) (1.4.2)\n",
      "Requirement already satisfied: pyparsing>=2.2.1 in c:\\programdata\\anaconda3\\lib\\site-packages (from matplotlib>=2.2.3->phik) (3.0.9)\n",
      "Requirement already satisfied: python-dateutil>=2.7 in c:\\programdata\\anaconda3\\lib\\site-packages (from matplotlib>=2.2.3->phik) (2.8.2)\n",
      "Requirement already satisfied: packaging>=20.0 in c:\\programdata\\anaconda3\\lib\\site-packages (from matplotlib>=2.2.3->phik) (21.3)\n",
      "Requirement already satisfied: fonttools>=4.22.0 in c:\\programdata\\anaconda3\\lib\\site-packages (from matplotlib>=2.2.3->phik) (4.25.0)\n",
      "Requirement already satisfied: pillow>=6.2.0 in c:\\programdata\\anaconda3\\lib\\site-packages (from matplotlib>=2.2.3->phik) (9.2.0)\n",
      "Requirement already satisfied: cycler>=0.10 in c:\\programdata\\anaconda3\\lib\\site-packages (from matplotlib>=2.2.3->phik) (0.11.0)\n",
      "Requirement already satisfied: pytz>=2020.1 in c:\\programdata\\anaconda3\\lib\\site-packages (from pandas>=0.25.1->phik) (2022.1)\n",
      "Requirement already satisfied: six>=1.5 in c:\\programdata\\anaconda3\\lib\\site-packages (from python-dateutil>=2.7->matplotlib>=2.2.3->phik) (1.16.0)\n"
     ]
    }
   ],
   "source": [
    "#Скачаем библиотеки\n",
    "!pip install phik"
   ]
  },
  {
   "cell_type": "code",
   "execution_count": 2,
   "metadata": {},
   "outputs": [
    {
     "name": "stdout",
     "output_type": "stream",
     "text": [
      "Requirement already satisfied: scikit-learn==1.1.3 in c:\\programdata\\anaconda3\\lib\\site-packages (1.1.3)\n",
      "Requirement already satisfied: threadpoolctl>=2.0.0 in c:\\programdata\\anaconda3\\lib\\site-packages (from scikit-learn==1.1.3) (2.2.0)\n",
      "Requirement already satisfied: scipy>=1.3.2 in c:\\programdata\\anaconda3\\lib\\site-packages (from scikit-learn==1.1.3) (1.9.1)\n",
      "Requirement already satisfied: numpy>=1.17.3 in c:\\programdata\\anaconda3\\lib\\site-packages (from scikit-learn==1.1.3) (1.24.3)\n",
      "Requirement already satisfied: joblib>=1.0.0 in c:\\programdata\\anaconda3\\lib\\site-packages (from scikit-learn==1.1.3) (1.1.0)\n"
     ]
    }
   ],
   "source": [
    "!pip install scikit-learn==1.1.3"
   ]
  },
  {
   "cell_type": "code",
   "execution_count": 3,
   "metadata": {},
   "outputs": [
    {
     "name": "stdout",
     "output_type": "stream",
     "text": [
      "Requirement already satisfied: catboost in c:\\programdata\\anaconda3\\lib\\site-packages (1.2.1)\n",
      "Requirement already satisfied: six in c:\\programdata\\anaconda3\\lib\\site-packages (from catboost) (1.16.0)\n",
      "Requirement already satisfied: numpy>=1.16.0 in c:\\programdata\\anaconda3\\lib\\site-packages (from catboost) (1.24.3)\n",
      "Requirement already satisfied: pandas>=0.24 in c:\\programdata\\anaconda3\\lib\\site-packages (from catboost) (1.4.4)\n",
      "Requirement already satisfied: graphviz in c:\\programdata\\anaconda3\\lib\\site-packages (from catboost) (0.20.1)\n",
      "Requirement already satisfied: scipy in c:\\programdata\\anaconda3\\lib\\site-packages (from catboost) (1.9.1)\n",
      "Requirement already satisfied: plotly in c:\\programdata\\anaconda3\\lib\\site-packages (from catboost) (5.9.0)\n",
      "Requirement already satisfied: matplotlib in c:\\programdata\\anaconda3\\lib\\site-packages (from catboost) (3.5.2)\n",
      "Requirement already satisfied: python-dateutil>=2.8.1 in c:\\programdata\\anaconda3\\lib\\site-packages (from pandas>=0.24->catboost) (2.8.2)\n",
      "Requirement already satisfied: pytz>=2020.1 in c:\\programdata\\anaconda3\\lib\\site-packages (from pandas>=0.24->catboost) (2022.1)\n",
      "Requirement already satisfied: pillow>=6.2.0 in c:\\programdata\\anaconda3\\lib\\site-packages (from matplotlib->catboost) (9.2.0)\n",
      "Requirement already satisfied: fonttools>=4.22.0 in c:\\programdata\\anaconda3\\lib\\site-packages (from matplotlib->catboost) (4.25.0)\n",
      "Requirement already satisfied: kiwisolver>=1.0.1 in c:\\programdata\\anaconda3\\lib\\site-packages (from matplotlib->catboost) (1.4.2)\n",
      "Requirement already satisfied: packaging>=20.0 in c:\\programdata\\anaconda3\\lib\\site-packages (from matplotlib->catboost) (21.3)\n",
      "Requirement already satisfied: pyparsing>=2.2.1 in c:\\programdata\\anaconda3\\lib\\site-packages (from matplotlib->catboost) (3.0.9)\n",
      "Requirement already satisfied: cycler>=0.10 in c:\\programdata\\anaconda3\\lib\\site-packages (from matplotlib->catboost) (0.11.0)\n",
      "Requirement already satisfied: tenacity>=6.2.0 in c:\\programdata\\anaconda3\\lib\\site-packages (from plotly->catboost) (8.0.1)\n"
     ]
    }
   ],
   "source": [
    "!pip3 install catboost"
   ]
  },
  {
   "cell_type": "code",
   "execution_count": 4,
   "metadata": {},
   "outputs": [
    {
     "data": {
      "text/plain": [
       "['Requirement already satisfied: lightgbm in c:\\\\programdata\\\\anaconda3\\\\lib\\\\site-packages (4.0.0)',\n",
       " 'Requirement already satisfied: scipy in c:\\\\programdata\\\\anaconda3\\\\lib\\\\site-packages (from lightgbm) (1.9.1)',\n",
       " 'Requirement already satisfied: numpy in c:\\\\programdata\\\\anaconda3\\\\lib\\\\site-packages (from lightgbm) (1.24.3)']"
      ]
     },
     "execution_count": 4,
     "metadata": {},
     "output_type": "execute_result"
    }
   ],
   "source": [
    "!!pip install lightgbm"
   ]
  },
  {
   "cell_type": "code",
   "execution_count": 5,
   "metadata": {},
   "outputs": [],
   "source": [
    "#Подключим необходимые библиотеки\n",
    "import re \n",
    "import phik\n",
    "import pandas as pd\n",
    "import seaborn as sns\n",
    "from matplotlib import pyplot as plt\n",
    "from sklearn.preprocessing import OneHotEncoder, StandardScaler\n",
    "from sklearn.model_selection import train_test_split, GridSearchCV\n",
    "from sklearn.linear_model import LogisticRegression\n",
    "from sklearn.metrics import roc_auc_score, roc_curve, confusion_matrix\n",
    "from catboost import CatBoostClassifier\n",
    "from lightgbm import LGBMClassifier\n",
    "\n",
    "RANDOM_STATE = 140823"
   ]
  },
  {
   "cell_type": "code",
   "execution_count": 6,
   "metadata": {},
   "outputs": [
    {
     "data": {
      "text/html": [
       "<div>\n",
       "<style scoped>\n",
       "    .dataframe tbody tr th:only-of-type {\n",
       "        vertical-align: middle;\n",
       "    }\n",
       "\n",
       "    .dataframe tbody tr th {\n",
       "        vertical-align: top;\n",
       "    }\n",
       "\n",
       "    .dataframe thead th {\n",
       "        text-align: right;\n",
       "    }\n",
       "</style>\n",
       "<table border=\"1\" class=\"dataframe\">\n",
       "  <thead>\n",
       "    <tr style=\"text-align: right;\">\n",
       "      <th></th>\n",
       "      <th>customerID</th>\n",
       "      <th>BeginDate</th>\n",
       "      <th>EndDate</th>\n",
       "      <th>Type</th>\n",
       "      <th>PaperlessBilling</th>\n",
       "      <th>PaymentMethod</th>\n",
       "      <th>MonthlyCharges</th>\n",
       "      <th>TotalCharges</th>\n",
       "    </tr>\n",
       "  </thead>\n",
       "  <tbody>\n",
       "    <tr>\n",
       "      <th>0</th>\n",
       "      <td>7590-VHVEG</td>\n",
       "      <td>2020-01-01</td>\n",
       "      <td>No</td>\n",
       "      <td>Month-to-month</td>\n",
       "      <td>Yes</td>\n",
       "      <td>Electronic check</td>\n",
       "      <td>29.85</td>\n",
       "      <td>31.04</td>\n",
       "    </tr>\n",
       "    <tr>\n",
       "      <th>1</th>\n",
       "      <td>5575-GNVDE</td>\n",
       "      <td>2017-04-01</td>\n",
       "      <td>No</td>\n",
       "      <td>One year</td>\n",
       "      <td>No</td>\n",
       "      <td>Mailed check</td>\n",
       "      <td>56.95</td>\n",
       "      <td>2071.84</td>\n",
       "    </tr>\n",
       "    <tr>\n",
       "      <th>2</th>\n",
       "      <td>3668-QPYBK</td>\n",
       "      <td>2019-10-01</td>\n",
       "      <td>No</td>\n",
       "      <td>Month-to-month</td>\n",
       "      <td>Yes</td>\n",
       "      <td>Mailed check</td>\n",
       "      <td>53.85</td>\n",
       "      <td>226.17</td>\n",
       "    </tr>\n",
       "    <tr>\n",
       "      <th>3</th>\n",
       "      <td>7795-CFOCW</td>\n",
       "      <td>2016-05-01</td>\n",
       "      <td>No</td>\n",
       "      <td>One year</td>\n",
       "      <td>No</td>\n",
       "      <td>Bank transfer (automatic)</td>\n",
       "      <td>42.30</td>\n",
       "      <td>1960.6</td>\n",
       "    </tr>\n",
       "    <tr>\n",
       "      <th>4</th>\n",
       "      <td>9237-HQITU</td>\n",
       "      <td>2019-09-01</td>\n",
       "      <td>No</td>\n",
       "      <td>Month-to-month</td>\n",
       "      <td>Yes</td>\n",
       "      <td>Electronic check</td>\n",
       "      <td>70.70</td>\n",
       "      <td>353.5</td>\n",
       "    </tr>\n",
       "  </tbody>\n",
       "</table>\n",
       "</div>"
      ],
      "text/plain": [
       "   customerID   BeginDate EndDate            Type PaperlessBilling  \\\n",
       "0  7590-VHVEG  2020-01-01      No  Month-to-month              Yes   \n",
       "1  5575-GNVDE  2017-04-01      No        One year               No   \n",
       "2  3668-QPYBK  2019-10-01      No  Month-to-month              Yes   \n",
       "3  7795-CFOCW  2016-05-01      No        One year               No   \n",
       "4  9237-HQITU  2019-09-01      No  Month-to-month              Yes   \n",
       "\n",
       "               PaymentMethod  MonthlyCharges TotalCharges  \n",
       "0           Electronic check           29.85        31.04  \n",
       "1               Mailed check           56.95      2071.84  \n",
       "2               Mailed check           53.85       226.17  \n",
       "3  Bank transfer (automatic)           42.30       1960.6  \n",
       "4           Electronic check           70.70        353.5  "
      ]
     },
     "metadata": {},
     "output_type": "display_data"
    },
    {
     "data": {
      "text/html": [
       "<div>\n",
       "<style scoped>\n",
       "    .dataframe tbody tr th:only-of-type {\n",
       "        vertical-align: middle;\n",
       "    }\n",
       "\n",
       "    .dataframe tbody tr th {\n",
       "        vertical-align: top;\n",
       "    }\n",
       "\n",
       "    .dataframe thead th {\n",
       "        text-align: right;\n",
       "    }\n",
       "</style>\n",
       "<table border=\"1\" class=\"dataframe\">\n",
       "  <thead>\n",
       "    <tr style=\"text-align: right;\">\n",
       "      <th></th>\n",
       "      <th>MonthlyCharges</th>\n",
       "    </tr>\n",
       "  </thead>\n",
       "  <tbody>\n",
       "    <tr>\n",
       "      <th>count</th>\n",
       "      <td>7043.000000</td>\n",
       "    </tr>\n",
       "    <tr>\n",
       "      <th>mean</th>\n",
       "      <td>64.761692</td>\n",
       "    </tr>\n",
       "    <tr>\n",
       "      <th>std</th>\n",
       "      <td>30.090047</td>\n",
       "    </tr>\n",
       "    <tr>\n",
       "      <th>min</th>\n",
       "      <td>18.250000</td>\n",
       "    </tr>\n",
       "    <tr>\n",
       "      <th>25%</th>\n",
       "      <td>35.500000</td>\n",
       "    </tr>\n",
       "    <tr>\n",
       "      <th>50%</th>\n",
       "      <td>70.350000</td>\n",
       "    </tr>\n",
       "    <tr>\n",
       "      <th>75%</th>\n",
       "      <td>89.850000</td>\n",
       "    </tr>\n",
       "    <tr>\n",
       "      <th>max</th>\n",
       "      <td>118.750000</td>\n",
       "    </tr>\n",
       "  </tbody>\n",
       "</table>\n",
       "</div>"
      ],
      "text/plain": [
       "       MonthlyCharges\n",
       "count     7043.000000\n",
       "mean        64.761692\n",
       "std         30.090047\n",
       "min         18.250000\n",
       "25%         35.500000\n",
       "50%         70.350000\n",
       "75%         89.850000\n",
       "max        118.750000"
      ]
     },
     "metadata": {},
     "output_type": "display_data"
    },
    {
     "name": "stdout",
     "output_type": "stream",
     "text": [
      "<class 'pandas.core.frame.DataFrame'>\n",
      "RangeIndex: 7043 entries, 0 to 7042\n",
      "Data columns (total 8 columns):\n",
      " #   Column            Non-Null Count  Dtype  \n",
      "---  ------            --------------  -----  \n",
      " 0   customerID        7043 non-null   object \n",
      " 1   BeginDate         7043 non-null   object \n",
      " 2   EndDate           7043 non-null   object \n",
      " 3   Type              7043 non-null   object \n",
      " 4   PaperlessBilling  7043 non-null   object \n",
      " 5   PaymentMethod     7043 non-null   object \n",
      " 6   MonthlyCharges    7043 non-null   float64\n",
      " 7   TotalCharges      7043 non-null   object \n",
      "dtypes: float64(1), object(7)\n",
      "memory usage: 440.3+ KB\n"
     ]
    },
    {
     "data": {
      "text/plain": [
       "None"
      ]
     },
     "metadata": {},
     "output_type": "display_data"
    },
    {
     "name": "stdout",
     "output_type": "stream",
     "text": [
      "________________________________________________________________________________\n"
     ]
    },
    {
     "data": {
      "text/html": [
       "<div>\n",
       "<style scoped>\n",
       "    .dataframe tbody tr th:only-of-type {\n",
       "        vertical-align: middle;\n",
       "    }\n",
       "\n",
       "    .dataframe tbody tr th {\n",
       "        vertical-align: top;\n",
       "    }\n",
       "\n",
       "    .dataframe thead th {\n",
       "        text-align: right;\n",
       "    }\n",
       "</style>\n",
       "<table border=\"1\" class=\"dataframe\">\n",
       "  <thead>\n",
       "    <tr style=\"text-align: right;\">\n",
       "      <th></th>\n",
       "      <th>customerID</th>\n",
       "      <th>gender</th>\n",
       "      <th>SeniorCitizen</th>\n",
       "      <th>Partner</th>\n",
       "      <th>Dependents</th>\n",
       "    </tr>\n",
       "  </thead>\n",
       "  <tbody>\n",
       "    <tr>\n",
       "      <th>0</th>\n",
       "      <td>7590-VHVEG</td>\n",
       "      <td>Female</td>\n",
       "      <td>0</td>\n",
       "      <td>Yes</td>\n",
       "      <td>No</td>\n",
       "    </tr>\n",
       "    <tr>\n",
       "      <th>1</th>\n",
       "      <td>5575-GNVDE</td>\n",
       "      <td>Male</td>\n",
       "      <td>0</td>\n",
       "      <td>No</td>\n",
       "      <td>No</td>\n",
       "    </tr>\n",
       "    <tr>\n",
       "      <th>2</th>\n",
       "      <td>3668-QPYBK</td>\n",
       "      <td>Male</td>\n",
       "      <td>0</td>\n",
       "      <td>No</td>\n",
       "      <td>No</td>\n",
       "    </tr>\n",
       "    <tr>\n",
       "      <th>3</th>\n",
       "      <td>7795-CFOCW</td>\n",
       "      <td>Male</td>\n",
       "      <td>0</td>\n",
       "      <td>No</td>\n",
       "      <td>No</td>\n",
       "    </tr>\n",
       "    <tr>\n",
       "      <th>4</th>\n",
       "      <td>9237-HQITU</td>\n",
       "      <td>Female</td>\n",
       "      <td>0</td>\n",
       "      <td>No</td>\n",
       "      <td>No</td>\n",
       "    </tr>\n",
       "  </tbody>\n",
       "</table>\n",
       "</div>"
      ],
      "text/plain": [
       "   customerID  gender  SeniorCitizen Partner Dependents\n",
       "0  7590-VHVEG  Female              0     Yes         No\n",
       "1  5575-GNVDE    Male              0      No         No\n",
       "2  3668-QPYBK    Male              0      No         No\n",
       "3  7795-CFOCW    Male              0      No         No\n",
       "4  9237-HQITU  Female              0      No         No"
      ]
     },
     "metadata": {},
     "output_type": "display_data"
    },
    {
     "data": {
      "text/html": [
       "<div>\n",
       "<style scoped>\n",
       "    .dataframe tbody tr th:only-of-type {\n",
       "        vertical-align: middle;\n",
       "    }\n",
       "\n",
       "    .dataframe tbody tr th {\n",
       "        vertical-align: top;\n",
       "    }\n",
       "\n",
       "    .dataframe thead th {\n",
       "        text-align: right;\n",
       "    }\n",
       "</style>\n",
       "<table border=\"1\" class=\"dataframe\">\n",
       "  <thead>\n",
       "    <tr style=\"text-align: right;\">\n",
       "      <th></th>\n",
       "      <th>SeniorCitizen</th>\n",
       "    </tr>\n",
       "  </thead>\n",
       "  <tbody>\n",
       "    <tr>\n",
       "      <th>count</th>\n",
       "      <td>7043.000000</td>\n",
       "    </tr>\n",
       "    <tr>\n",
       "      <th>mean</th>\n",
       "      <td>0.162147</td>\n",
       "    </tr>\n",
       "    <tr>\n",
       "      <th>std</th>\n",
       "      <td>0.368612</td>\n",
       "    </tr>\n",
       "    <tr>\n",
       "      <th>min</th>\n",
       "      <td>0.000000</td>\n",
       "    </tr>\n",
       "    <tr>\n",
       "      <th>25%</th>\n",
       "      <td>0.000000</td>\n",
       "    </tr>\n",
       "    <tr>\n",
       "      <th>50%</th>\n",
       "      <td>0.000000</td>\n",
       "    </tr>\n",
       "    <tr>\n",
       "      <th>75%</th>\n",
       "      <td>0.000000</td>\n",
       "    </tr>\n",
       "    <tr>\n",
       "      <th>max</th>\n",
       "      <td>1.000000</td>\n",
       "    </tr>\n",
       "  </tbody>\n",
       "</table>\n",
       "</div>"
      ],
      "text/plain": [
       "       SeniorCitizen\n",
       "count    7043.000000\n",
       "mean        0.162147\n",
       "std         0.368612\n",
       "min         0.000000\n",
       "25%         0.000000\n",
       "50%         0.000000\n",
       "75%         0.000000\n",
       "max         1.000000"
      ]
     },
     "metadata": {},
     "output_type": "display_data"
    },
    {
     "name": "stdout",
     "output_type": "stream",
     "text": [
      "<class 'pandas.core.frame.DataFrame'>\n",
      "RangeIndex: 7043 entries, 0 to 7042\n",
      "Data columns (total 5 columns):\n",
      " #   Column         Non-Null Count  Dtype \n",
      "---  ------         --------------  ----- \n",
      " 0   customerID     7043 non-null   object\n",
      " 1   gender         7043 non-null   object\n",
      " 2   SeniorCitizen  7043 non-null   int64 \n",
      " 3   Partner        7043 non-null   object\n",
      " 4   Dependents     7043 non-null   object\n",
      "dtypes: int64(1), object(4)\n",
      "memory usage: 275.2+ KB\n"
     ]
    },
    {
     "data": {
      "text/plain": [
       "None"
      ]
     },
     "metadata": {},
     "output_type": "display_data"
    },
    {
     "name": "stdout",
     "output_type": "stream",
     "text": [
      "________________________________________________________________________________\n"
     ]
    },
    {
     "data": {
      "text/html": [
       "<div>\n",
       "<style scoped>\n",
       "    .dataframe tbody tr th:only-of-type {\n",
       "        vertical-align: middle;\n",
       "    }\n",
       "\n",
       "    .dataframe tbody tr th {\n",
       "        vertical-align: top;\n",
       "    }\n",
       "\n",
       "    .dataframe thead th {\n",
       "        text-align: right;\n",
       "    }\n",
       "</style>\n",
       "<table border=\"1\" class=\"dataframe\">\n",
       "  <thead>\n",
       "    <tr style=\"text-align: right;\">\n",
       "      <th></th>\n",
       "      <th>customerID</th>\n",
       "      <th>InternetService</th>\n",
       "      <th>OnlineSecurity</th>\n",
       "      <th>OnlineBackup</th>\n",
       "      <th>DeviceProtection</th>\n",
       "      <th>TechSupport</th>\n",
       "      <th>StreamingTV</th>\n",
       "      <th>StreamingMovies</th>\n",
       "    </tr>\n",
       "  </thead>\n",
       "  <tbody>\n",
       "    <tr>\n",
       "      <th>0</th>\n",
       "      <td>7590-VHVEG</td>\n",
       "      <td>DSL</td>\n",
       "      <td>No</td>\n",
       "      <td>Yes</td>\n",
       "      <td>No</td>\n",
       "      <td>No</td>\n",
       "      <td>No</td>\n",
       "      <td>No</td>\n",
       "    </tr>\n",
       "    <tr>\n",
       "      <th>1</th>\n",
       "      <td>5575-GNVDE</td>\n",
       "      <td>DSL</td>\n",
       "      <td>Yes</td>\n",
       "      <td>No</td>\n",
       "      <td>Yes</td>\n",
       "      <td>No</td>\n",
       "      <td>No</td>\n",
       "      <td>No</td>\n",
       "    </tr>\n",
       "    <tr>\n",
       "      <th>2</th>\n",
       "      <td>3668-QPYBK</td>\n",
       "      <td>DSL</td>\n",
       "      <td>Yes</td>\n",
       "      <td>Yes</td>\n",
       "      <td>No</td>\n",
       "      <td>No</td>\n",
       "      <td>No</td>\n",
       "      <td>No</td>\n",
       "    </tr>\n",
       "    <tr>\n",
       "      <th>3</th>\n",
       "      <td>7795-CFOCW</td>\n",
       "      <td>DSL</td>\n",
       "      <td>Yes</td>\n",
       "      <td>No</td>\n",
       "      <td>Yes</td>\n",
       "      <td>Yes</td>\n",
       "      <td>No</td>\n",
       "      <td>No</td>\n",
       "    </tr>\n",
       "    <tr>\n",
       "      <th>4</th>\n",
       "      <td>9237-HQITU</td>\n",
       "      <td>Fiber optic</td>\n",
       "      <td>No</td>\n",
       "      <td>No</td>\n",
       "      <td>No</td>\n",
       "      <td>No</td>\n",
       "      <td>No</td>\n",
       "      <td>No</td>\n",
       "    </tr>\n",
       "  </tbody>\n",
       "</table>\n",
       "</div>"
      ],
      "text/plain": [
       "   customerID InternetService OnlineSecurity OnlineBackup DeviceProtection  \\\n",
       "0  7590-VHVEG             DSL             No          Yes               No   \n",
       "1  5575-GNVDE             DSL            Yes           No              Yes   \n",
       "2  3668-QPYBK             DSL            Yes          Yes               No   \n",
       "3  7795-CFOCW             DSL            Yes           No              Yes   \n",
       "4  9237-HQITU     Fiber optic             No           No               No   \n",
       "\n",
       "  TechSupport StreamingTV StreamingMovies  \n",
       "0          No          No              No  \n",
       "1          No          No              No  \n",
       "2          No          No              No  \n",
       "3         Yes          No              No  \n",
       "4          No          No              No  "
      ]
     },
     "metadata": {},
     "output_type": "display_data"
    },
    {
     "data": {
      "text/html": [
       "<div>\n",
       "<style scoped>\n",
       "    .dataframe tbody tr th:only-of-type {\n",
       "        vertical-align: middle;\n",
       "    }\n",
       "\n",
       "    .dataframe tbody tr th {\n",
       "        vertical-align: top;\n",
       "    }\n",
       "\n",
       "    .dataframe thead th {\n",
       "        text-align: right;\n",
       "    }\n",
       "</style>\n",
       "<table border=\"1\" class=\"dataframe\">\n",
       "  <thead>\n",
       "    <tr style=\"text-align: right;\">\n",
       "      <th></th>\n",
       "      <th>customerID</th>\n",
       "      <th>InternetService</th>\n",
       "      <th>OnlineSecurity</th>\n",
       "      <th>OnlineBackup</th>\n",
       "      <th>DeviceProtection</th>\n",
       "      <th>TechSupport</th>\n",
       "      <th>StreamingTV</th>\n",
       "      <th>StreamingMovies</th>\n",
       "    </tr>\n",
       "  </thead>\n",
       "  <tbody>\n",
       "    <tr>\n",
       "      <th>count</th>\n",
       "      <td>5517</td>\n",
       "      <td>5517</td>\n",
       "      <td>5517</td>\n",
       "      <td>5517</td>\n",
       "      <td>5517</td>\n",
       "      <td>5517</td>\n",
       "      <td>5517</td>\n",
       "      <td>5517</td>\n",
       "    </tr>\n",
       "    <tr>\n",
       "      <th>unique</th>\n",
       "      <td>5517</td>\n",
       "      <td>2</td>\n",
       "      <td>2</td>\n",
       "      <td>2</td>\n",
       "      <td>2</td>\n",
       "      <td>2</td>\n",
       "      <td>2</td>\n",
       "      <td>2</td>\n",
       "    </tr>\n",
       "    <tr>\n",
       "      <th>top</th>\n",
       "      <td>7590-VHVEG</td>\n",
       "      <td>Fiber optic</td>\n",
       "      <td>No</td>\n",
       "      <td>No</td>\n",
       "      <td>No</td>\n",
       "      <td>No</td>\n",
       "      <td>No</td>\n",
       "      <td>No</td>\n",
       "    </tr>\n",
       "    <tr>\n",
       "      <th>freq</th>\n",
       "      <td>1</td>\n",
       "      <td>3096</td>\n",
       "      <td>3498</td>\n",
       "      <td>3088</td>\n",
       "      <td>3095</td>\n",
       "      <td>3473</td>\n",
       "      <td>2810</td>\n",
       "      <td>2785</td>\n",
       "    </tr>\n",
       "  </tbody>\n",
       "</table>\n",
       "</div>"
      ],
      "text/plain": [
       "        customerID InternetService OnlineSecurity OnlineBackup  \\\n",
       "count         5517            5517           5517         5517   \n",
       "unique        5517               2              2            2   \n",
       "top     7590-VHVEG     Fiber optic             No           No   \n",
       "freq             1            3096           3498         3088   \n",
       "\n",
       "       DeviceProtection TechSupport StreamingTV StreamingMovies  \n",
       "count              5517        5517        5517            5517  \n",
       "unique                2           2           2               2  \n",
       "top                  No          No          No              No  \n",
       "freq               3095        3473        2810            2785  "
      ]
     },
     "metadata": {},
     "output_type": "display_data"
    },
    {
     "name": "stdout",
     "output_type": "stream",
     "text": [
      "<class 'pandas.core.frame.DataFrame'>\n",
      "RangeIndex: 5517 entries, 0 to 5516\n",
      "Data columns (total 8 columns):\n",
      " #   Column            Non-Null Count  Dtype \n",
      "---  ------            --------------  ----- \n",
      " 0   customerID        5517 non-null   object\n",
      " 1   InternetService   5517 non-null   object\n",
      " 2   OnlineSecurity    5517 non-null   object\n",
      " 3   OnlineBackup      5517 non-null   object\n",
      " 4   DeviceProtection  5517 non-null   object\n",
      " 5   TechSupport       5517 non-null   object\n",
      " 6   StreamingTV       5517 non-null   object\n",
      " 7   StreamingMovies   5517 non-null   object\n",
      "dtypes: object(8)\n",
      "memory usage: 344.9+ KB\n"
     ]
    },
    {
     "data": {
      "text/plain": [
       "None"
      ]
     },
     "metadata": {},
     "output_type": "display_data"
    },
    {
     "name": "stdout",
     "output_type": "stream",
     "text": [
      "________________________________________________________________________________\n"
     ]
    },
    {
     "data": {
      "text/html": [
       "<div>\n",
       "<style scoped>\n",
       "    .dataframe tbody tr th:only-of-type {\n",
       "        vertical-align: middle;\n",
       "    }\n",
       "\n",
       "    .dataframe tbody tr th {\n",
       "        vertical-align: top;\n",
       "    }\n",
       "\n",
       "    .dataframe thead th {\n",
       "        text-align: right;\n",
       "    }\n",
       "</style>\n",
       "<table border=\"1\" class=\"dataframe\">\n",
       "  <thead>\n",
       "    <tr style=\"text-align: right;\">\n",
       "      <th></th>\n",
       "      <th>customerID</th>\n",
       "      <th>MultipleLines</th>\n",
       "    </tr>\n",
       "  </thead>\n",
       "  <tbody>\n",
       "    <tr>\n",
       "      <th>0</th>\n",
       "      <td>5575-GNVDE</td>\n",
       "      <td>No</td>\n",
       "    </tr>\n",
       "    <tr>\n",
       "      <th>1</th>\n",
       "      <td>3668-QPYBK</td>\n",
       "      <td>No</td>\n",
       "    </tr>\n",
       "    <tr>\n",
       "      <th>2</th>\n",
       "      <td>9237-HQITU</td>\n",
       "      <td>No</td>\n",
       "    </tr>\n",
       "    <tr>\n",
       "      <th>3</th>\n",
       "      <td>9305-CDSKC</td>\n",
       "      <td>Yes</td>\n",
       "    </tr>\n",
       "    <tr>\n",
       "      <th>4</th>\n",
       "      <td>1452-KIOVK</td>\n",
       "      <td>Yes</td>\n",
       "    </tr>\n",
       "  </tbody>\n",
       "</table>\n",
       "</div>"
      ],
      "text/plain": [
       "   customerID MultipleLines\n",
       "0  5575-GNVDE            No\n",
       "1  3668-QPYBK            No\n",
       "2  9237-HQITU            No\n",
       "3  9305-CDSKC           Yes\n",
       "4  1452-KIOVK           Yes"
      ]
     },
     "metadata": {},
     "output_type": "display_data"
    },
    {
     "data": {
      "text/html": [
       "<div>\n",
       "<style scoped>\n",
       "    .dataframe tbody tr th:only-of-type {\n",
       "        vertical-align: middle;\n",
       "    }\n",
       "\n",
       "    .dataframe tbody tr th {\n",
       "        vertical-align: top;\n",
       "    }\n",
       "\n",
       "    .dataframe thead th {\n",
       "        text-align: right;\n",
       "    }\n",
       "</style>\n",
       "<table border=\"1\" class=\"dataframe\">\n",
       "  <thead>\n",
       "    <tr style=\"text-align: right;\">\n",
       "      <th></th>\n",
       "      <th>customerID</th>\n",
       "      <th>MultipleLines</th>\n",
       "    </tr>\n",
       "  </thead>\n",
       "  <tbody>\n",
       "    <tr>\n",
       "      <th>count</th>\n",
       "      <td>6361</td>\n",
       "      <td>6361</td>\n",
       "    </tr>\n",
       "    <tr>\n",
       "      <th>unique</th>\n",
       "      <td>6361</td>\n",
       "      <td>2</td>\n",
       "    </tr>\n",
       "    <tr>\n",
       "      <th>top</th>\n",
       "      <td>5575-GNVDE</td>\n",
       "      <td>No</td>\n",
       "    </tr>\n",
       "    <tr>\n",
       "      <th>freq</th>\n",
       "      <td>1</td>\n",
       "      <td>3390</td>\n",
       "    </tr>\n",
       "  </tbody>\n",
       "</table>\n",
       "</div>"
      ],
      "text/plain": [
       "        customerID MultipleLines\n",
       "count         6361          6361\n",
       "unique        6361             2\n",
       "top     5575-GNVDE            No\n",
       "freq             1          3390"
      ]
     },
     "metadata": {},
     "output_type": "display_data"
    },
    {
     "name": "stdout",
     "output_type": "stream",
     "text": [
      "<class 'pandas.core.frame.DataFrame'>\n",
      "RangeIndex: 6361 entries, 0 to 6360\n",
      "Data columns (total 2 columns):\n",
      " #   Column         Non-Null Count  Dtype \n",
      "---  ------         --------------  ----- \n",
      " 0   customerID     6361 non-null   object\n",
      " 1   MultipleLines  6361 non-null   object\n",
      "dtypes: object(2)\n",
      "memory usage: 99.5+ KB\n"
     ]
    },
    {
     "data": {
      "text/plain": [
       "None"
      ]
     },
     "metadata": {},
     "output_type": "display_data"
    },
    {
     "name": "stdout",
     "output_type": "stream",
     "text": [
      "________________________________________________________________________________\n"
     ]
    }
   ],
   "source": [
    "#Поочередно откроем и изучим таблицы\n",
    "contract = pd.read_csv('/Users/Varvara/Documents/dataset/contract_new.csv')\n",
    "personal = pd.read_csv('/Users/Varvara/Documents/dataset/personal_new.csv')\n",
    "internet = pd.read_csv('/Users/Varvara/Documents/dataset/internet_new.csv')\n",
    "phone = pd.read_csv('/Users/Varvara/Documents/dataset/phone_new.csv')\n",
    "\n",
    "data_list = [contract, personal, internet, phone]\n",
    "for data in data_list:\n",
    "    display(data.head())\n",
    "    display(data.describe())\n",
    "    display(data.info())\n",
    "    print('________________________________________________________________________________')"
   ]
  },
  {
   "cell_type": "markdown",
   "metadata": {},
   "source": [
    "**Выводы**\n",
    "\n",
    "Данные предоставлены в 4 таблицах. Таблицы contract_new и personal_new содержат по 7043 строки без пропусков. В internet_new содержится 5517 строк без пропусков.  В таблице phone_new 6361 строка без пропущенных значений. Неправильно определен тип данных у столбца TotalCharges, названия столбцов не соответсвуют хорошему стилю."
   ]
  },
  {
   "cell_type": "markdown",
   "metadata": {},
   "source": [
    "## Предобработка данных"
   ]
  },
  {
   "cell_type": "code",
   "execution_count": 7,
   "metadata": {},
   "outputs": [
    {
     "data": {
      "text/plain": [
       "0"
      ]
     },
     "metadata": {},
     "output_type": "display_data"
    },
    {
     "data": {
      "text/plain": [
       "0"
      ]
     },
     "metadata": {},
     "output_type": "display_data"
    },
    {
     "data": {
      "text/plain": [
       "0"
      ]
     },
     "metadata": {},
     "output_type": "display_data"
    },
    {
     "data": {
      "text/plain": [
       "0"
      ]
     },
     "metadata": {},
     "output_type": "display_data"
    }
   ],
   "source": [
    "#Проверим данные на наличие явных дубликатов\n",
    "for data in data_list:\n",
    "    display(data.duplicated().sum())"
   ]
  },
  {
   "cell_type": "code",
   "execution_count": 8,
   "metadata": {},
   "outputs": [
    {
     "name": "stdout",
     "output_type": "stream",
     "text": [
      "<class 'pandas.core.frame.DataFrame'>\n",
      "RangeIndex: 7043 entries, 0 to 7042\n",
      "Data columns (total 8 columns):\n",
      " #   Column             Non-Null Count  Dtype  \n",
      "---  ------             --------------  -----  \n",
      " 0   customer_i_d       7043 non-null   object \n",
      " 1   begin_date         7043 non-null   object \n",
      " 2   end_date           7043 non-null   object \n",
      " 3   type               7043 non-null   object \n",
      " 4   paperless_billing  7043 non-null   object \n",
      " 5   payment_method     7043 non-null   object \n",
      " 6   monthly_charges    7043 non-null   float64\n",
      " 7   total_charges      7043 non-null   object \n",
      "dtypes: float64(1), object(7)\n",
      "memory usage: 440.3+ KB\n",
      "<class 'pandas.core.frame.DataFrame'>\n",
      "RangeIndex: 7043 entries, 0 to 7042\n",
      "Data columns (total 5 columns):\n",
      " #   Column          Non-Null Count  Dtype \n",
      "---  ------          --------------  ----- \n",
      " 0   customer_i_d    7043 non-null   object\n",
      " 1   gender          7043 non-null   object\n",
      " 2   senior_citizen  7043 non-null   int64 \n",
      " 3   partner         7043 non-null   object\n",
      " 4   dependents      7043 non-null   object\n",
      "dtypes: int64(1), object(4)\n",
      "memory usage: 275.2+ KB\n",
      "<class 'pandas.core.frame.DataFrame'>\n",
      "RangeIndex: 5517 entries, 0 to 5516\n",
      "Data columns (total 8 columns):\n",
      " #   Column             Non-Null Count  Dtype \n",
      "---  ------             --------------  ----- \n",
      " 0   customer_i_d       5517 non-null   object\n",
      " 1   internet_service   5517 non-null   object\n",
      " 2   online_security    5517 non-null   object\n",
      " 3   online_backup      5517 non-null   object\n",
      " 4   device_protection  5517 non-null   object\n",
      " 5   tech_support       5517 non-null   object\n",
      " 6   streaming_t_v      5517 non-null   object\n",
      " 7   streaming_movies   5517 non-null   object\n",
      "dtypes: object(8)\n",
      "memory usage: 344.9+ KB\n",
      "<class 'pandas.core.frame.DataFrame'>\n",
      "RangeIndex: 6361 entries, 0 to 6360\n",
      "Data columns (total 2 columns):\n",
      " #   Column          Non-Null Count  Dtype \n",
      "---  ------          --------------  ----- \n",
      " 0   customer_i_d    6361 non-null   object\n",
      " 1   multiple_lines  6361 non-null   object\n",
      "dtypes: object(2)\n",
      "memory usage: 99.5+ KB\n"
     ]
    }
   ],
   "source": [
    "#Приведем названия столбцов в соответсвие хорошему стилю\n",
    "for data in data_list:\n",
    "    data.columns = [re.sub(r'(?<!^)(?=[A-Z])', '_', i).lower() for i in data.columns]\n",
    "    data.info()"
   ]
  },
  {
   "cell_type": "code",
   "execution_count": 9,
   "metadata": {},
   "outputs": [
    {
     "name": "stdout",
     "output_type": "stream",
     "text": [
      "<class 'pandas.core.frame.DataFrame'>\n",
      "RangeIndex: 5517 entries, 0 to 5516\n",
      "Data columns (total 8 columns):\n",
      " #   Column             Non-Null Count  Dtype \n",
      "---  ------             --------------  ----- \n",
      " 0   customer_i_d       5517 non-null   object\n",
      " 1   internet_service   5517 non-null   object\n",
      " 2   online_security    5517 non-null   object\n",
      " 3   online_backup      5517 non-null   object\n",
      " 4   device_protection  5517 non-null   object\n",
      " 5   tech_support       5517 non-null   object\n",
      " 6   streaming_tv       5517 non-null   object\n",
      " 7   streaming_movies   5517 non-null   object\n",
      "dtypes: object(8)\n",
      "memory usage: 344.9+ KB\n"
     ]
    }
   ],
   "source": [
    "internet = internet.rename(columns={'streaming_t_v':'streaming_tv'})\n",
    "internet.info()"
   ]
  },
  {
   "cell_type": "code",
   "execution_count": 10,
   "metadata": {},
   "outputs": [
    {
     "data": {
      "text/html": [
       "<div>\n",
       "<style scoped>\n",
       "    .dataframe tbody tr th:only-of-type {\n",
       "        vertical-align: middle;\n",
       "    }\n",
       "\n",
       "    .dataframe tbody tr th {\n",
       "        vertical-align: top;\n",
       "    }\n",
       "\n",
       "    .dataframe thead th {\n",
       "        text-align: right;\n",
       "    }\n",
       "</style>\n",
       "<table border=\"1\" class=\"dataframe\">\n",
       "  <thead>\n",
       "    <tr style=\"text-align: right;\">\n",
       "      <th></th>\n",
       "      <th>customer_i_d</th>\n",
       "      <th>gender</th>\n",
       "      <th>senior_citizen</th>\n",
       "      <th>partner</th>\n",
       "      <th>dependents</th>\n",
       "      <th>begin_date</th>\n",
       "      <th>end_date</th>\n",
       "      <th>type</th>\n",
       "      <th>paperless_billing</th>\n",
       "      <th>payment_method</th>\n",
       "      <th>monthly_charges</th>\n",
       "      <th>total_charges</th>\n",
       "      <th>internet_service</th>\n",
       "      <th>online_security</th>\n",
       "      <th>online_backup</th>\n",
       "      <th>device_protection</th>\n",
       "      <th>tech_support</th>\n",
       "      <th>streaming_tv</th>\n",
       "      <th>streaming_movies</th>\n",
       "      <th>multiple_lines</th>\n",
       "    </tr>\n",
       "  </thead>\n",
       "  <tbody>\n",
       "    <tr>\n",
       "      <th>0</th>\n",
       "      <td>7590-VHVEG</td>\n",
       "      <td>Female</td>\n",
       "      <td>0</td>\n",
       "      <td>Yes</td>\n",
       "      <td>No</td>\n",
       "      <td>2020-01-01</td>\n",
       "      <td>No</td>\n",
       "      <td>Month-to-month</td>\n",
       "      <td>Yes</td>\n",
       "      <td>Electronic check</td>\n",
       "      <td>29.85</td>\n",
       "      <td>31.04</td>\n",
       "      <td>DSL</td>\n",
       "      <td>No</td>\n",
       "      <td>Yes</td>\n",
       "      <td>No</td>\n",
       "      <td>No</td>\n",
       "      <td>No</td>\n",
       "      <td>No</td>\n",
       "      <td>NaN</td>\n",
       "    </tr>\n",
       "    <tr>\n",
       "      <th>1</th>\n",
       "      <td>5575-GNVDE</td>\n",
       "      <td>Male</td>\n",
       "      <td>0</td>\n",
       "      <td>No</td>\n",
       "      <td>No</td>\n",
       "      <td>2017-04-01</td>\n",
       "      <td>No</td>\n",
       "      <td>One year</td>\n",
       "      <td>No</td>\n",
       "      <td>Mailed check</td>\n",
       "      <td>56.95</td>\n",
       "      <td>2071.84</td>\n",
       "      <td>DSL</td>\n",
       "      <td>Yes</td>\n",
       "      <td>No</td>\n",
       "      <td>Yes</td>\n",
       "      <td>No</td>\n",
       "      <td>No</td>\n",
       "      <td>No</td>\n",
       "      <td>No</td>\n",
       "    </tr>\n",
       "    <tr>\n",
       "      <th>2</th>\n",
       "      <td>3668-QPYBK</td>\n",
       "      <td>Male</td>\n",
       "      <td>0</td>\n",
       "      <td>No</td>\n",
       "      <td>No</td>\n",
       "      <td>2019-10-01</td>\n",
       "      <td>No</td>\n",
       "      <td>Month-to-month</td>\n",
       "      <td>Yes</td>\n",
       "      <td>Mailed check</td>\n",
       "      <td>53.85</td>\n",
       "      <td>226.17</td>\n",
       "      <td>DSL</td>\n",
       "      <td>Yes</td>\n",
       "      <td>Yes</td>\n",
       "      <td>No</td>\n",
       "      <td>No</td>\n",
       "      <td>No</td>\n",
       "      <td>No</td>\n",
       "      <td>No</td>\n",
       "    </tr>\n",
       "    <tr>\n",
       "      <th>3</th>\n",
       "      <td>7795-CFOCW</td>\n",
       "      <td>Male</td>\n",
       "      <td>0</td>\n",
       "      <td>No</td>\n",
       "      <td>No</td>\n",
       "      <td>2016-05-01</td>\n",
       "      <td>No</td>\n",
       "      <td>One year</td>\n",
       "      <td>No</td>\n",
       "      <td>Bank transfer (automatic)</td>\n",
       "      <td>42.30</td>\n",
       "      <td>1960.6</td>\n",
       "      <td>DSL</td>\n",
       "      <td>Yes</td>\n",
       "      <td>No</td>\n",
       "      <td>Yes</td>\n",
       "      <td>Yes</td>\n",
       "      <td>No</td>\n",
       "      <td>No</td>\n",
       "      <td>NaN</td>\n",
       "    </tr>\n",
       "    <tr>\n",
       "      <th>4</th>\n",
       "      <td>9237-HQITU</td>\n",
       "      <td>Female</td>\n",
       "      <td>0</td>\n",
       "      <td>No</td>\n",
       "      <td>No</td>\n",
       "      <td>2019-09-01</td>\n",
       "      <td>No</td>\n",
       "      <td>Month-to-month</td>\n",
       "      <td>Yes</td>\n",
       "      <td>Electronic check</td>\n",
       "      <td>70.70</td>\n",
       "      <td>353.5</td>\n",
       "      <td>Fiber optic</td>\n",
       "      <td>No</td>\n",
       "      <td>No</td>\n",
       "      <td>No</td>\n",
       "      <td>No</td>\n",
       "      <td>No</td>\n",
       "      <td>No</td>\n",
       "      <td>No</td>\n",
       "    </tr>\n",
       "  </tbody>\n",
       "</table>\n",
       "</div>"
      ],
      "text/plain": [
       "  customer_i_d  gender  senior_citizen partner dependents  begin_date  \\\n",
       "0   7590-VHVEG  Female               0     Yes         No  2020-01-01   \n",
       "1   5575-GNVDE    Male               0      No         No  2017-04-01   \n",
       "2   3668-QPYBK    Male               0      No         No  2019-10-01   \n",
       "3   7795-CFOCW    Male               0      No         No  2016-05-01   \n",
       "4   9237-HQITU  Female               0      No         No  2019-09-01   \n",
       "\n",
       "  end_date            type paperless_billing             payment_method  \\\n",
       "0       No  Month-to-month               Yes           Electronic check   \n",
       "1       No        One year                No               Mailed check   \n",
       "2       No  Month-to-month               Yes               Mailed check   \n",
       "3       No        One year                No  Bank transfer (automatic)   \n",
       "4       No  Month-to-month               Yes           Electronic check   \n",
       "\n",
       "   monthly_charges total_charges internet_service online_security  \\\n",
       "0            29.85         31.04              DSL              No   \n",
       "1            56.95       2071.84              DSL             Yes   \n",
       "2            53.85        226.17              DSL             Yes   \n",
       "3            42.30        1960.6              DSL             Yes   \n",
       "4            70.70         353.5      Fiber optic              No   \n",
       "\n",
       "  online_backup device_protection tech_support streaming_tv streaming_movies  \\\n",
       "0           Yes                No           No           No               No   \n",
       "1            No               Yes           No           No               No   \n",
       "2           Yes                No           No           No               No   \n",
       "3            No               Yes          Yes           No               No   \n",
       "4            No                No           No           No               No   \n",
       "\n",
       "  multiple_lines  \n",
       "0            NaN  \n",
       "1             No  \n",
       "2             No  \n",
       "3            NaN  \n",
       "4             No  "
      ]
     },
     "execution_count": 10,
     "metadata": {},
     "output_type": "execute_result"
    }
   ],
   "source": [
    "#Объединим таблицы в одну\n",
    "full = personal.merge(contract, how = 'left', on = 'customer_i_d')\\\n",
    "                          .merge(internet, how = 'left', on = 'customer_i_d')\\\n",
    "                          .merge(phone, how = 'left', on = 'customer_i_d')\n",
    "full.head()"
   ]
  },
  {
   "cell_type": "code",
   "execution_count": 11,
   "metadata": {},
   "outputs": [
    {
     "name": "stdout",
     "output_type": "stream",
     "text": [
      "<class 'pandas.core.frame.DataFrame'>\n",
      "Int64Index: 7043 entries, 0 to 7042\n",
      "Data columns (total 20 columns):\n",
      " #   Column             Non-Null Count  Dtype  \n",
      "---  ------             --------------  -----  \n",
      " 0   customer_id        7043 non-null   object \n",
      " 1   gender             7043 non-null   object \n",
      " 2   senior_citizen     7043 non-null   int64  \n",
      " 3   partner            7043 non-null   object \n",
      " 4   dependents         7043 non-null   object \n",
      " 5   begin_date         7043 non-null   object \n",
      " 6   end_date           7043 non-null   object \n",
      " 7   type               7043 non-null   object \n",
      " 8   paperless_billing  7043 non-null   object \n",
      " 9   payment_method     7043 non-null   object \n",
      " 10  monthly_charges    7043 non-null   float64\n",
      " 11  total_charges      7043 non-null   object \n",
      " 12  internet_service   5517 non-null   object \n",
      " 13  online_security    5517 non-null   object \n",
      " 14  online_backup      5517 non-null   object \n",
      " 15  device_protection  5517 non-null   object \n",
      " 16  tech_support       5517 non-null   object \n",
      " 17  streaming_tv       5517 non-null   object \n",
      " 18  streaming_movies   5517 non-null   object \n",
      " 19  multiple_lines     6361 non-null   object \n",
      "dtypes: float64(1), int64(1), object(18)\n",
      "memory usage: 1.1+ MB\n"
     ]
    }
   ],
   "source": [
    "#Проверим, что после объединения количество строк осталось максимальным заодно поправим название первого столбца\n",
    "full = full.rename(columns={'customer_i_d':'customer_id'})\n",
    "full.info()"
   ]
  },
  {
   "cell_type": "markdown",
   "metadata": {},
   "source": [
    "В столбце total_charges были пустые значения, с ними поменять тип данных было невозможно, поэтому мы заменили их на NaN. В столбце end_date были даты и значение No, для корректной смены типа данных, была произведена замена таких значений на последний день выгрузки датасета - 1 февраля 2020. Для удобства работы с данными ввели столбец is_client - отражающий целевой признак:"
   ]
  },
  {
   "cell_type": "code",
   "execution_count": 12,
   "metadata": {},
   "outputs": [],
   "source": [
    "#Заменим No на '2020-02-01' в end_date и обозначим новый столбец is_client\n",
    "full['end_date'] = full['end_date'].replace('No', '2020-02-01')\n",
    "full['is_client'] = full['end_date'].apply(lambda x: 1 if x == '2020-02-01' else 0)"
   ]
  },
  {
   "cell_type": "code",
   "execution_count": 13,
   "metadata": {},
   "outputs": [
    {
     "name": "stdout",
     "output_type": "stream",
     "text": [
      "<class 'pandas.core.frame.DataFrame'>\n",
      "Int64Index: 7043 entries, 0 to 7042\n",
      "Data columns (total 21 columns):\n",
      " #   Column             Non-Null Count  Dtype         \n",
      "---  ------             --------------  -----         \n",
      " 0   customer_id        7043 non-null   object        \n",
      " 1   gender             7043 non-null   object        \n",
      " 2   senior_citizen     7043 non-null   object        \n",
      " 3   partner            7043 non-null   object        \n",
      " 4   dependents         7043 non-null   object        \n",
      " 5   begin_date         7043 non-null   datetime64[ns]\n",
      " 6   end_date           7043 non-null   datetime64[ns]\n",
      " 7   type               7043 non-null   object        \n",
      " 8   paperless_billing  7043 non-null   object        \n",
      " 9   payment_method     7043 non-null   object        \n",
      " 10  monthly_charges    7043 non-null   float64       \n",
      " 11  total_charges      7032 non-null   float64       \n",
      " 12  internet_service   5517 non-null   object        \n",
      " 13  online_security    5517 non-null   object        \n",
      " 14  online_backup      5517 non-null   object        \n",
      " 15  device_protection  5517 non-null   object        \n",
      " 16  tech_support       5517 non-null   object        \n",
      " 17  streaming_tv       5517 non-null   object        \n",
      " 18  streaming_movies   5517 non-null   object        \n",
      " 19  multiple_lines     6361 non-null   object        \n",
      " 20  is_client          7043 non-null   int64         \n",
      "dtypes: datetime64[ns](2), float64(2), int64(1), object(16)\n",
      "memory usage: 1.2+ MB\n"
     ]
    }
   ],
   "source": [
    "#Изменим тип данных столбцов total_charges, senior_citizen, begin_date и end_date\n",
    "full['total_charges'] = pd.to_numeric(full['total_charges'], errors = 'coerce') \n",
    "full['senior_citizen'] = full['senior_citizen'].astype('object')\n",
    "\n",
    "full['begin_date'] = pd.to_datetime(full['begin_date'], format='%Y-%m-%d')\n",
    "full['end_date'] = pd.to_datetime(full['end_date'], format='%Y-%m-%d')\n",
    "full.info()"
   ]
  },
  {
   "cell_type": "markdown",
   "metadata": {},
   "source": [
    "Для заполнения пропусков в total_charges было принято решение взять данные из monthly_charges, так как скорее всего это новые пользователи, которые пока немного пользуются услугами. В остальных столбцах для корректной разметки в будующем вместо пропусков введены значения No_internet и No_phone для соответсвующих строк."
   ]
  },
  {
   "cell_type": "code",
   "execution_count": 14,
   "metadata": {},
   "outputs": [
    {
     "name": "stdout",
     "output_type": "stream",
     "text": [
      "<class 'pandas.core.frame.DataFrame'>\n",
      "Int64Index: 7043 entries, 0 to 7042\n",
      "Data columns (total 21 columns):\n",
      " #   Column             Non-Null Count  Dtype         \n",
      "---  ------             --------------  -----         \n",
      " 0   customer_id        7043 non-null   object        \n",
      " 1   gender             7043 non-null   object        \n",
      " 2   senior_citizen     7043 non-null   object        \n",
      " 3   partner            7043 non-null   object        \n",
      " 4   dependents         7043 non-null   object        \n",
      " 5   begin_date         7043 non-null   datetime64[ns]\n",
      " 6   end_date           7043 non-null   datetime64[ns]\n",
      " 7   type               7043 non-null   object        \n",
      " 8   paperless_billing  7043 non-null   object        \n",
      " 9   payment_method     7043 non-null   object        \n",
      " 10  monthly_charges    7043 non-null   float64       \n",
      " 11  total_charges      7043 non-null   float64       \n",
      " 12  internet_service   7043 non-null   object        \n",
      " 13  online_security    7043 non-null   object        \n",
      " 14  online_backup      7043 non-null   object        \n",
      " 15  device_protection  7043 non-null   object        \n",
      " 16  tech_support       7043 non-null   object        \n",
      " 17  streaming_tv       7043 non-null   object        \n",
      " 18  streaming_movies   7043 non-null   object        \n",
      " 19  multiple_lines     7043 non-null   object        \n",
      " 20  is_client          7043 non-null   int64         \n",
      "dtypes: datetime64[ns](2), float64(2), int64(1), object(16)\n",
      "memory usage: 1.2+ MB\n"
     ]
    }
   ],
   "source": [
    "#Заполним пропуски, где это возможно\n",
    "full['total_charges'] = full['total_charges'].fillna(full['monthly_charges'])\n",
    "full['internet_service'] = full['internet_service'].fillna('No_internet')\n",
    "full['online_security'] = full['online_security'].fillna('No_internet')\n",
    "full['online_backup'] = full['online_backup'].fillna('No_internet')\n",
    "full['device_protection'] = full['device_protection'].fillna('No_internet')\n",
    "full['tech_support'] = full['tech_support'].fillna('No_internet')\n",
    "full['streaming_tv'] = full['streaming_tv'].fillna('No_internet')\n",
    "full['streaming_movies'] = full['streaming_movies'].fillna('No_internet')\n",
    "full['multiple_lines'] = full['multiple_lines'].fillna('No_phone')\n",
    "                              \n",
    "full.info()"
   ]
  },
  {
   "cell_type": "markdown",
   "metadata": {},
   "source": [
    "**Выводы**\n",
    "\n",
    "В ходе предобработки данных явных дубликатов не выявлено. Названия столбцов приведены в соответсвие с хорошим стилем. \n",
    "\n",
    "Для дальнейшего исследования данных, таблицы были объедены в одну по столбцу customer_id. Количество строк в общей таблице соответвует наибольшему количеству строк из 4 таблиц (таблица contract). \n",
    "\n",
    "Типы данных некоторых столбцов были изменены: total_charges переведен в float64,senior_citizen в object, begin_date и end_date в datetime64.  Для удобства работы с данными ввели столбец is_client - отражающий целевой признак: остался клиент или ушел. В ходе объединения таблиц появились пропуски. Они были заполнены значениями, исходя из назначения столбца. Заполнение пропусков необходимо для повышения качества будующих моделей и корректной разметки данных в исследовательском анализе. "
   ]
  },
  {
   "cell_type": "markdown",
   "metadata": {},
   "source": [
    "## Исследовательский анализ данных"
   ]
  },
  {
   "cell_type": "markdown",
   "metadata": {},
   "source": [
    "Создадим дополнительные столбцы с длительностью контракта в днях, количеством дополнительных услуг:"
   ]
  },
  {
   "cell_type": "code",
   "execution_count": 15,
   "metadata": {
    "scrolled": true
   },
   "outputs": [
    {
     "data": {
      "text/html": [
       "<div>\n",
       "<style scoped>\n",
       "    .dataframe tbody tr th:only-of-type {\n",
       "        vertical-align: middle;\n",
       "    }\n",
       "\n",
       "    .dataframe tbody tr th {\n",
       "        vertical-align: top;\n",
       "    }\n",
       "\n",
       "    .dataframe thead th {\n",
       "        text-align: right;\n",
       "    }\n",
       "</style>\n",
       "<table border=\"1\" class=\"dataframe\">\n",
       "  <thead>\n",
       "    <tr style=\"text-align: right;\">\n",
       "      <th></th>\n",
       "      <th>customer_id</th>\n",
       "      <th>gender</th>\n",
       "      <th>senior_citizen</th>\n",
       "      <th>partner</th>\n",
       "      <th>dependents</th>\n",
       "      <th>begin_date</th>\n",
       "      <th>end_date</th>\n",
       "      <th>type</th>\n",
       "      <th>paperless_billing</th>\n",
       "      <th>payment_method</th>\n",
       "      <th>...</th>\n",
       "      <th>online_security</th>\n",
       "      <th>online_backup</th>\n",
       "      <th>device_protection</th>\n",
       "      <th>tech_support</th>\n",
       "      <th>streaming_tv</th>\n",
       "      <th>streaming_movies</th>\n",
       "      <th>multiple_lines</th>\n",
       "      <th>is_client</th>\n",
       "      <th>duration_contract_days</th>\n",
       "      <th>num_services</th>\n",
       "    </tr>\n",
       "  </thead>\n",
       "  <tbody>\n",
       "    <tr>\n",
       "      <th>0</th>\n",
       "      <td>7590-VHVEG</td>\n",
       "      <td>Female</td>\n",
       "      <td>0</td>\n",
       "      <td>Yes</td>\n",
       "      <td>No</td>\n",
       "      <td>2020-01-01</td>\n",
       "      <td>2020-02-01</td>\n",
       "      <td>Month-to-month</td>\n",
       "      <td>Yes</td>\n",
       "      <td>Electronic check</td>\n",
       "      <td>...</td>\n",
       "      <td>No</td>\n",
       "      <td>Yes</td>\n",
       "      <td>No</td>\n",
       "      <td>No</td>\n",
       "      <td>No</td>\n",
       "      <td>No</td>\n",
       "      <td>No_phone</td>\n",
       "      <td>1</td>\n",
       "      <td>31</td>\n",
       "      <td>1</td>\n",
       "    </tr>\n",
       "    <tr>\n",
       "      <th>1</th>\n",
       "      <td>5575-GNVDE</td>\n",
       "      <td>Male</td>\n",
       "      <td>0</td>\n",
       "      <td>No</td>\n",
       "      <td>No</td>\n",
       "      <td>2017-04-01</td>\n",
       "      <td>2020-02-01</td>\n",
       "      <td>One year</td>\n",
       "      <td>No</td>\n",
       "      <td>Mailed check</td>\n",
       "      <td>...</td>\n",
       "      <td>Yes</td>\n",
       "      <td>No</td>\n",
       "      <td>Yes</td>\n",
       "      <td>No</td>\n",
       "      <td>No</td>\n",
       "      <td>No</td>\n",
       "      <td>No</td>\n",
       "      <td>1</td>\n",
       "      <td>1036</td>\n",
       "      <td>2</td>\n",
       "    </tr>\n",
       "    <tr>\n",
       "      <th>2</th>\n",
       "      <td>3668-QPYBK</td>\n",
       "      <td>Male</td>\n",
       "      <td>0</td>\n",
       "      <td>No</td>\n",
       "      <td>No</td>\n",
       "      <td>2019-10-01</td>\n",
       "      <td>2020-02-01</td>\n",
       "      <td>Month-to-month</td>\n",
       "      <td>Yes</td>\n",
       "      <td>Mailed check</td>\n",
       "      <td>...</td>\n",
       "      <td>Yes</td>\n",
       "      <td>Yes</td>\n",
       "      <td>No</td>\n",
       "      <td>No</td>\n",
       "      <td>No</td>\n",
       "      <td>No</td>\n",
       "      <td>No</td>\n",
       "      <td>1</td>\n",
       "      <td>123</td>\n",
       "      <td>2</td>\n",
       "    </tr>\n",
       "    <tr>\n",
       "      <th>3</th>\n",
       "      <td>7795-CFOCW</td>\n",
       "      <td>Male</td>\n",
       "      <td>0</td>\n",
       "      <td>No</td>\n",
       "      <td>No</td>\n",
       "      <td>2016-05-01</td>\n",
       "      <td>2020-02-01</td>\n",
       "      <td>One year</td>\n",
       "      <td>No</td>\n",
       "      <td>Bank transfer (automatic)</td>\n",
       "      <td>...</td>\n",
       "      <td>Yes</td>\n",
       "      <td>No</td>\n",
       "      <td>Yes</td>\n",
       "      <td>Yes</td>\n",
       "      <td>No</td>\n",
       "      <td>No</td>\n",
       "      <td>No_phone</td>\n",
       "      <td>1</td>\n",
       "      <td>1371</td>\n",
       "      <td>3</td>\n",
       "    </tr>\n",
       "    <tr>\n",
       "      <th>4</th>\n",
       "      <td>9237-HQITU</td>\n",
       "      <td>Female</td>\n",
       "      <td>0</td>\n",
       "      <td>No</td>\n",
       "      <td>No</td>\n",
       "      <td>2019-09-01</td>\n",
       "      <td>2020-02-01</td>\n",
       "      <td>Month-to-month</td>\n",
       "      <td>Yes</td>\n",
       "      <td>Electronic check</td>\n",
       "      <td>...</td>\n",
       "      <td>No</td>\n",
       "      <td>No</td>\n",
       "      <td>No</td>\n",
       "      <td>No</td>\n",
       "      <td>No</td>\n",
       "      <td>No</td>\n",
       "      <td>No</td>\n",
       "      <td>1</td>\n",
       "      <td>153</td>\n",
       "      <td>0</td>\n",
       "    </tr>\n",
       "  </tbody>\n",
       "</table>\n",
       "<p>5 rows × 23 columns</p>\n",
       "</div>"
      ],
      "text/plain": [
       "  customer_id  gender senior_citizen partner dependents begin_date   end_date  \\\n",
       "0  7590-VHVEG  Female              0     Yes         No 2020-01-01 2020-02-01   \n",
       "1  5575-GNVDE    Male              0      No         No 2017-04-01 2020-02-01   \n",
       "2  3668-QPYBK    Male              0      No         No 2019-10-01 2020-02-01   \n",
       "3  7795-CFOCW    Male              0      No         No 2016-05-01 2020-02-01   \n",
       "4  9237-HQITU  Female              0      No         No 2019-09-01 2020-02-01   \n",
       "\n",
       "             type paperless_billing             payment_method  ...  \\\n",
       "0  Month-to-month               Yes           Electronic check  ...   \n",
       "1        One year                No               Mailed check  ...   \n",
       "2  Month-to-month               Yes               Mailed check  ...   \n",
       "3        One year                No  Bank transfer (automatic)  ...   \n",
       "4  Month-to-month               Yes           Electronic check  ...   \n",
       "\n",
       "   online_security  online_backup device_protection tech_support streaming_tv  \\\n",
       "0               No            Yes                No           No           No   \n",
       "1              Yes             No               Yes           No           No   \n",
       "2              Yes            Yes                No           No           No   \n",
       "3              Yes             No               Yes          Yes           No   \n",
       "4               No             No                No           No           No   \n",
       "\n",
       "  streaming_movies multiple_lines is_client duration_contract_days  \\\n",
       "0               No       No_phone         1                     31   \n",
       "1               No             No         1                   1036   \n",
       "2               No             No         1                    123   \n",
       "3               No       No_phone         1                   1371   \n",
       "4               No             No         1                    153   \n",
       "\n",
       "  num_services  \n",
       "0            1  \n",
       "1            2  \n",
       "2            2  \n",
       "3            3  \n",
       "4            0  \n",
       "\n",
       "[5 rows x 23 columns]"
      ]
     },
     "execution_count": 15,
     "metadata": {},
     "output_type": "execute_result"
    }
   ],
   "source": [
    "full['duration_contract_days'] = (full['end_date'] -  full['begin_date']).dt.days\n",
    "\n",
    "cols=['online_security','online_backup','device_protection','tech_support','streaming_tv','streaming_movies']\n",
    "full['num_services']=(full[cols]=='Yes').sum(axis=1)\n",
    "full.head()"
   ]
  },
  {
   "cell_type": "markdown",
   "metadata": {},
   "source": [
    "Удалим столбец 'customer_id', так как он уникальный и неколичественный. Удалим столбцы 'begin_date' и 'end_date', так как на их основе уже был создан более показательный 'duration_contract_days'."
   ]
  },
  {
   "cell_type": "code",
   "execution_count": 16,
   "metadata": {},
   "outputs": [],
   "source": [
    "full.drop(['customer_id', 'begin_date', 'end_date'], axis= 1 , inplace= True ) "
   ]
  },
  {
   "cell_type": "code",
   "execution_count": 17,
   "metadata": {
    "scrolled": false
   },
   "outputs": [
    {
     "data": {
      "text/html": [
       "<style type=\"text/css\">\n",
       "#T_07b2c_row0_col0, #T_07b2c_row1_col1, #T_07b2c_row2_col2, #T_07b2c_row3_col3 {\n",
       "  background-color: #b40426;\n",
       "  color: #f1f1f1;\n",
       "}\n",
       "#T_07b2c_row0_col1, #T_07b2c_row0_col2, #T_07b2c_row2_col0, #T_07b2c_row2_col3 {\n",
       "  background-color: #3b4cc0;\n",
       "  color: #f1f1f1;\n",
       "}\n",
       "#T_07b2c_row0_col3 {\n",
       "  background-color: #dcdddd;\n",
       "  color: #000000;\n",
       "}\n",
       "#T_07b2c_row1_col0 {\n",
       "  background-color: #e3d9d3;\n",
       "  color: #000000;\n",
       "}\n",
       "#T_07b2c_row1_col2 {\n",
       "  background-color: #f29072;\n",
       "  color: #f1f1f1;\n",
       "}\n",
       "#T_07b2c_row1_col3 {\n",
       "  background-color: #d6dce4;\n",
       "  color: #000000;\n",
       "}\n",
       "#T_07b2c_row2_col1 {\n",
       "  background-color: #e1dad6;\n",
       "  color: #000000;\n",
       "}\n",
       "#T_07b2c_row3_col0 {\n",
       "  background-color: #f6bea4;\n",
       "  color: #000000;\n",
       "}\n",
       "#T_07b2c_row3_col1 {\n",
       "  background-color: #82a6fb;\n",
       "  color: #f1f1f1;\n",
       "}\n",
       "#T_07b2c_row3_col2 {\n",
       "  background-color: #9dbdff;\n",
       "  color: #000000;\n",
       "}\n",
       "</style>\n",
       "<table id=\"T_07b2c\">\n",
       "  <thead>\n",
       "    <tr>\n",
       "      <th class=\"blank level0\" >&nbsp;</th>\n",
       "      <th id=\"T_07b2c_level0_col0\" class=\"col_heading level0 col0\" >monthly_charges</th>\n",
       "      <th id=\"T_07b2c_level0_col1\" class=\"col_heading level0 col1\" >total_charges</th>\n",
       "      <th id=\"T_07b2c_level0_col2\" class=\"col_heading level0 col2\" >duration_contract_days</th>\n",
       "      <th id=\"T_07b2c_level0_col3\" class=\"col_heading level0 col3\" >num_services</th>\n",
       "    </tr>\n",
       "  </thead>\n",
       "  <tbody>\n",
       "    <tr>\n",
       "      <th id=\"T_07b2c_level0_row0\" class=\"row_heading level0 row0\" >monthly_charges</th>\n",
       "      <td id=\"T_07b2c_row0_col0\" class=\"data row0 col0\" >1.000000</td>\n",
       "      <td id=\"T_07b2c_row0_col1\" class=\"data row0 col1\" >0.630000</td>\n",
       "      <td id=\"T_07b2c_row0_col2\" class=\"data row0 col2\" >0.220000</td>\n",
       "      <td id=\"T_07b2c_row0_col3\" class=\"data row0 col3\" >0.725000</td>\n",
       "    </tr>\n",
       "    <tr>\n",
       "      <th id=\"T_07b2c_level0_row1\" class=\"row_heading level0 row1\" >total_charges</th>\n",
       "      <td id=\"T_07b2c_row1_col0\" class=\"data row1 col0\" >0.630000</td>\n",
       "      <td id=\"T_07b2c_row1_col1\" class=\"data row1 col1\" >1.000000</td>\n",
       "      <td id=\"T_07b2c_row1_col2\" class=\"data row1 col2\" >0.822000</td>\n",
       "      <td id=\"T_07b2c_row1_col3\" class=\"data row1 col3\" >0.711000</td>\n",
       "    </tr>\n",
       "    <tr>\n",
       "      <th id=\"T_07b2c_level0_row2\" class=\"row_heading level0 row2\" >duration_contract_days</th>\n",
       "      <td id=\"T_07b2c_row2_col0\" class=\"data row2 col0\" >0.220000</td>\n",
       "      <td id=\"T_07b2c_row2_col1\" class=\"data row2 col1\" >0.822000</td>\n",
       "      <td id=\"T_07b2c_row2_col2\" class=\"data row2 col2\" >1.000000</td>\n",
       "      <td id=\"T_07b2c_row2_col3\" class=\"data row2 col3\" >0.450000</td>\n",
       "    </tr>\n",
       "    <tr>\n",
       "      <th id=\"T_07b2c_level0_row3\" class=\"row_heading level0 row3\" >num_services</th>\n",
       "      <td id=\"T_07b2c_row3_col0\" class=\"data row3 col0\" >0.725000</td>\n",
       "      <td id=\"T_07b2c_row3_col1\" class=\"data row3 col1\" >0.711000</td>\n",
       "      <td id=\"T_07b2c_row3_col2\" class=\"data row3 col2\" >0.450000</td>\n",
       "      <td id=\"T_07b2c_row3_col3\" class=\"data row3 col3\" >1.000000</td>\n",
       "    </tr>\n",
       "  </tbody>\n",
       "</table>\n"
      ],
      "text/plain": [
       "<pandas.io.formats.style.Styler at 0x21b3eef0130>"
      ]
     },
     "execution_count": 17,
     "metadata": {},
     "output_type": "execute_result"
    }
   ],
   "source": [
    "#Проверим численные признаки на мультиколлинеарность\n",
    "full_corr = full.copy()\n",
    "full_corr.drop(['is_client'], axis= 1 , inplace= True )\n",
    "\n",
    "corr = full_corr.corr().round(3)\n",
    "corr.style.background_gradient(cmap='coolwarm')"
   ]
  },
  {
   "cell_type": "markdown",
   "metadata": {},
   "source": [
    "Возьмем пороговое значение коллинеарности 0.6. Столбец monthly_charges и total_charges сильно коррелируют со столбцами num_services и duration_contract_days, поэтому их необходимо удалить."
   ]
  },
  {
   "cell_type": "code",
   "execution_count": 18,
   "metadata": {},
   "outputs": [],
   "source": [
    "#Удалим столбец 'total_charges'\n",
    "full.drop(['total_charges', 'monthly_charges'], axis= 1 , inplace= True)  "
   ]
  },
  {
   "cell_type": "code",
   "execution_count": 19,
   "metadata": {
    "scrolled": true
   },
   "outputs": [
    {
     "data": {
      "text/html": [
       "<style type=\"text/css\">\n",
       "#T_7bf96_row0_col0, #T_7bf96_row1_col1, #T_7bf96_row2_col2, #T_7bf96_row3_col3, #T_7bf96_row4_col4, #T_7bf96_row5_col5, #T_7bf96_row6_col6, #T_7bf96_row7_col7, #T_7bf96_row8_col8, #T_7bf96_row9_col9, #T_7bf96_row10_col10, #T_7bf96_row11_col11, #T_7bf96_row12_col12, #T_7bf96_row13_col13, #T_7bf96_row14_col14, #T_7bf96_row15_col15, #T_7bf96_row16_col16, #T_7bf96_row17_col17 {\n",
       "  background-color: #b40426;\n",
       "  color: #f1f1f1;\n",
       "}\n",
       "#T_7bf96_row0_col1, #T_7bf96_row0_col2, #T_7bf96_row0_col3, #T_7bf96_row0_col4, #T_7bf96_row0_col5, #T_7bf96_row0_col6, #T_7bf96_row0_col7, #T_7bf96_row0_col8, #T_7bf96_row0_col9, #T_7bf96_row0_col10, #T_7bf96_row0_col11, #T_7bf96_row0_col12, #T_7bf96_row0_col13, #T_7bf96_row0_col14, #T_7bf96_row0_col15, #T_7bf96_row0_col16, #T_7bf96_row0_col17, #T_7bf96_row1_col0, #T_7bf96_row2_col0, #T_7bf96_row2_col7, #T_7bf96_row3_col0, #T_7bf96_row4_col0, #T_7bf96_row5_col0, #T_7bf96_row6_col0, #T_7bf96_row7_col0, #T_7bf96_row7_col2, #T_7bf96_row8_col0, #T_7bf96_row9_col0, #T_7bf96_row10_col0, #T_7bf96_row11_col0, #T_7bf96_row12_col0, #T_7bf96_row13_col0, #T_7bf96_row14_col0, #T_7bf96_row16_col0, #T_7bf96_row17_col0 {\n",
       "  background-color: #3b4cc0;\n",
       "  color: #f1f1f1;\n",
       "}\n",
       "#T_7bf96_row1_col2, #T_7bf96_row2_col1 {\n",
       "  background-color: #3f53c6;\n",
       "  color: #f1f1f1;\n",
       "}\n",
       "#T_7bf96_row1_col3, #T_7bf96_row3_col1 {\n",
       "  background-color: #a7c5fe;\n",
       "  color: #000000;\n",
       "}\n",
       "#T_7bf96_row1_col4, #T_7bf96_row1_col14, #T_7bf96_row2_col14, #T_7bf96_row3_col12, #T_7bf96_row4_col1, #T_7bf96_row4_col15, #T_7bf96_row12_col3, #T_7bf96_row14_col1, #T_7bf96_row14_col2, #T_7bf96_row15_col1, #T_7bf96_row15_col9, #T_7bf96_row15_col13 {\n",
       "  background-color: #5572df;\n",
       "  color: #f1f1f1;\n",
       "}\n",
       "#T_7bf96_row1_col5, #T_7bf96_row5_col1 {\n",
       "  background-color: #89acfd;\n",
       "  color: #000000;\n",
       "}\n",
       "#T_7bf96_row1_col6, #T_7bf96_row6_col1 {\n",
       "  background-color: #9bbcff;\n",
       "  color: #000000;\n",
       "}\n",
       "#T_7bf96_row1_col7, #T_7bf96_row7_col1 {\n",
       "  background-color: #6e90f2;\n",
       "  color: #f1f1f1;\n",
       "}\n",
       "#T_7bf96_row1_col8, #T_7bf96_row8_col1 {\n",
       "  background-color: #6282ea;\n",
       "  color: #f1f1f1;\n",
       "}\n",
       "#T_7bf96_row1_col9, #T_7bf96_row1_col10, #T_7bf96_row1_col12, #T_7bf96_row3_col11, #T_7bf96_row9_col1, #T_7bf96_row10_col1, #T_7bf96_row11_col3, #T_7bf96_row12_col1 {\n",
       "  background-color: #5d7ce6;\n",
       "  color: #f1f1f1;\n",
       "}\n",
       "#T_7bf96_row1_col11, #T_7bf96_row11_col1 {\n",
       "  background-color: #6485ec;\n",
       "  color: #f1f1f1;\n",
       "}\n",
       "#T_7bf96_row1_col13, #T_7bf96_row3_col8, #T_7bf96_row3_col17, #T_7bf96_row13_col1, #T_7bf96_row17_col3 {\n",
       "  background-color: #5e7de7;\n",
       "  color: #f1f1f1;\n",
       "}\n",
       "#T_7bf96_row1_col15, #T_7bf96_row9_col15, #T_7bf96_row13_col15, #T_7bf96_row15_col12 {\n",
       "  background-color: #536edd;\n",
       "  color: #f1f1f1;\n",
       "}\n",
       "#T_7bf96_row1_col16, #T_7bf96_row16_col1 {\n",
       "  background-color: #4e68d8;\n",
       "  color: #f1f1f1;\n",
       "}\n",
       "#T_7bf96_row1_col17, #T_7bf96_row17_col1 {\n",
       "  background-color: #6180e9;\n",
       "  color: #f1f1f1;\n",
       "}\n",
       "#T_7bf96_row2_col3, #T_7bf96_row3_col2 {\n",
       "  background-color: #f6bda2;\n",
       "  color: #000000;\n",
       "}\n",
       "#T_7bf96_row2_col4, #T_7bf96_row4_col2, #T_7bf96_row15_col17 {\n",
       "  background-color: #7597f6;\n",
       "  color: #f1f1f1;\n",
       "}\n",
       "#T_7bf96_row2_col5, #T_7bf96_row5_col2 {\n",
       "  background-color: #3e51c5;\n",
       "  color: #f1f1f1;\n",
       "}\n",
       "#T_7bf96_row2_col6, #T_7bf96_row4_col14, #T_7bf96_row6_col2, #T_7bf96_row14_col4 {\n",
       "  background-color: #8badfd;\n",
       "  color: #000000;\n",
       "}\n",
       "#T_7bf96_row2_col8, #T_7bf96_row2_col9, #T_7bf96_row8_col2, #T_7bf96_row9_col2 {\n",
       "  background-color: #5673e0;\n",
       "  color: #f1f1f1;\n",
       "}\n",
       "#T_7bf96_row2_col10, #T_7bf96_row3_col9, #T_7bf96_row5_col14, #T_7bf96_row9_col3, #T_7bf96_row10_col2, #T_7bf96_row14_col5 {\n",
       "  background-color: #5977e3;\n",
       "  color: #f1f1f1;\n",
       "}\n",
       "#T_7bf96_row2_col11, #T_7bf96_row2_col13, #T_7bf96_row5_col15, #T_7bf96_row10_col15, #T_7bf96_row11_col2, #T_7bf96_row13_col2 {\n",
       "  background-color: #516ddb;\n",
       "  color: #f1f1f1;\n",
       "}\n",
       "#T_7bf96_row2_col12, #T_7bf96_row3_col13, #T_7bf96_row12_col2, #T_7bf96_row13_col3, #T_7bf96_row15_col5, #T_7bf96_row15_col10 {\n",
       "  background-color: #5470de;\n",
       "  color: #f1f1f1;\n",
       "}\n",
       "#T_7bf96_row2_col15 {\n",
       "  background-color: #82a6fb;\n",
       "  color: #f1f1f1;\n",
       "}\n",
       "#T_7bf96_row2_col16, #T_7bf96_row16_col2 {\n",
       "  background-color: #d1dae9;\n",
       "  color: #000000;\n",
       "}\n",
       "#T_7bf96_row2_col17, #T_7bf96_row5_col8, #T_7bf96_row6_col15, #T_7bf96_row8_col5, #T_7bf96_row17_col2 {\n",
       "  background-color: #7ea1fa;\n",
       "  color: #f1f1f1;\n",
       "}\n",
       "#T_7bf96_row3_col4, #T_7bf96_row4_col3 {\n",
       "  background-color: #688aef;\n",
       "  color: #f1f1f1;\n",
       "}\n",
       "#T_7bf96_row3_col5, #T_7bf96_row5_col3, #T_7bf96_row6_col14, #T_7bf96_row14_col6, #T_7bf96_row17_col15 {\n",
       "  background-color: #7295f4;\n",
       "  color: #f1f1f1;\n",
       "}\n",
       "#T_7bf96_row3_col6, #T_7bf96_row6_col3 {\n",
       "  background-color: #84a7fc;\n",
       "  color: #f1f1f1;\n",
       "}\n",
       "#T_7bf96_row3_col7, #T_7bf96_row4_col5, #T_7bf96_row5_col4, #T_7bf96_row7_col3 {\n",
       "  background-color: #5b7ae5;\n",
       "  color: #f1f1f1;\n",
       "}\n",
       "#T_7bf96_row3_col10, #T_7bf96_row10_col3, #T_7bf96_row14_col15, #T_7bf96_row15_col4 {\n",
       "  background-color: #5875e1;\n",
       "  color: #f1f1f1;\n",
       "}\n",
       "#T_7bf96_row3_col14, #T_7bf96_row14_col3, #T_7bf96_row15_col0 {\n",
       "  background-color: #3d50c3;\n",
       "  color: #f1f1f1;\n",
       "}\n",
       "#T_7bf96_row3_col15 {\n",
       "  background-color: #455cce;\n",
       "  color: #f1f1f1;\n",
       "}\n",
       "#T_7bf96_row3_col16, #T_7bf96_row5_col9, #T_7bf96_row5_col10, #T_7bf96_row9_col5, #T_7bf96_row10_col5, #T_7bf96_row16_col3 {\n",
       "  background-color: #7a9df8;\n",
       "  color: #f1f1f1;\n",
       "}\n",
       "#T_7bf96_row4_col6, #T_7bf96_row6_col4 {\n",
       "  background-color: #97b8ff;\n",
       "  color: #000000;\n",
       "}\n",
       "#T_7bf96_row4_col7, #T_7bf96_row7_col4 {\n",
       "  background-color: #dedcdb;\n",
       "  color: #000000;\n",
       "}\n",
       "#T_7bf96_row4_col8, #T_7bf96_row4_col16, #T_7bf96_row16_col4 {\n",
       "  background-color: #f5c1a9;\n",
       "  color: #000000;\n",
       "}\n",
       "#T_7bf96_row4_col9, #T_7bf96_row9_col4 {\n",
       "  background-color: #efcfbf;\n",
       "  color: #000000;\n",
       "}\n",
       "#T_7bf96_row4_col10, #T_7bf96_row10_col4 {\n",
       "  background-color: #f5c2aa;\n",
       "  color: #000000;\n",
       "}\n",
       "#T_7bf96_row4_col11, #T_7bf96_row11_col4 {\n",
       "  background-color: #f7b79b;\n",
       "  color: #000000;\n",
       "}\n",
       "#T_7bf96_row4_col12, #T_7bf96_row12_col4 {\n",
       "  background-color: #e9d5cb;\n",
       "  color: #000000;\n",
       "}\n",
       "#T_7bf96_row4_col13, #T_7bf96_row13_col4 {\n",
       "  background-color: #ead5c9;\n",
       "  color: #000000;\n",
       "}\n",
       "#T_7bf96_row4_col17, #T_7bf96_row17_col4 {\n",
       "  background-color: #d8dce2;\n",
       "  color: #000000;\n",
       "}\n",
       "#T_7bf96_row5_col6, #T_7bf96_row6_col5, #T_7bf96_row16_col15 {\n",
       "  background-color: #b6cefa;\n",
       "  color: #000000;\n",
       "}\n",
       "#T_7bf96_row5_col7, #T_7bf96_row7_col5 {\n",
       "  background-color: #86a9fc;\n",
       "  color: #f1f1f1;\n",
       "}\n",
       "#T_7bf96_row5_col11, #T_7bf96_row5_col13, #T_7bf96_row11_col5, #T_7bf96_row13_col5 {\n",
       "  background-color: #7b9ff9;\n",
       "  color: #f1f1f1;\n",
       "}\n",
       "#T_7bf96_row5_col12, #T_7bf96_row12_col5 {\n",
       "  background-color: #7da0f9;\n",
       "  color: #f1f1f1;\n",
       "}\n",
       "#T_7bf96_row5_col16, #T_7bf96_row16_col5 {\n",
       "  background-color: #4257c9;\n",
       "  color: #f1f1f1;\n",
       "}\n",
       "#T_7bf96_row5_col17, #T_7bf96_row17_col5 {\n",
       "  background-color: #88abfd;\n",
       "  color: #000000;\n",
       "}\n",
       "#T_7bf96_row6_col7, #T_7bf96_row7_col6 {\n",
       "  background-color: #a6c4fe;\n",
       "  color: #000000;\n",
       "}\n",
       "#T_7bf96_row6_col8, #T_7bf96_row8_col6 {\n",
       "  background-color: #a3c2fe;\n",
       "  color: #000000;\n",
       "}\n",
       "#T_7bf96_row6_col9, #T_7bf96_row9_col6 {\n",
       "  background-color: #9dbdff;\n",
       "  color: #000000;\n",
       "}\n",
       "#T_7bf96_row6_col10, #T_7bf96_row10_col6 {\n",
       "  background-color: #9ebeff;\n",
       "  color: #000000;\n",
       "}\n",
       "#T_7bf96_row6_col11, #T_7bf96_row11_col6 {\n",
       "  background-color: #a5c3fe;\n",
       "  color: #000000;\n",
       "}\n",
       "#T_7bf96_row6_col12, #T_7bf96_row12_col6 {\n",
       "  background-color: #98b9ff;\n",
       "  color: #000000;\n",
       "}\n",
       "#T_7bf96_row6_col13, #T_7bf96_row13_col6 {\n",
       "  background-color: #9abbff;\n",
       "  color: #000000;\n",
       "}\n",
       "#T_7bf96_row6_col16, #T_7bf96_row16_col6 {\n",
       "  background-color: #afcafc;\n",
       "  color: #000000;\n",
       "}\n",
       "#T_7bf96_row6_col17, #T_7bf96_row17_col6 {\n",
       "  background-color: #a2c1ff;\n",
       "  color: #000000;\n",
       "}\n",
       "#T_7bf96_row7_col8, #T_7bf96_row8_col7, #T_7bf96_row8_col11, #T_7bf96_row10_col11, #T_7bf96_row10_col12, #T_7bf96_row11_col8, #T_7bf96_row11_col10, #T_7bf96_row12_col10 {\n",
       "  background-color: #c53334;\n",
       "  color: #f1f1f1;\n",
       "}\n",
       "#T_7bf96_row7_col9, #T_7bf96_row7_col10, #T_7bf96_row8_col12, #T_7bf96_row8_col13, #T_7bf96_row9_col7, #T_7bf96_row10_col7, #T_7bf96_row12_col8, #T_7bf96_row13_col8 {\n",
       "  background-color: #c83836;\n",
       "  color: #f1f1f1;\n",
       "}\n",
       "#T_7bf96_row7_col11, #T_7bf96_row7_col12, #T_7bf96_row7_col13, #T_7bf96_row8_col9, #T_7bf96_row8_col10, #T_7bf96_row9_col8, #T_7bf96_row9_col10, #T_7bf96_row9_col11, #T_7bf96_row9_col12, #T_7bf96_row9_col13, #T_7bf96_row10_col8, #T_7bf96_row10_col9, #T_7bf96_row11_col7, #T_7bf96_row11_col9, #T_7bf96_row11_col12, #T_7bf96_row11_col13, #T_7bf96_row12_col7, #T_7bf96_row12_col9, #T_7bf96_row12_col11, #T_7bf96_row13_col7, #T_7bf96_row13_col9, #T_7bf96_row13_col11 {\n",
       "  background-color: #c73635;\n",
       "  color: #f1f1f1;\n",
       "}\n",
       "#T_7bf96_row7_col14, #T_7bf96_row11_col17, #T_7bf96_row12_col17, #T_7bf96_row13_col17, #T_7bf96_row14_col7, #T_7bf96_row17_col11, #T_7bf96_row17_col12, #T_7bf96_row17_col13 {\n",
       "  background-color: #f59d7e;\n",
       "  color: #000000;\n",
       "}\n",
       "#T_7bf96_row7_col15, #T_7bf96_row8_col15 {\n",
       "  background-color: #4961d2;\n",
       "  color: #f1f1f1;\n",
       "}\n",
       "#T_7bf96_row7_col16, #T_7bf96_row16_col7 {\n",
       "  background-color: #4c66d6;\n",
       "  color: #f1f1f1;\n",
       "}\n",
       "#T_7bf96_row7_col17, #T_7bf96_row17_col7 {\n",
       "  background-color: #f6bea4;\n",
       "  color: #000000;\n",
       "}\n",
       "#T_7bf96_row8_col3 {\n",
       "  background-color: #5f7fe8;\n",
       "  color: #f1f1f1;\n",
       "}\n",
       "#T_7bf96_row8_col4 {\n",
       "  background-color: #f5c0a7;\n",
       "  color: #000000;\n",
       "}\n",
       "#T_7bf96_row8_col14, #T_7bf96_row11_col14, #T_7bf96_row14_col8, #T_7bf96_row14_col11 {\n",
       "  background-color: #e7d7ce;\n",
       "  color: #000000;\n",
       "}\n",
       "#T_7bf96_row8_col16, #T_7bf96_row14_col16, #T_7bf96_row16_col8, #T_7bf96_row16_col14 {\n",
       "  background-color: #aec9fc;\n",
       "  color: #000000;\n",
       "}\n",
       "#T_7bf96_row8_col17 {\n",
       "  background-color: #f7a688;\n",
       "  color: #000000;\n",
       "}\n",
       "#T_7bf96_row9_col14, #T_7bf96_row10_col14, #T_7bf96_row14_col9, #T_7bf96_row14_col10 {\n",
       "  background-color: #ecd3c5;\n",
       "  color: #000000;\n",
       "}\n",
       "#T_7bf96_row9_col16, #T_7bf96_row16_col9 {\n",
       "  background-color: #b5cdfa;\n",
       "  color: #000000;\n",
       "}\n",
       "#T_7bf96_row9_col17, #T_7bf96_row17_col9 {\n",
       "  background-color: #f6a586;\n",
       "  color: #000000;\n",
       "}\n",
       "#T_7bf96_row10_col13, #T_7bf96_row13_col10 {\n",
       "  background-color: #c43032;\n",
       "  color: #f1f1f1;\n",
       "}\n",
       "#T_7bf96_row10_col16, #T_7bf96_row15_col16, #T_7bf96_row16_col10 {\n",
       "  background-color: #b7cff9;\n",
       "  color: #000000;\n",
       "}\n",
       "#T_7bf96_row10_col17, #T_7bf96_row17_col10 {\n",
       "  background-color: #f4987a;\n",
       "  color: #000000;\n",
       "}\n",
       "#T_7bf96_row11_col15, #T_7bf96_row15_col3 {\n",
       "  background-color: #485fd1;\n",
       "  color: #f1f1f1;\n",
       "}\n",
       "#T_7bf96_row11_col16, #T_7bf96_row16_col11 {\n",
       "  background-color: #b1cbfc;\n",
       "  color: #000000;\n",
       "}\n",
       "#T_7bf96_row12_col13, #T_7bf96_row13_col12 {\n",
       "  background-color: #c0282f;\n",
       "  color: #f1f1f1;\n",
       "}\n",
       "#T_7bf96_row12_col14, #T_7bf96_row13_col14, #T_7bf96_row14_col12, #T_7bf96_row14_col13 {\n",
       "  background-color: #f0cdbb;\n",
       "  color: #000000;\n",
       "}\n",
       "#T_7bf96_row12_col15 {\n",
       "  background-color: #506bda;\n",
       "  color: #f1f1f1;\n",
       "}\n",
       "#T_7bf96_row12_col16, #T_7bf96_row13_col16, #T_7bf96_row16_col12, #T_7bf96_row16_col13 {\n",
       "  background-color: #a1c0ff;\n",
       "  color: #000000;\n",
       "}\n",
       "#T_7bf96_row14_col17, #T_7bf96_row17_col14 {\n",
       "  background-color: #b2ccfb;\n",
       "  color: #000000;\n",
       "}\n",
       "#T_7bf96_row15_col2 {\n",
       "  background-color: #85a8fc;\n",
       "  color: #f1f1f1;\n",
       "}\n",
       "#T_7bf96_row15_col6 {\n",
       "  background-color: #80a3fa;\n",
       "  color: #f1f1f1;\n",
       "}\n",
       "#T_7bf96_row15_col7, #T_7bf96_row15_col8 {\n",
       "  background-color: #4b64d5;\n",
       "  color: #f1f1f1;\n",
       "}\n",
       "#T_7bf96_row15_col11 {\n",
       "  background-color: #4a63d3;\n",
       "  color: #f1f1f1;\n",
       "}\n",
       "#T_7bf96_row15_col14 {\n",
       "  background-color: #5a78e4;\n",
       "  color: #f1f1f1;\n",
       "}\n",
       "#T_7bf96_row16_col17, #T_7bf96_row17_col16 {\n",
       "  background-color: #c7d7f0;\n",
       "  color: #000000;\n",
       "}\n",
       "#T_7bf96_row17_col8 {\n",
       "  background-color: #f7a889;\n",
       "  color: #000000;\n",
       "}\n",
       "</style>\n",
       "<table id=\"T_7bf96\">\n",
       "  <thead>\n",
       "    <tr>\n",
       "      <th class=\"blank level0\" >&nbsp;</th>\n",
       "      <th id=\"T_7bf96_level0_col0\" class=\"col_heading level0 col0\" >gender</th>\n",
       "      <th id=\"T_7bf96_level0_col1\" class=\"col_heading level0 col1\" >senior_citizen</th>\n",
       "      <th id=\"T_7bf96_level0_col2\" class=\"col_heading level0 col2\" >partner</th>\n",
       "      <th id=\"T_7bf96_level0_col3\" class=\"col_heading level0 col3\" >dependents</th>\n",
       "      <th id=\"T_7bf96_level0_col4\" class=\"col_heading level0 col4\" >type</th>\n",
       "      <th id=\"T_7bf96_level0_col5\" class=\"col_heading level0 col5\" >paperless_billing</th>\n",
       "      <th id=\"T_7bf96_level0_col6\" class=\"col_heading level0 col6\" >payment_method</th>\n",
       "      <th id=\"T_7bf96_level0_col7\" class=\"col_heading level0 col7\" >internet_service</th>\n",
       "      <th id=\"T_7bf96_level0_col8\" class=\"col_heading level0 col8\" >online_security</th>\n",
       "      <th id=\"T_7bf96_level0_col9\" class=\"col_heading level0 col9\" >online_backup</th>\n",
       "      <th id=\"T_7bf96_level0_col10\" class=\"col_heading level0 col10\" >device_protection</th>\n",
       "      <th id=\"T_7bf96_level0_col11\" class=\"col_heading level0 col11\" >tech_support</th>\n",
       "      <th id=\"T_7bf96_level0_col12\" class=\"col_heading level0 col12\" >streaming_tv</th>\n",
       "      <th id=\"T_7bf96_level0_col13\" class=\"col_heading level0 col13\" >streaming_movies</th>\n",
       "      <th id=\"T_7bf96_level0_col14\" class=\"col_heading level0 col14\" >multiple_lines</th>\n",
       "      <th id=\"T_7bf96_level0_col15\" class=\"col_heading level0 col15\" >is_client</th>\n",
       "      <th id=\"T_7bf96_level0_col16\" class=\"col_heading level0 col16\" >duration_contract_days</th>\n",
       "      <th id=\"T_7bf96_level0_col17\" class=\"col_heading level0 col17\" >num_services</th>\n",
       "    </tr>\n",
       "  </thead>\n",
       "  <tbody>\n",
       "    <tr>\n",
       "      <th id=\"T_7bf96_level0_row0\" class=\"row_heading level0 row0\" >gender</th>\n",
       "      <td id=\"T_7bf96_row0_col0\" class=\"data row0 col0\" >1.000000</td>\n",
       "      <td id=\"T_7bf96_row0_col1\" class=\"data row0 col1\" >0.000000</td>\n",
       "      <td id=\"T_7bf96_row0_col2\" class=\"data row0 col2\" >0.000000</td>\n",
       "      <td id=\"T_7bf96_row0_col3\" class=\"data row0 col3\" >0.000000</td>\n",
       "      <td id=\"T_7bf96_row0_col4\" class=\"data row0 col4\" >0.000000</td>\n",
       "      <td id=\"T_7bf96_row0_col5\" class=\"data row0 col5\" >0.000000</td>\n",
       "      <td id=\"T_7bf96_row0_col6\" class=\"data row0 col6\" >0.000000</td>\n",
       "      <td id=\"T_7bf96_row0_col7\" class=\"data row0 col7\" >0.000000</td>\n",
       "      <td id=\"T_7bf96_row0_col8\" class=\"data row0 col8\" >0.001460</td>\n",
       "      <td id=\"T_7bf96_row0_col9\" class=\"data row0 col9\" >0.000000</td>\n",
       "      <td id=\"T_7bf96_row0_col10\" class=\"data row0 col10\" >0.000000</td>\n",
       "      <td id=\"T_7bf96_row0_col11\" class=\"data row0 col11\" >0.000000</td>\n",
       "      <td id=\"T_7bf96_row0_col12\" class=\"data row0 col12\" >0.000000</td>\n",
       "      <td id=\"T_7bf96_row0_col13\" class=\"data row0 col13\" >0.000000</td>\n",
       "      <td id=\"T_7bf96_row0_col14\" class=\"data row0 col14\" >0.000000</td>\n",
       "      <td id=\"T_7bf96_row0_col15\" class=\"data row0 col15\" >0.008581</td>\n",
       "      <td id=\"T_7bf96_row0_col16\" class=\"data row0 col16\" >0.000000</td>\n",
       "      <td id=\"T_7bf96_row0_col17\" class=\"data row0 col17\" >0.000000</td>\n",
       "    </tr>\n",
       "    <tr>\n",
       "      <th id=\"T_7bf96_level0_row1\" class=\"row_heading level0 row1\" >senior_citizen</th>\n",
       "      <td id=\"T_7bf96_row1_col0\" class=\"data row1 col0\" >0.000000</td>\n",
       "      <td id=\"T_7bf96_row1_col1\" class=\"data row1 col1\" >1.000000</td>\n",
       "      <td id=\"T_7bf96_row1_col2\" class=\"data row1 col2\" >0.016992</td>\n",
       "      <td id=\"T_7bf96_row1_col3\" class=\"data row1 col3\" >0.324576</td>\n",
       "      <td id=\"T_7bf96_row1_col4\" class=\"data row1 col4\" >0.086231</td>\n",
       "      <td id=\"T_7bf96_row1_col5\" class=\"data row1 col5\" >0.242133</td>\n",
       "      <td id=\"T_7bf96_row1_col6\" class=\"data row1 col6\" >0.292725</td>\n",
       "      <td id=\"T_7bf96_row1_col7\" class=\"data row1 col7\" >0.160702</td>\n",
       "      <td id=\"T_7bf96_row1_col8\" class=\"data row1 col8\" >0.127319</td>\n",
       "      <td id=\"T_7bf96_row1_col9\" class=\"data row1 col9\" >0.109995</td>\n",
       "      <td id=\"T_7bf96_row1_col10\" class=\"data row1 col10\" >0.110177</td>\n",
       "      <td id=\"T_7bf96_row1_col11\" class=\"data row1 col11\" >0.135283</td>\n",
       "      <td id=\"T_7bf96_row1_col12\" class=\"data row1 col12\" >0.111714</td>\n",
       "      <td id=\"T_7bf96_row1_col13\" class=\"data row1 col13\" >0.113778</td>\n",
       "      <td id=\"T_7bf96_row1_col14\" class=\"data row1 col14\" >0.087925</td>\n",
       "      <td id=\"T_7bf96_row1_col15\" class=\"data row1 col15\" >0.086159</td>\n",
       "      <td id=\"T_7bf96_row1_col16\" class=\"data row1 col16\" >0.063315</td>\n",
       "      <td id=\"T_7bf96_row1_col17\" class=\"data row1 col17\" >0.122972</td>\n",
       "    </tr>\n",
       "    <tr>\n",
       "      <th id=\"T_7bf96_level0_row2\" class=\"row_heading level0 row2\" >partner</th>\n",
       "      <td id=\"T_7bf96_row2_col0\" class=\"data row2 col0\" >0.000000</td>\n",
       "      <td id=\"T_7bf96_row2_col1\" class=\"data row2 col1\" >0.016992</td>\n",
       "      <td id=\"T_7bf96_row2_col2\" class=\"data row2 col2\" >1.000000</td>\n",
       "      <td id=\"T_7bf96_row2_col3\" class=\"data row2 col3\" >0.652122</td>\n",
       "      <td id=\"T_7bf96_row2_col4\" class=\"data row2 col4\" >0.179736</td>\n",
       "      <td id=\"T_7bf96_row2_col5\" class=\"data row2 col5\" >0.013218</td>\n",
       "      <td id=\"T_7bf96_row2_col6\" class=\"data row2 col6\" >0.243008</td>\n",
       "      <td id=\"T_7bf96_row2_col7\" class=\"data row2 col7\" >0.000000</td>\n",
       "      <td id=\"T_7bf96_row2_col8\" class=\"data row2 col8\" >0.091202</td>\n",
       "      <td id=\"T_7bf96_row2_col9\" class=\"data row2 col9\" >0.092012</td>\n",
       "      <td id=\"T_7bf96_row2_col10\" class=\"data row2 col10\" >0.100092</td>\n",
       "      <td id=\"T_7bf96_row2_col11\" class=\"data row2 col11\" >0.076326</td>\n",
       "      <td id=\"T_7bf96_row2_col12\" class=\"data row2 col12\" >0.082251</td>\n",
       "      <td id=\"T_7bf96_row2_col13\" class=\"data row2 col13\" >0.077506</td>\n",
       "      <td id=\"T_7bf96_row2_col14\" class=\"data row2 col14\" >0.086249</td>\n",
       "      <td id=\"T_7bf96_row2_col15\" class=\"data row2 col15\" >0.226688</td>\n",
       "      <td id=\"T_7bf96_row2_col16\" class=\"data row2 col16\" >0.453688</td>\n",
       "      <td id=\"T_7bf96_row2_col17\" class=\"data row2 col17\" >0.209510</td>\n",
       "    </tr>\n",
       "    <tr>\n",
       "      <th id=\"T_7bf96_level0_row3\" class=\"row_heading level0 row3\" >dependents</th>\n",
       "      <td id=\"T_7bf96_row3_col0\" class=\"data row3 col0\" >0.000000</td>\n",
       "      <td id=\"T_7bf96_row3_col1\" class=\"data row3 col1\" >0.324576</td>\n",
       "      <td id=\"T_7bf96_row3_col2\" class=\"data row3 col2\" >0.652122</td>\n",
       "      <td id=\"T_7bf96_row3_col3\" class=\"data row3 col3\" >1.000000</td>\n",
       "      <td id=\"T_7bf96_row3_col4\" class=\"data row3 col4\" >0.147680</td>\n",
       "      <td id=\"T_7bf96_row3_col5\" class=\"data row3 col5\" >0.172593</td>\n",
       "      <td id=\"T_7bf96_row3_col6\" class=\"data row3 col6\" >0.224903</td>\n",
       "      <td id=\"T_7bf96_row3_col7\" class=\"data row3 col7\" >0.108463</td>\n",
       "      <td id=\"T_7bf96_row3_col8\" class=\"data row3 col8\" >0.117219</td>\n",
       "      <td id=\"T_7bf96_row3_col9\" class=\"data row3 col9\" >0.097766</td>\n",
       "      <td id=\"T_7bf96_row3_col10\" class=\"data row3 col10\" >0.094597</td>\n",
       "      <td id=\"T_7bf96_row3_col11\" class=\"data row3 col11\" >0.109753</td>\n",
       "      <td id=\"T_7bf96_row3_col12\" class=\"data row3 col12\" >0.088193</td>\n",
       "      <td id=\"T_7bf96_row3_col13\" class=\"data row3 col13\" >0.084684</td>\n",
       "      <td id=\"T_7bf96_row3_col14\" class=\"data row3 col14\" >0.011198</td>\n",
       "      <td id=\"T_7bf96_row3_col15\" class=\"data row3 col15\" >0.046871</td>\n",
       "      <td id=\"T_7bf96_row3_col16\" class=\"data row3 col16\" >0.198729</td>\n",
       "      <td id=\"T_7bf96_row3_col17\" class=\"data row3 col17\" >0.114160</td>\n",
       "    </tr>\n",
       "    <tr>\n",
       "      <th id=\"T_7bf96_level0_row4\" class=\"row_heading level0 row4\" >type</th>\n",
       "      <td id=\"T_7bf96_row4_col0\" class=\"data row4 col0\" >0.000000</td>\n",
       "      <td id=\"T_7bf96_row4_col1\" class=\"data row4 col1\" >0.086231</td>\n",
       "      <td id=\"T_7bf96_row4_col2\" class=\"data row4 col2\" >0.179736</td>\n",
       "      <td id=\"T_7bf96_row4_col3\" class=\"data row4 col3\" >0.147680</td>\n",
       "      <td id=\"T_7bf96_row4_col4\" class=\"data row4 col4\" >1.000000</td>\n",
       "      <td id=\"T_7bf96_row4_col5\" class=\"data row4 col5\" >0.106860</td>\n",
       "      <td id=\"T_7bf96_row4_col6\" class=\"data row4 col6\" >0.277462</td>\n",
       "      <td id=\"T_7bf96_row4_col7\" class=\"data row4 col7\" >0.505187</td>\n",
       "      <td id=\"T_7bf96_row4_col8\" class=\"data row4 col8\" >0.636884</td>\n",
       "      <td id=\"T_7bf96_row4_col9\" class=\"data row4 col9\" >0.581660</td>\n",
       "      <td id=\"T_7bf96_row4_col10\" class=\"data row4 col10\" >0.631531</td>\n",
       "      <td id=\"T_7bf96_row4_col11\" class=\"data row4 col11\" >0.671629</td>\n",
       "      <td id=\"T_7bf96_row4_col12\" class=\"data row4 col12\" >0.549564</td>\n",
       "      <td id=\"T_7bf96_row4_col13\" class=\"data row4 col13\" >0.553556</td>\n",
       "      <td id=\"T_7bf96_row4_col14\" class=\"data row4 col14\" >0.244410</td>\n",
       "      <td id=\"T_7bf96_row4_col15\" class=\"data row4 col15\" >0.094015</td>\n",
       "      <td id=\"T_7bf96_row4_col16\" class=\"data row4 col16\" >0.634155</td>\n",
       "      <td id=\"T_7bf96_row4_col17\" class=\"data row4 col17\" >0.484338</td>\n",
       "    </tr>\n",
       "    <tr>\n",
       "      <th id=\"T_7bf96_level0_row5\" class=\"row_heading level0 row5\" >paperless_billing</th>\n",
       "      <td id=\"T_7bf96_row5_col0\" class=\"data row5 col0\" >0.000000</td>\n",
       "      <td id=\"T_7bf96_row5_col1\" class=\"data row5 col1\" >0.242133</td>\n",
       "      <td id=\"T_7bf96_row5_col2\" class=\"data row5 col2\" >0.013218</td>\n",
       "      <td id=\"T_7bf96_row5_col3\" class=\"data row5 col3\" >0.172593</td>\n",
       "      <td id=\"T_7bf96_row5_col4\" class=\"data row5 col4\" >0.106860</td>\n",
       "      <td id=\"T_7bf96_row5_col5\" class=\"data row5 col5\" >1.000000</td>\n",
       "      <td id=\"T_7bf96_row5_col6\" class=\"data row5 col6\" >0.370495</td>\n",
       "      <td id=\"T_7bf96_row5_col7\" class=\"data row5 col7\" >0.231438</td>\n",
       "      <td id=\"T_7bf96_row5_col8\" class=\"data row5 col8\" >0.208320</td>\n",
       "      <td id=\"T_7bf96_row5_col9\" class=\"data row5 col9\" >0.195321</td>\n",
       "      <td id=\"T_7bf96_row5_col10\" class=\"data row5 col10\" >0.195687</td>\n",
       "      <td id=\"T_7bf96_row5_col11\" class=\"data row5 col11\" >0.200621</td>\n",
       "      <td id=\"T_7bf96_row5_col12\" class=\"data row5 col12\" >0.204717</td>\n",
       "      <td id=\"T_7bf96_row5_col13\" class=\"data row5 col13\" >0.202241</td>\n",
       "      <td id=\"T_7bf96_row5_col14\" class=\"data row5 col14\" >0.099953</td>\n",
       "      <td id=\"T_7bf96_row5_col15\" class=\"data row5 col15\" >0.083398</td>\n",
       "      <td id=\"T_7bf96_row5_col16\" class=\"data row5 col16\" >0.026799</td>\n",
       "      <td id=\"T_7bf96_row5_col17\" class=\"data row5 col17\" >0.235657</td>\n",
       "    </tr>\n",
       "    <tr>\n",
       "      <th id=\"T_7bf96_level0_row6\" class=\"row_heading level0 row6\" >payment_method</th>\n",
       "      <td id=\"T_7bf96_row6_col0\" class=\"data row6 col0\" >0.000000</td>\n",
       "      <td id=\"T_7bf96_row6_col1\" class=\"data row6 col1\" >0.292725</td>\n",
       "      <td id=\"T_7bf96_row6_col2\" class=\"data row6 col2\" >0.243008</td>\n",
       "      <td id=\"T_7bf96_row6_col3\" class=\"data row6 col3\" >0.224903</td>\n",
       "      <td id=\"T_7bf96_row6_col4\" class=\"data row6 col4\" >0.277462</td>\n",
       "      <td id=\"T_7bf96_row6_col5\" class=\"data row6 col5\" >0.370495</td>\n",
       "      <td id=\"T_7bf96_row6_col6\" class=\"data row6 col6\" >1.000000</td>\n",
       "      <td id=\"T_7bf96_row6_col7\" class=\"data row6 col7\" >0.323886</td>\n",
       "      <td id=\"T_7bf96_row6_col8\" class=\"data row6 col8\" >0.315799</td>\n",
       "      <td id=\"T_7bf96_row6_col9\" class=\"data row6 col9\" >0.293413</td>\n",
       "      <td id=\"T_7bf96_row6_col10\" class=\"data row6 col10\" >0.297923</td>\n",
       "      <td id=\"T_7bf96_row6_col11\" class=\"data row6 col11\" >0.317713</td>\n",
       "      <td id=\"T_7bf96_row6_col12\" class=\"data row6 col12\" >0.284531</td>\n",
       "      <td id=\"T_7bf96_row6_col13\" class=\"data row6 col13\" >0.285525</td>\n",
       "      <td id=\"T_7bf96_row6_col14\" class=\"data row6 col14\" >0.174849</td>\n",
       "      <td id=\"T_7bf96_row6_col15\" class=\"data row6 col15\" >0.214832</td>\n",
       "      <td id=\"T_7bf96_row6_col16\" class=\"data row6 col16\" >0.350964</td>\n",
       "      <td id=\"T_7bf96_row6_col17\" class=\"data row6 col17\" >0.311522</td>\n",
       "    </tr>\n",
       "    <tr>\n",
       "      <th id=\"T_7bf96_level0_row7\" class=\"row_heading level0 row7\" >internet_service</th>\n",
       "      <td id=\"T_7bf96_row7_col0\" class=\"data row7 col0\" >0.000000</td>\n",
       "      <td id=\"T_7bf96_row7_col1\" class=\"data row7 col1\" >0.160702</td>\n",
       "      <td id=\"T_7bf96_row7_col2\" class=\"data row7 col2\" >0.000000</td>\n",
       "      <td id=\"T_7bf96_row7_col3\" class=\"data row7 col3\" >0.108463</td>\n",
       "      <td id=\"T_7bf96_row7_col4\" class=\"data row7 col4\" >0.505187</td>\n",
       "      <td id=\"T_7bf96_row7_col5\" class=\"data row7 col5\" >0.231438</td>\n",
       "      <td id=\"T_7bf96_row7_col6\" class=\"data row7 col6\" >0.323886</td>\n",
       "      <td id=\"T_7bf96_row7_col7\" class=\"data row7 col7\" >1.000000</td>\n",
       "      <td id=\"T_7bf96_row7_col8\" class=\"data row7 col8\" >0.949498</td>\n",
       "      <td id=\"T_7bf96_row7_col9\" class=\"data row7 col9\" >0.942842</td>\n",
       "      <td id=\"T_7bf96_row7_col10\" class=\"data row7 col10\" >0.942811</td>\n",
       "      <td id=\"T_7bf96_row7_col11\" class=\"data row7 col11\" >0.948914</td>\n",
       "      <td id=\"T_7bf96_row7_col12\" class=\"data row7 col12\" >0.946713</td>\n",
       "      <td id=\"T_7bf96_row7_col13\" class=\"data row7 col13\" >0.946294</td>\n",
       "      <td id=\"T_7bf96_row7_col14\" class=\"data row7 col14\" >0.739808</td>\n",
       "      <td id=\"T_7bf96_row7_col15\" class=\"data row7 col15\" >0.056621</td>\n",
       "      <td id=\"T_7bf96_row7_col16\" class=\"data row7 col16\" >0.060845</td>\n",
       "      <td id=\"T_7bf96_row7_col17\" class=\"data row7 col17\" >0.647446</td>\n",
       "    </tr>\n",
       "    <tr>\n",
       "      <th id=\"T_7bf96_level0_row8\" class=\"row_heading level0 row8\" >online_security</th>\n",
       "      <td id=\"T_7bf96_row8_col0\" class=\"data row8 col0\" >0.001460</td>\n",
       "      <td id=\"T_7bf96_row8_col1\" class=\"data row8 col1\" >0.127319</td>\n",
       "      <td id=\"T_7bf96_row8_col2\" class=\"data row8 col2\" >0.091202</td>\n",
       "      <td id=\"T_7bf96_row8_col3\" class=\"data row8 col3\" >0.117219</td>\n",
       "      <td id=\"T_7bf96_row8_col4\" class=\"data row8 col4\" >0.636884</td>\n",
       "      <td id=\"T_7bf96_row8_col5\" class=\"data row8 col5\" >0.208320</td>\n",
       "      <td id=\"T_7bf96_row8_col6\" class=\"data row8 col6\" >0.315799</td>\n",
       "      <td id=\"T_7bf96_row8_col7\" class=\"data row8 col7\" >0.949498</td>\n",
       "      <td id=\"T_7bf96_row8_col8\" class=\"data row8 col8\" >1.000000</td>\n",
       "      <td id=\"T_7bf96_row8_col9\" class=\"data row8 col9\" >0.947224</td>\n",
       "      <td id=\"T_7bf96_row8_col10\" class=\"data row8 col10\" >0.946787</td>\n",
       "      <td id=\"T_7bf96_row8_col11\" class=\"data row8 col11\" >0.952651</td>\n",
       "      <td id=\"T_7bf96_row8_col12\" class=\"data row8 col12\" >0.943082</td>\n",
       "      <td id=\"T_7bf96_row8_col13\" class=\"data row8 col13\" >0.943248</td>\n",
       "      <td id=\"T_7bf96_row8_col14\" class=\"data row8 col14\" >0.540261</td>\n",
       "      <td id=\"T_7bf96_row8_col15\" class=\"data row8 col15\" >0.058659</td>\n",
       "      <td id=\"T_7bf96_row8_col16\" class=\"data row8 col16\" >0.346398</td>\n",
       "      <td id=\"T_7bf96_row8_col17\" class=\"data row8 col17\" >0.715011</td>\n",
       "    </tr>\n",
       "    <tr>\n",
       "      <th id=\"T_7bf96_level0_row9\" class=\"row_heading level0 row9\" >online_backup</th>\n",
       "      <td id=\"T_7bf96_row9_col0\" class=\"data row9 col0\" >0.000000</td>\n",
       "      <td id=\"T_7bf96_row9_col1\" class=\"data row9 col1\" >0.109995</td>\n",
       "      <td id=\"T_7bf96_row9_col2\" class=\"data row9 col2\" >0.092012</td>\n",
       "      <td id=\"T_7bf96_row9_col3\" class=\"data row9 col3\" >0.097766</td>\n",
       "      <td id=\"T_7bf96_row9_col4\" class=\"data row9 col4\" >0.581660</td>\n",
       "      <td id=\"T_7bf96_row9_col5\" class=\"data row9 col5\" >0.195321</td>\n",
       "      <td id=\"T_7bf96_row9_col6\" class=\"data row9 col6\" >0.293413</td>\n",
       "      <td id=\"T_7bf96_row9_col7\" class=\"data row9 col7\" >0.942842</td>\n",
       "      <td id=\"T_7bf96_row9_col8\" class=\"data row9 col8\" >0.947224</td>\n",
       "      <td id=\"T_7bf96_row9_col9\" class=\"data row9 col9\" >1.000000</td>\n",
       "      <td id=\"T_7bf96_row9_col10\" class=\"data row9 col10\" >0.947487</td>\n",
       "      <td id=\"T_7bf96_row9_col11\" class=\"data row9 col11\" >0.947756</td>\n",
       "      <td id=\"T_7bf96_row9_col12\" class=\"data row9 col12\" >0.945789</td>\n",
       "      <td id=\"T_7bf96_row9_col13\" class=\"data row9 col13\" >0.945395</td>\n",
       "      <td id=\"T_7bf96_row9_col14\" class=\"data row9 col14\" >0.562933</td>\n",
       "      <td id=\"T_7bf96_row9_col15\" class=\"data row9 col15\" >0.089704</td>\n",
       "      <td id=\"T_7bf96_row9_col16\" class=\"data row9 col16\" >0.366170</td>\n",
       "      <td id=\"T_7bf96_row9_col17\" class=\"data row9 col17\" >0.719790</td>\n",
       "    </tr>\n",
       "    <tr>\n",
       "      <th id=\"T_7bf96_level0_row10\" class=\"row_heading level0 row10\" >device_protection</th>\n",
       "      <td id=\"T_7bf96_row10_col0\" class=\"data row10 col0\" >0.000000</td>\n",
       "      <td id=\"T_7bf96_row10_col1\" class=\"data row10 col1\" >0.110177</td>\n",
       "      <td id=\"T_7bf96_row10_col2\" class=\"data row10 col2\" >0.100092</td>\n",
       "      <td id=\"T_7bf96_row10_col3\" class=\"data row10 col3\" >0.094597</td>\n",
       "      <td id=\"T_7bf96_row10_col4\" class=\"data row10 col4\" >0.631531</td>\n",
       "      <td id=\"T_7bf96_row10_col5\" class=\"data row10 col5\" >0.195687</td>\n",
       "      <td id=\"T_7bf96_row10_col6\" class=\"data row10 col6\" >0.297923</td>\n",
       "      <td id=\"T_7bf96_row10_col7\" class=\"data row10 col7\" >0.942811</td>\n",
       "      <td id=\"T_7bf96_row10_col8\" class=\"data row10 col8\" >0.946787</td>\n",
       "      <td id=\"T_7bf96_row10_col9\" class=\"data row10 col9\" >0.947487</td>\n",
       "      <td id=\"T_7bf96_row10_col10\" class=\"data row10 col10\" >1.000000</td>\n",
       "      <td id=\"T_7bf96_row10_col11\" class=\"data row10 col11\" >0.950247</td>\n",
       "      <td id=\"T_7bf96_row10_col12\" class=\"data row10 col12\" >0.952863</td>\n",
       "      <td id=\"T_7bf96_row10_col13\" class=\"data row10 col13\" >0.953717</td>\n",
       "      <td id=\"T_7bf96_row10_col14\" class=\"data row10 col14\" >0.564610</td>\n",
       "      <td id=\"T_7bf96_row10_col15\" class=\"data row10 col15\" >0.085608</td>\n",
       "      <td id=\"T_7bf96_row10_col16\" class=\"data row10 col16\" >0.374702</td>\n",
       "      <td id=\"T_7bf96_row10_col17\" class=\"data row10 col17\" >0.750670</td>\n",
       "    </tr>\n",
       "    <tr>\n",
       "      <th id=\"T_7bf96_level0_row11\" class=\"row_heading level0 row11\" >tech_support</th>\n",
       "      <td id=\"T_7bf96_row11_col0\" class=\"data row11 col0\" >0.000000</td>\n",
       "      <td id=\"T_7bf96_row11_col1\" class=\"data row11 col1\" >0.135283</td>\n",
       "      <td id=\"T_7bf96_row11_col2\" class=\"data row11 col2\" >0.076326</td>\n",
       "      <td id=\"T_7bf96_row11_col3\" class=\"data row11 col3\" >0.109753</td>\n",
       "      <td id=\"T_7bf96_row11_col4\" class=\"data row11 col4\" >0.671629</td>\n",
       "      <td id=\"T_7bf96_row11_col5\" class=\"data row11 col5\" >0.200621</td>\n",
       "      <td id=\"T_7bf96_row11_col6\" class=\"data row11 col6\" >0.317713</td>\n",
       "      <td id=\"T_7bf96_row11_col7\" class=\"data row11 col7\" >0.948914</td>\n",
       "      <td id=\"T_7bf96_row11_col8\" class=\"data row11 col8\" >0.952651</td>\n",
       "      <td id=\"T_7bf96_row11_col9\" class=\"data row11 col9\" >0.947756</td>\n",
       "      <td id=\"T_7bf96_row11_col10\" class=\"data row11 col10\" >0.950247</td>\n",
       "      <td id=\"T_7bf96_row11_col11\" class=\"data row11 col11\" >1.000000</td>\n",
       "      <td id=\"T_7bf96_row11_col12\" class=\"data row11 col12\" >0.946393</td>\n",
       "      <td id=\"T_7bf96_row11_col13\" class=\"data row11 col13\" >0.946417</td>\n",
       "      <td id=\"T_7bf96_row11_col14\" class=\"data row11 col14\" >0.541088</td>\n",
       "      <td id=\"T_7bf96_row11_col15\" class=\"data row11 col15\" >0.051537</td>\n",
       "      <td id=\"T_7bf96_row11_col16\" class=\"data row11 col16\" >0.353438</td>\n",
       "      <td id=\"T_7bf96_row11_col17\" class=\"data row11 col17\" >0.741155</td>\n",
       "    </tr>\n",
       "    <tr>\n",
       "      <th id=\"T_7bf96_level0_row12\" class=\"row_heading level0 row12\" >streaming_tv</th>\n",
       "      <td id=\"T_7bf96_row12_col0\" class=\"data row12 col0\" >0.000000</td>\n",
       "      <td id=\"T_7bf96_row12_col1\" class=\"data row12 col1\" >0.111714</td>\n",
       "      <td id=\"T_7bf96_row12_col2\" class=\"data row12 col2\" >0.082251</td>\n",
       "      <td id=\"T_7bf96_row12_col3\" class=\"data row12 col3\" >0.088193</td>\n",
       "      <td id=\"T_7bf96_row12_col4\" class=\"data row12 col4\" >0.549564</td>\n",
       "      <td id=\"T_7bf96_row12_col5\" class=\"data row12 col5\" >0.204717</td>\n",
       "      <td id=\"T_7bf96_row12_col6\" class=\"data row12 col6\" >0.284531</td>\n",
       "      <td id=\"T_7bf96_row12_col7\" class=\"data row12 col7\" >0.946713</td>\n",
       "      <td id=\"T_7bf96_row12_col8\" class=\"data row12 col8\" >0.943082</td>\n",
       "      <td id=\"T_7bf96_row12_col9\" class=\"data row12 col9\" >0.945789</td>\n",
       "      <td id=\"T_7bf96_row12_col10\" class=\"data row12 col10\" >0.952863</td>\n",
       "      <td id=\"T_7bf96_row12_col11\" class=\"data row12 col11\" >0.946393</td>\n",
       "      <td id=\"T_7bf96_row12_col12\" class=\"data row12 col12\" >1.000000</td>\n",
       "      <td id=\"T_7bf96_row12_col13\" class=\"data row12 col13\" >0.965306</td>\n",
       "      <td id=\"T_7bf96_row12_col14\" class=\"data row12 col14\" >0.586049</td>\n",
       "      <td id=\"T_7bf96_row12_col15\" class=\"data row12 col15\" >0.078545</td>\n",
       "      <td id=\"T_7bf96_row12_col16\" class=\"data row12 col16\" >0.306675</td>\n",
       "      <td id=\"T_7bf96_row12_col17\" class=\"data row12 col17\" >0.738818</td>\n",
       "    </tr>\n",
       "    <tr>\n",
       "      <th id=\"T_7bf96_level0_row13\" class=\"row_heading level0 row13\" >streaming_movies</th>\n",
       "      <td id=\"T_7bf96_row13_col0\" class=\"data row13 col0\" >0.000000</td>\n",
       "      <td id=\"T_7bf96_row13_col1\" class=\"data row13 col1\" >0.113778</td>\n",
       "      <td id=\"T_7bf96_row13_col2\" class=\"data row13 col2\" >0.077506</td>\n",
       "      <td id=\"T_7bf96_row13_col3\" class=\"data row13 col3\" >0.084684</td>\n",
       "      <td id=\"T_7bf96_row13_col4\" class=\"data row13 col4\" >0.553556</td>\n",
       "      <td id=\"T_7bf96_row13_col5\" class=\"data row13 col5\" >0.202241</td>\n",
       "      <td id=\"T_7bf96_row13_col6\" class=\"data row13 col6\" >0.285525</td>\n",
       "      <td id=\"T_7bf96_row13_col7\" class=\"data row13 col7\" >0.946294</td>\n",
       "      <td id=\"T_7bf96_row13_col8\" class=\"data row13 col8\" >0.943248</td>\n",
       "      <td id=\"T_7bf96_row13_col9\" class=\"data row13 col9\" >0.945395</td>\n",
       "      <td id=\"T_7bf96_row13_col10\" class=\"data row13 col10\" >0.953717</td>\n",
       "      <td id=\"T_7bf96_row13_col11\" class=\"data row13 col11\" >0.946417</td>\n",
       "      <td id=\"T_7bf96_row13_col12\" class=\"data row13 col12\" >0.965306</td>\n",
       "      <td id=\"T_7bf96_row13_col13\" class=\"data row13 col13\" >1.000000</td>\n",
       "      <td id=\"T_7bf96_row13_col14\" class=\"data row13 col14\" >0.586815</td>\n",
       "      <td id=\"T_7bf96_row13_col15\" class=\"data row13 col15\" >0.086577</td>\n",
       "      <td id=\"T_7bf96_row13_col16\" class=\"data row13 col16\" >0.307297</td>\n",
       "      <td id=\"T_7bf96_row13_col17\" class=\"data row13 col17\" >0.739679</td>\n",
       "    </tr>\n",
       "    <tr>\n",
       "      <th id=\"T_7bf96_level0_row14\" class=\"row_heading level0 row14\" >multiple_lines</th>\n",
       "      <td id=\"T_7bf96_row14_col0\" class=\"data row14 col0\" >0.000000</td>\n",
       "      <td id=\"T_7bf96_row14_col1\" class=\"data row14 col1\" >0.087925</td>\n",
       "      <td id=\"T_7bf96_row14_col2\" class=\"data row14 col2\" >0.086249</td>\n",
       "      <td id=\"T_7bf96_row14_col3\" class=\"data row14 col3\" >0.011198</td>\n",
       "      <td id=\"T_7bf96_row14_col4\" class=\"data row14 col4\" >0.244410</td>\n",
       "      <td id=\"T_7bf96_row14_col5\" class=\"data row14 col5\" >0.099953</td>\n",
       "      <td id=\"T_7bf96_row14_col6\" class=\"data row14 col6\" >0.174849</td>\n",
       "      <td id=\"T_7bf96_row14_col7\" class=\"data row14 col7\" >0.739808</td>\n",
       "      <td id=\"T_7bf96_row14_col8\" class=\"data row14 col8\" >0.540261</td>\n",
       "      <td id=\"T_7bf96_row14_col9\" class=\"data row14 col9\" >0.562933</td>\n",
       "      <td id=\"T_7bf96_row14_col10\" class=\"data row14 col10\" >0.564610</td>\n",
       "      <td id=\"T_7bf96_row14_col11\" class=\"data row14 col11\" >0.541088</td>\n",
       "      <td id=\"T_7bf96_row14_col12\" class=\"data row14 col12\" >0.586049</td>\n",
       "      <td id=\"T_7bf96_row14_col13\" class=\"data row14 col13\" >0.586815</td>\n",
       "      <td id=\"T_7bf96_row14_col14\" class=\"data row14 col14\" >1.000000</td>\n",
       "      <td id=\"T_7bf96_row14_col15\" class=\"data row14 col15\" >0.105101</td>\n",
       "      <td id=\"T_7bf96_row14_col16\" class=\"data row14 col16\" >0.347289</td>\n",
       "      <td id=\"T_7bf96_row14_col17\" class=\"data row14 col17\" >0.355873</td>\n",
       "    </tr>\n",
       "    <tr>\n",
       "      <th id=\"T_7bf96_level0_row15\" class=\"row_heading level0 row15\" >is_client</th>\n",
       "      <td id=\"T_7bf96_row15_col0\" class=\"data row15 col0\" >0.008581</td>\n",
       "      <td id=\"T_7bf96_row15_col1\" class=\"data row15 col1\" >0.086159</td>\n",
       "      <td id=\"T_7bf96_row15_col2\" class=\"data row15 col2\" >0.226688</td>\n",
       "      <td id=\"T_7bf96_row15_col3\" class=\"data row15 col3\" >0.046871</td>\n",
       "      <td id=\"T_7bf96_row15_col4\" class=\"data row15 col4\" >0.094015</td>\n",
       "      <td id=\"T_7bf96_row15_col5\" class=\"data row15 col5\" >0.083398</td>\n",
       "      <td id=\"T_7bf96_row15_col6\" class=\"data row15 col6\" >0.214832</td>\n",
       "      <td id=\"T_7bf96_row15_col7\" class=\"data row15 col7\" >0.056621</td>\n",
       "      <td id=\"T_7bf96_row15_col8\" class=\"data row15 col8\" >0.058659</td>\n",
       "      <td id=\"T_7bf96_row15_col9\" class=\"data row15 col9\" >0.089704</td>\n",
       "      <td id=\"T_7bf96_row15_col10\" class=\"data row15 col10\" >0.085608</td>\n",
       "      <td id=\"T_7bf96_row15_col11\" class=\"data row15 col11\" >0.051537</td>\n",
       "      <td id=\"T_7bf96_row15_col12\" class=\"data row15 col12\" >0.078545</td>\n",
       "      <td id=\"T_7bf96_row15_col13\" class=\"data row15 col13\" >0.086577</td>\n",
       "      <td id=\"T_7bf96_row15_col14\" class=\"data row15 col14\" >0.105101</td>\n",
       "      <td id=\"T_7bf96_row15_col15\" class=\"data row15 col15\" >1.000000</td>\n",
       "      <td id=\"T_7bf96_row15_col16\" class=\"data row15 col16\" >0.374569</td>\n",
       "      <td id=\"T_7bf96_row15_col17\" class=\"data row15 col17\" >0.182556</td>\n",
       "    </tr>\n",
       "    <tr>\n",
       "      <th id=\"T_7bf96_level0_row16\" class=\"row_heading level0 row16\" >duration_contract_days</th>\n",
       "      <td id=\"T_7bf96_row16_col0\" class=\"data row16 col0\" >0.000000</td>\n",
       "      <td id=\"T_7bf96_row16_col1\" class=\"data row16 col1\" >0.063315</td>\n",
       "      <td id=\"T_7bf96_row16_col2\" class=\"data row16 col2\" >0.453688</td>\n",
       "      <td id=\"T_7bf96_row16_col3\" class=\"data row16 col3\" >0.198729</td>\n",
       "      <td id=\"T_7bf96_row16_col4\" class=\"data row16 col4\" >0.634155</td>\n",
       "      <td id=\"T_7bf96_row16_col5\" class=\"data row16 col5\" >0.026799</td>\n",
       "      <td id=\"T_7bf96_row16_col6\" class=\"data row16 col6\" >0.350964</td>\n",
       "      <td id=\"T_7bf96_row16_col7\" class=\"data row16 col7\" >0.060845</td>\n",
       "      <td id=\"T_7bf96_row16_col8\" class=\"data row16 col8\" >0.346398</td>\n",
       "      <td id=\"T_7bf96_row16_col9\" class=\"data row16 col9\" >0.366170</td>\n",
       "      <td id=\"T_7bf96_row16_col10\" class=\"data row16 col10\" >0.374702</td>\n",
       "      <td id=\"T_7bf96_row16_col11\" class=\"data row16 col11\" >0.353438</td>\n",
       "      <td id=\"T_7bf96_row16_col12\" class=\"data row16 col12\" >0.306675</td>\n",
       "      <td id=\"T_7bf96_row16_col13\" class=\"data row16 col13\" >0.307297</td>\n",
       "      <td id=\"T_7bf96_row16_col14\" class=\"data row16 col14\" >0.347289</td>\n",
       "      <td id=\"T_7bf96_row16_col15\" class=\"data row16 col15\" >0.374569</td>\n",
       "      <td id=\"T_7bf96_row16_col16\" class=\"data row16 col16\" >1.000000</td>\n",
       "      <td id=\"T_7bf96_row16_col17\" class=\"data row16 col17\" >0.424428</td>\n",
       "    </tr>\n",
       "    <tr>\n",
       "      <th id=\"T_7bf96_level0_row17\" class=\"row_heading level0 row17\" >num_services</th>\n",
       "      <td id=\"T_7bf96_row17_col0\" class=\"data row17 col0\" >0.000000</td>\n",
       "      <td id=\"T_7bf96_row17_col1\" class=\"data row17 col1\" >0.122972</td>\n",
       "      <td id=\"T_7bf96_row17_col2\" class=\"data row17 col2\" >0.209510</td>\n",
       "      <td id=\"T_7bf96_row17_col3\" class=\"data row17 col3\" >0.114160</td>\n",
       "      <td id=\"T_7bf96_row17_col4\" class=\"data row17 col4\" >0.484338</td>\n",
       "      <td id=\"T_7bf96_row17_col5\" class=\"data row17 col5\" >0.235657</td>\n",
       "      <td id=\"T_7bf96_row17_col6\" class=\"data row17 col6\" >0.311522</td>\n",
       "      <td id=\"T_7bf96_row17_col7\" class=\"data row17 col7\" >0.647446</td>\n",
       "      <td id=\"T_7bf96_row17_col8\" class=\"data row17 col8\" >0.715011</td>\n",
       "      <td id=\"T_7bf96_row17_col9\" class=\"data row17 col9\" >0.719790</td>\n",
       "      <td id=\"T_7bf96_row17_col10\" class=\"data row17 col10\" >0.750670</td>\n",
       "      <td id=\"T_7bf96_row17_col11\" class=\"data row17 col11\" >0.741155</td>\n",
       "      <td id=\"T_7bf96_row17_col12\" class=\"data row17 col12\" >0.738818</td>\n",
       "      <td id=\"T_7bf96_row17_col13\" class=\"data row17 col13\" >0.739679</td>\n",
       "      <td id=\"T_7bf96_row17_col14\" class=\"data row17 col14\" >0.355873</td>\n",
       "      <td id=\"T_7bf96_row17_col15\" class=\"data row17 col15\" >0.182556</td>\n",
       "      <td id=\"T_7bf96_row17_col16\" class=\"data row17 col16\" >0.424428</td>\n",
       "      <td id=\"T_7bf96_row17_col17\" class=\"data row17 col17\" >1.000000</td>\n",
       "    </tr>\n",
       "  </tbody>\n",
       "</table>\n"
      ],
      "text/plain": [
       "<pandas.io.formats.style.Styler at 0x21b3ef84280>"
      ]
     },
     "execution_count": 19,
     "metadata": {},
     "output_type": "execute_result"
    }
   ],
   "source": [
    "#Проверим категориальные признаки на мультиколлинеарность\n",
    "interval_columns = ['num_services','duration_contract_days']\n",
    "\n",
    "corr_2 = full.phik_matrix(interval_cols = interval_columns)\n",
    "corr_2.style.background_gradient(cmap='coolwarm')"
   ]
  },
  {
   "cell_type": "markdown",
   "metadata": {},
   "source": [
    "Столбец dependents коррелирует с partner, type с рядом других столбцов, столбцы internet_service, online_security, online_backup, device_protection, tech_support, streaming_tv, streaming_movies коррелируют с num_services. Удалим корреляционные столбцы:"
   ]
  },
  {
   "cell_type": "code",
   "execution_count": 20,
   "metadata": {},
   "outputs": [],
   "source": [
    "full.drop(['dependents', 'type', 'internet_service', 'online_security', 'online_backup',\n",
    "           'device_protection', 'tech_support', 'streaming_tv', 'streaming_movies'],\n",
    "          axis= 1 , inplace= True ) "
   ]
  },
  {
   "cell_type": "code",
   "execution_count": 21,
   "metadata": {},
   "outputs": [
    {
     "data": {
      "text/html": [
       "<style type=\"text/css\">\n",
       "#T_d0540_row0_col0, #T_d0540_row1_col1, #T_d0540_row2_col2 {\n",
       "  background-color: #b40426;\n",
       "  color: #f1f1f1;\n",
       "}\n",
       "#T_d0540_row0_col1, #T_d0540_row0_col2, #T_d0540_row2_col0 {\n",
       "  background-color: #3b4cc0;\n",
       "  color: #f1f1f1;\n",
       "}\n",
       "#T_d0540_row1_col0 {\n",
       "  background-color: #6788ee;\n",
       "  color: #f1f1f1;\n",
       "}\n",
       "#T_d0540_row1_col2 {\n",
       "  background-color: #e6d7cf;\n",
       "  color: #000000;\n",
       "}\n",
       "#T_d0540_row2_col1 {\n",
       "  background-color: #d2dbe8;\n",
       "  color: #000000;\n",
       "}\n",
       "</style>\n",
       "<table id=\"T_d0540\">\n",
       "  <thead>\n",
       "    <tr>\n",
       "      <th class=\"blank level0\" >&nbsp;</th>\n",
       "      <th id=\"T_d0540_level0_col0\" class=\"col_heading level0 col0\" >is_client</th>\n",
       "      <th id=\"T_d0540_level0_col1\" class=\"col_heading level0 col1\" >duration_contract_days</th>\n",
       "      <th id=\"T_d0540_level0_col2\" class=\"col_heading level0 col2\" >num_services</th>\n",
       "    </tr>\n",
       "  </thead>\n",
       "  <tbody>\n",
       "    <tr>\n",
       "      <th id=\"T_d0540_level0_row0\" class=\"row_heading level0 row0\" >is_client</th>\n",
       "      <td id=\"T_d0540_row0_col0\" class=\"data row0 col0\" >1.000000</td>\n",
       "      <td id=\"T_d0540_row0_col1\" class=\"data row0 col1\" >-0.017000</td>\n",
       "      <td id=\"T_d0540_row0_col2\" class=\"data row0 col2\" >-0.184000</td>\n",
       "    </tr>\n",
       "    <tr>\n",
       "      <th id=\"T_d0540_level0_row1\" class=\"row_heading level0 row1\" >duration_contract_days</th>\n",
       "      <td id=\"T_d0540_row1_col0\" class=\"data row1 col0\" >-0.017000</td>\n",
       "      <td id=\"T_d0540_row1_col1\" class=\"data row1 col1\" >1.000000</td>\n",
       "      <td id=\"T_d0540_row1_col2\" class=\"data row1 col2\" >0.450000</td>\n",
       "    </tr>\n",
       "    <tr>\n",
       "      <th id=\"T_d0540_level0_row2\" class=\"row_heading level0 row2\" >num_services</th>\n",
       "      <td id=\"T_d0540_row2_col0\" class=\"data row2 col0\" >-0.184000</td>\n",
       "      <td id=\"T_d0540_row2_col1\" class=\"data row2 col1\" >0.450000</td>\n",
       "      <td id=\"T_d0540_row2_col2\" class=\"data row2 col2\" >1.000000</td>\n",
       "    </tr>\n",
       "  </tbody>\n",
       "</table>\n"
      ],
      "text/plain": [
       "<pandas.io.formats.style.Styler at 0x21b3eef09a0>"
      ]
     },
     "execution_count": 21,
     "metadata": {},
     "output_type": "execute_result"
    }
   ],
   "source": [
    "#Проверим повторно численные признаки на мультиколлинеарность\n",
    "full_corr = full.copy()\n",
    "full_corr.drop(['is_client'], axis= 1 , inplace= True)\n",
    "corr_3 = full.corr().round(3)\n",
    "corr_3.style.background_gradient(cmap='coolwarm')"
   ]
  },
  {
   "cell_type": "code",
   "execution_count": 22,
   "metadata": {
    "scrolled": true
   },
   "outputs": [
    {
     "data": {
      "text/html": [
       "<style type=\"text/css\">\n",
       "#T_c384e_row0_col0, #T_c384e_row1_col1, #T_c384e_row2_col2, #T_c384e_row3_col3, #T_c384e_row4_col4, #T_c384e_row5_col5, #T_c384e_row6_col6, #T_c384e_row7_col7, #T_c384e_row8_col8 {\n",
       "  background-color: #b40426;\n",
       "  color: #f1f1f1;\n",
       "}\n",
       "#T_c384e_row0_col1, #T_c384e_row0_col2, #T_c384e_row0_col3, #T_c384e_row0_col4, #T_c384e_row0_col5, #T_c384e_row0_col6, #T_c384e_row0_col7, #T_c384e_row0_col8, #T_c384e_row1_col0, #T_c384e_row2_col0, #T_c384e_row3_col0, #T_c384e_row4_col0, #T_c384e_row5_col0, #T_c384e_row7_col0, #T_c384e_row8_col0 {\n",
       "  background-color: #3b4cc0;\n",
       "  color: #f1f1f1;\n",
       "}\n",
       "#T_c384e_row1_col2, #T_c384e_row2_col1 {\n",
       "  background-color: #3f53c6;\n",
       "  color: #f1f1f1;\n",
       "}\n",
       "#T_c384e_row1_col3, #T_c384e_row3_col1 {\n",
       "  background-color: #89acfd;\n",
       "  color: #000000;\n",
       "}\n",
       "#T_c384e_row1_col4, #T_c384e_row4_col1 {\n",
       "  background-color: #9bbcff;\n",
       "  color: #000000;\n",
       "}\n",
       "#T_c384e_row1_col5, #T_c384e_row2_col5, #T_c384e_row5_col1, #T_c384e_row5_col2, #T_c384e_row6_col1 {\n",
       "  background-color: #5572df;\n",
       "  color: #f1f1f1;\n",
       "}\n",
       "#T_c384e_row1_col6 {\n",
       "  background-color: #536edd;\n",
       "  color: #f1f1f1;\n",
       "}\n",
       "#T_c384e_row1_col7, #T_c384e_row7_col1 {\n",
       "  background-color: #4e68d8;\n",
       "  color: #f1f1f1;\n",
       "}\n",
       "#T_c384e_row1_col8, #T_c384e_row8_col1 {\n",
       "  background-color: #6180e9;\n",
       "  color: #f1f1f1;\n",
       "}\n",
       "#T_c384e_row2_col3, #T_c384e_row3_col2 {\n",
       "  background-color: #3e51c5;\n",
       "  color: #f1f1f1;\n",
       "}\n",
       "#T_c384e_row2_col4, #T_c384e_row4_col2 {\n",
       "  background-color: #8badfd;\n",
       "  color: #000000;\n",
       "}\n",
       "#T_c384e_row2_col6 {\n",
       "  background-color: #82a6fb;\n",
       "  color: #f1f1f1;\n",
       "}\n",
       "#T_c384e_row2_col7, #T_c384e_row7_col2 {\n",
       "  background-color: #d1dae9;\n",
       "  color: #000000;\n",
       "}\n",
       "#T_c384e_row2_col8, #T_c384e_row4_col6, #T_c384e_row8_col2 {\n",
       "  background-color: #7ea1fa;\n",
       "  color: #f1f1f1;\n",
       "}\n",
       "#T_c384e_row3_col4, #T_c384e_row4_col3, #T_c384e_row7_col6 {\n",
       "  background-color: #b6cefa;\n",
       "  color: #000000;\n",
       "}\n",
       "#T_c384e_row3_col5, #T_c384e_row5_col3 {\n",
       "  background-color: #5977e3;\n",
       "  color: #f1f1f1;\n",
       "}\n",
       "#T_c384e_row3_col6 {\n",
       "  background-color: #516ddb;\n",
       "  color: #f1f1f1;\n",
       "}\n",
       "#T_c384e_row3_col7, #T_c384e_row7_col3 {\n",
       "  background-color: #4257c9;\n",
       "  color: #f1f1f1;\n",
       "}\n",
       "#T_c384e_row3_col8, #T_c384e_row8_col3 {\n",
       "  background-color: #88abfd;\n",
       "  color: #000000;\n",
       "}\n",
       "#T_c384e_row4_col5, #T_c384e_row5_col4, #T_c384e_row8_col6 {\n",
       "  background-color: #7295f4;\n",
       "  color: #f1f1f1;\n",
       "}\n",
       "#T_c384e_row4_col7, #T_c384e_row7_col4 {\n",
       "  background-color: #afcafc;\n",
       "  color: #000000;\n",
       "}\n",
       "#T_c384e_row4_col8, #T_c384e_row8_col4 {\n",
       "  background-color: #a2c1ff;\n",
       "  color: #000000;\n",
       "}\n",
       "#T_c384e_row5_col6 {\n",
       "  background-color: #5875e1;\n",
       "  color: #f1f1f1;\n",
       "}\n",
       "#T_c384e_row5_col7, #T_c384e_row7_col5 {\n",
       "  background-color: #aec9fc;\n",
       "  color: #000000;\n",
       "}\n",
       "#T_c384e_row5_col8, #T_c384e_row8_col5 {\n",
       "  background-color: #b2ccfb;\n",
       "  color: #000000;\n",
       "}\n",
       "#T_c384e_row6_col0 {\n",
       "  background-color: #3d50c3;\n",
       "  color: #f1f1f1;\n",
       "}\n",
       "#T_c384e_row6_col2 {\n",
       "  background-color: #85a8fc;\n",
       "  color: #f1f1f1;\n",
       "}\n",
       "#T_c384e_row6_col3 {\n",
       "  background-color: #5470de;\n",
       "  color: #f1f1f1;\n",
       "}\n",
       "#T_c384e_row6_col4 {\n",
       "  background-color: #80a3fa;\n",
       "  color: #f1f1f1;\n",
       "}\n",
       "#T_c384e_row6_col5 {\n",
       "  background-color: #5a78e4;\n",
       "  color: #f1f1f1;\n",
       "}\n",
       "#T_c384e_row6_col7 {\n",
       "  background-color: #b7cff9;\n",
       "  color: #000000;\n",
       "}\n",
       "#T_c384e_row6_col8 {\n",
       "  background-color: #7597f6;\n",
       "  color: #f1f1f1;\n",
       "}\n",
       "#T_c384e_row7_col8, #T_c384e_row8_col7 {\n",
       "  background-color: #c7d7f0;\n",
       "  color: #000000;\n",
       "}\n",
       "</style>\n",
       "<table id=\"T_c384e\">\n",
       "  <thead>\n",
       "    <tr>\n",
       "      <th class=\"blank level0\" >&nbsp;</th>\n",
       "      <th id=\"T_c384e_level0_col0\" class=\"col_heading level0 col0\" >gender</th>\n",
       "      <th id=\"T_c384e_level0_col1\" class=\"col_heading level0 col1\" >senior_citizen</th>\n",
       "      <th id=\"T_c384e_level0_col2\" class=\"col_heading level0 col2\" >partner</th>\n",
       "      <th id=\"T_c384e_level0_col3\" class=\"col_heading level0 col3\" >paperless_billing</th>\n",
       "      <th id=\"T_c384e_level0_col4\" class=\"col_heading level0 col4\" >payment_method</th>\n",
       "      <th id=\"T_c384e_level0_col5\" class=\"col_heading level0 col5\" >multiple_lines</th>\n",
       "      <th id=\"T_c384e_level0_col6\" class=\"col_heading level0 col6\" >is_client</th>\n",
       "      <th id=\"T_c384e_level0_col7\" class=\"col_heading level0 col7\" >duration_contract_days</th>\n",
       "      <th id=\"T_c384e_level0_col8\" class=\"col_heading level0 col8\" >num_services</th>\n",
       "    </tr>\n",
       "  </thead>\n",
       "  <tbody>\n",
       "    <tr>\n",
       "      <th id=\"T_c384e_level0_row0\" class=\"row_heading level0 row0\" >gender</th>\n",
       "      <td id=\"T_c384e_row0_col0\" class=\"data row0 col0\" >1.000000</td>\n",
       "      <td id=\"T_c384e_row0_col1\" class=\"data row0 col1\" >0.000000</td>\n",
       "      <td id=\"T_c384e_row0_col2\" class=\"data row0 col2\" >0.000000</td>\n",
       "      <td id=\"T_c384e_row0_col3\" class=\"data row0 col3\" >0.000000</td>\n",
       "      <td id=\"T_c384e_row0_col4\" class=\"data row0 col4\" >0.000000</td>\n",
       "      <td id=\"T_c384e_row0_col5\" class=\"data row0 col5\" >0.000000</td>\n",
       "      <td id=\"T_c384e_row0_col6\" class=\"data row0 col6\" >0.008581</td>\n",
       "      <td id=\"T_c384e_row0_col7\" class=\"data row0 col7\" >0.000000</td>\n",
       "      <td id=\"T_c384e_row0_col8\" class=\"data row0 col8\" >0.000000</td>\n",
       "    </tr>\n",
       "    <tr>\n",
       "      <th id=\"T_c384e_level0_row1\" class=\"row_heading level0 row1\" >senior_citizen</th>\n",
       "      <td id=\"T_c384e_row1_col0\" class=\"data row1 col0\" >0.000000</td>\n",
       "      <td id=\"T_c384e_row1_col1\" class=\"data row1 col1\" >1.000000</td>\n",
       "      <td id=\"T_c384e_row1_col2\" class=\"data row1 col2\" >0.016992</td>\n",
       "      <td id=\"T_c384e_row1_col3\" class=\"data row1 col3\" >0.242133</td>\n",
       "      <td id=\"T_c384e_row1_col4\" class=\"data row1 col4\" >0.292725</td>\n",
       "      <td id=\"T_c384e_row1_col5\" class=\"data row1 col5\" >0.087925</td>\n",
       "      <td id=\"T_c384e_row1_col6\" class=\"data row1 col6\" >0.086159</td>\n",
       "      <td id=\"T_c384e_row1_col7\" class=\"data row1 col7\" >0.063315</td>\n",
       "      <td id=\"T_c384e_row1_col8\" class=\"data row1 col8\" >0.122972</td>\n",
       "    </tr>\n",
       "    <tr>\n",
       "      <th id=\"T_c384e_level0_row2\" class=\"row_heading level0 row2\" >partner</th>\n",
       "      <td id=\"T_c384e_row2_col0\" class=\"data row2 col0\" >0.000000</td>\n",
       "      <td id=\"T_c384e_row2_col1\" class=\"data row2 col1\" >0.016992</td>\n",
       "      <td id=\"T_c384e_row2_col2\" class=\"data row2 col2\" >1.000000</td>\n",
       "      <td id=\"T_c384e_row2_col3\" class=\"data row2 col3\" >0.013218</td>\n",
       "      <td id=\"T_c384e_row2_col4\" class=\"data row2 col4\" >0.243008</td>\n",
       "      <td id=\"T_c384e_row2_col5\" class=\"data row2 col5\" >0.086249</td>\n",
       "      <td id=\"T_c384e_row2_col6\" class=\"data row2 col6\" >0.226688</td>\n",
       "      <td id=\"T_c384e_row2_col7\" class=\"data row2 col7\" >0.453688</td>\n",
       "      <td id=\"T_c384e_row2_col8\" class=\"data row2 col8\" >0.209510</td>\n",
       "    </tr>\n",
       "    <tr>\n",
       "      <th id=\"T_c384e_level0_row3\" class=\"row_heading level0 row3\" >paperless_billing</th>\n",
       "      <td id=\"T_c384e_row3_col0\" class=\"data row3 col0\" >0.000000</td>\n",
       "      <td id=\"T_c384e_row3_col1\" class=\"data row3 col1\" >0.242133</td>\n",
       "      <td id=\"T_c384e_row3_col2\" class=\"data row3 col2\" >0.013218</td>\n",
       "      <td id=\"T_c384e_row3_col3\" class=\"data row3 col3\" >1.000000</td>\n",
       "      <td id=\"T_c384e_row3_col4\" class=\"data row3 col4\" >0.370495</td>\n",
       "      <td id=\"T_c384e_row3_col5\" class=\"data row3 col5\" >0.099953</td>\n",
       "      <td id=\"T_c384e_row3_col6\" class=\"data row3 col6\" >0.083398</td>\n",
       "      <td id=\"T_c384e_row3_col7\" class=\"data row3 col7\" >0.026799</td>\n",
       "      <td id=\"T_c384e_row3_col8\" class=\"data row3 col8\" >0.235657</td>\n",
       "    </tr>\n",
       "    <tr>\n",
       "      <th id=\"T_c384e_level0_row4\" class=\"row_heading level0 row4\" >payment_method</th>\n",
       "      <td id=\"T_c384e_row4_col0\" class=\"data row4 col0\" >0.000000</td>\n",
       "      <td id=\"T_c384e_row4_col1\" class=\"data row4 col1\" >0.292725</td>\n",
       "      <td id=\"T_c384e_row4_col2\" class=\"data row4 col2\" >0.243008</td>\n",
       "      <td id=\"T_c384e_row4_col3\" class=\"data row4 col3\" >0.370495</td>\n",
       "      <td id=\"T_c384e_row4_col4\" class=\"data row4 col4\" >1.000000</td>\n",
       "      <td id=\"T_c384e_row4_col5\" class=\"data row4 col5\" >0.174849</td>\n",
       "      <td id=\"T_c384e_row4_col6\" class=\"data row4 col6\" >0.214832</td>\n",
       "      <td id=\"T_c384e_row4_col7\" class=\"data row4 col7\" >0.350964</td>\n",
       "      <td id=\"T_c384e_row4_col8\" class=\"data row4 col8\" >0.311522</td>\n",
       "    </tr>\n",
       "    <tr>\n",
       "      <th id=\"T_c384e_level0_row5\" class=\"row_heading level0 row5\" >multiple_lines</th>\n",
       "      <td id=\"T_c384e_row5_col0\" class=\"data row5 col0\" >0.000000</td>\n",
       "      <td id=\"T_c384e_row5_col1\" class=\"data row5 col1\" >0.087925</td>\n",
       "      <td id=\"T_c384e_row5_col2\" class=\"data row5 col2\" >0.086249</td>\n",
       "      <td id=\"T_c384e_row5_col3\" class=\"data row5 col3\" >0.099953</td>\n",
       "      <td id=\"T_c384e_row5_col4\" class=\"data row5 col4\" >0.174849</td>\n",
       "      <td id=\"T_c384e_row5_col5\" class=\"data row5 col5\" >1.000000</td>\n",
       "      <td id=\"T_c384e_row5_col6\" class=\"data row5 col6\" >0.105101</td>\n",
       "      <td id=\"T_c384e_row5_col7\" class=\"data row5 col7\" >0.347289</td>\n",
       "      <td id=\"T_c384e_row5_col8\" class=\"data row5 col8\" >0.355873</td>\n",
       "    </tr>\n",
       "    <tr>\n",
       "      <th id=\"T_c384e_level0_row6\" class=\"row_heading level0 row6\" >is_client</th>\n",
       "      <td id=\"T_c384e_row6_col0\" class=\"data row6 col0\" >0.008581</td>\n",
       "      <td id=\"T_c384e_row6_col1\" class=\"data row6 col1\" >0.086159</td>\n",
       "      <td id=\"T_c384e_row6_col2\" class=\"data row6 col2\" >0.226688</td>\n",
       "      <td id=\"T_c384e_row6_col3\" class=\"data row6 col3\" >0.083398</td>\n",
       "      <td id=\"T_c384e_row6_col4\" class=\"data row6 col4\" >0.214832</td>\n",
       "      <td id=\"T_c384e_row6_col5\" class=\"data row6 col5\" >0.105101</td>\n",
       "      <td id=\"T_c384e_row6_col6\" class=\"data row6 col6\" >1.000000</td>\n",
       "      <td id=\"T_c384e_row6_col7\" class=\"data row6 col7\" >0.374569</td>\n",
       "      <td id=\"T_c384e_row6_col8\" class=\"data row6 col8\" >0.182556</td>\n",
       "    </tr>\n",
       "    <tr>\n",
       "      <th id=\"T_c384e_level0_row7\" class=\"row_heading level0 row7\" >duration_contract_days</th>\n",
       "      <td id=\"T_c384e_row7_col0\" class=\"data row7 col0\" >0.000000</td>\n",
       "      <td id=\"T_c384e_row7_col1\" class=\"data row7 col1\" >0.063315</td>\n",
       "      <td id=\"T_c384e_row7_col2\" class=\"data row7 col2\" >0.453688</td>\n",
       "      <td id=\"T_c384e_row7_col3\" class=\"data row7 col3\" >0.026799</td>\n",
       "      <td id=\"T_c384e_row7_col4\" class=\"data row7 col4\" >0.350964</td>\n",
       "      <td id=\"T_c384e_row7_col5\" class=\"data row7 col5\" >0.347289</td>\n",
       "      <td id=\"T_c384e_row7_col6\" class=\"data row7 col6\" >0.374569</td>\n",
       "      <td id=\"T_c384e_row7_col7\" class=\"data row7 col7\" >1.000000</td>\n",
       "      <td id=\"T_c384e_row7_col8\" class=\"data row7 col8\" >0.424428</td>\n",
       "    </tr>\n",
       "    <tr>\n",
       "      <th id=\"T_c384e_level0_row8\" class=\"row_heading level0 row8\" >num_services</th>\n",
       "      <td id=\"T_c384e_row8_col0\" class=\"data row8 col0\" >0.000000</td>\n",
       "      <td id=\"T_c384e_row8_col1\" class=\"data row8 col1\" >0.122972</td>\n",
       "      <td id=\"T_c384e_row8_col2\" class=\"data row8 col2\" >0.209510</td>\n",
       "      <td id=\"T_c384e_row8_col3\" class=\"data row8 col3\" >0.235657</td>\n",
       "      <td id=\"T_c384e_row8_col4\" class=\"data row8 col4\" >0.311522</td>\n",
       "      <td id=\"T_c384e_row8_col5\" class=\"data row8 col5\" >0.355873</td>\n",
       "      <td id=\"T_c384e_row8_col6\" class=\"data row8 col6\" >0.182556</td>\n",
       "      <td id=\"T_c384e_row8_col7\" class=\"data row8 col7\" >0.424428</td>\n",
       "      <td id=\"T_c384e_row8_col8\" class=\"data row8 col8\" >1.000000</td>\n",
       "    </tr>\n",
       "  </tbody>\n",
       "</table>\n"
      ],
      "text/plain": [
       "<pandas.io.formats.style.Styler at 0x21b3ef845e0>"
      ]
     },
     "execution_count": 22,
     "metadata": {},
     "output_type": "execute_result"
    }
   ],
   "source": [
    "#Проверим повторно категориальные признаки на мультиколлинеарность\n",
    "interval_columns = ['num_services', 'duration_contract_days']\n",
    " \n",
    "corr_4 = full.phik_matrix(interval_cols = interval_columns)\n",
    "corr_4.style.background_gradient(cmap='coolwarm')"
   ]
  },
  {
   "cell_type": "code",
   "execution_count": 23,
   "metadata": {},
   "outputs": [
    {
     "data": {
      "text/plain": [
       "1    5942\n",
       "0    1101\n",
       "Name: is_client, dtype: int64"
      ]
     },
     "execution_count": 23,
     "metadata": {},
     "output_type": "execute_result"
    },
    {
     "data": {
      "image/png": "[encoded data removed]",
      "text/plain": [
       "<Figure size 640x480 with 1 Axes>"
      ]
     },
     "metadata": {},
     "output_type": "display_data"
    }
   ],
   "source": [
    "#Исследуем балланс классов в целевом признаке\n",
    "full['is_client'].value_counts().plot(kind = 'bar', title='Соотношение классов')\n",
    "plt.ylabel('Количество клиентов')\n",
    "plt.xlabel('Клиент ли')\n",
    "full['is_client'].value_counts()"
   ]
  },
  {
   "cell_type": "code",
   "execution_count": 24,
   "metadata": {},
   "outputs": [
    {
     "data": {
      "image/png": "[encoded data removed]",
      "text/plain": [
       "<Figure size 1200x400 with 2 Axes>"
      ]
     },
     "metadata": {},
     "output_type": "display_data"
    },
    {
     "name": "stdout",
     "output_type": "stream",
     "text": [
      "_________________________________________________________________________________________________________________\n"
     ]
    },
    {
     "data": {
      "image/png": "[encoded data removed]",
      "text/plain": [
       "<Figure size 1200x400 with 2 Axes>"
      ]
     },
     "metadata": {},
     "output_type": "display_data"
    },
    {
     "name": "stdout",
     "output_type": "stream",
     "text": [
      "_________________________________________________________________________________________________________________\n"
     ]
    }
   ],
   "source": [
    "#Посмотрим на распределение численных признаков\n",
    "cols = ['num_services', 'duration_contract_days']\n",
    "\n",
    "for col in cols:\n",
    "    fig, ax = plt.subplots(1, 2, figsize=(12, 4))\n",
    "    sns.histplot(full[col], bins = 15, ax = ax[0])\n",
    "    plt.ylabel('Клиенты')\n",
    "    sns.boxplot(x = full[col], ax=ax[1])\n",
    "    fig.suptitle(col, size = 12)\n",
    "    plt.show()\n",
    "    print('_________________________________________________________________________________________________________________')"
   ]
  },
  {
   "cell_type": "code",
   "execution_count": 25,
   "metadata": {},
   "outputs": [
    {
     "data": {
      "image/png": "[encoded data removed]",
      "text/plain": [
       "<Figure size 1200x400 with 2 Axes>"
      ]
     },
     "metadata": {},
     "output_type": "display_data"
    },
    {
     "name": "stdout",
     "output_type": "stream",
     "text": [
      "_________________________________________________________________________________________________________________\n"
     ]
    },
    {
     "data": {
      "image/png": "[encoded data removed]",
      "text/plain": [
       "<Figure size 1200x400 with 2 Axes>"
      ]
     },
     "metadata": {},
     "output_type": "display_data"
    },
    {
     "name": "stdout",
     "output_type": "stream",
     "text": [
      "_________________________________________________________________________________________________________________\n"
     ]
    },
    {
     "data": {
      "image/png": "[encoded data removed]",
      "text/plain": [
       "<Figure size 1200x400 with 2 Axes>"
      ]
     },
     "metadata": {},
     "output_type": "display_data"
    },
    {
     "name": "stdout",
     "output_type": "stream",
     "text": [
      "_________________________________________________________________________________________________________________\n"
     ]
    },
    {
     "data": {
      "image/png": "[encoded data removed]",
      "text/plain": [
       "<Figure size 1200x400 with 2 Axes>"
      ]
     },
     "metadata": {},
     "output_type": "display_data"
    },
    {
     "name": "stdout",
     "output_type": "stream",
     "text": [
      "_________________________________________________________________________________________________________________\n"
     ]
    },
    {
     "data": {
      "image/png": "[encoded data removed]",
      "text/plain": [
       "<Figure size 1200x400 with 2 Axes>"
      ]
     },
     "metadata": {},
     "output_type": "display_data"
    },
    {
     "name": "stdout",
     "output_type": "stream",
     "text": [
      "_________________________________________________________________________________________________________________\n"
     ]
    },
    {
     "data": {
      "image/png": "[encoded data removed]",
      "text/plain": [
       "<Figure size 1200x400 with 2 Axes>"
      ]
     },
     "metadata": {},
     "output_type": "display_data"
    },
    {
     "name": "stdout",
     "output_type": "stream",
     "text": [
      "_________________________________________________________________________________________________________________\n"
     ]
    }
   ],
   "source": [
    "#Посмотрим на распределение категориальных признаков\n",
    "cols = ['gender', 'senior_citizen', 'partner', 'paperless_billing', 'payment_method', 'multiple_lines']\n",
    "\n",
    "for col in cols:\n",
    "    fig, ax = plt.subplots(1, 2, figsize=(12, 4))\n",
    "    sns.countplot(data = full, y = full[col], ax=ax[0])\n",
    "    full[col].value_counts().plot(kind = 'pie', ax=ax[1])\n",
    "    fig.suptitle(col, size = 12)\n",
    "    ax[0].set_ylabel('')\n",
    "    ax[1].set_ylabel('')\n",
    "    plt.show()\n",
    "    print('_________________________________________________________________________________________________________________')"
   ]
  },
  {
   "cell_type": "markdown",
   "metadata": {},
   "source": [
    "**Выводы**\n",
    "\n",
    "В ходе исследовательского анализа данных были добавлены дополнительные столбцы с длительностью контракта в днях - duration_contract_days и количеством дополнительных услуг - num_services. Для улучшения обучения моделей были удалены столбцы:'customer_id', так как он уникальный и неколичественный, 'begin_date' и 'end_date', так как на их основе уже был создан более показательный 'duration_contract_days'.\n",
    "\n",
    "Мы проанализировали взаимосвязь признаков на предмет мультиколлиниарности. Пороговое значение сильной коллинеарности приняли 0.6. Из численных признаков monthly_charges и total_charges сильно коррелируют со столбцами num_services и duration_contract_days, поэтому был удален. Из категориальных признаков dependents коррелировал с partner, type с рядом других столбцов, столбцы internet_service, online_security, online_backup, device_protection, tech_support, streaming_tv, streaming_movies - с num_services. Данные столбцы были также удалены.\n",
    "\n",
    "Рассмотрели балланс классов в целевом признаке. На 6 текущих клиентов приходится 1 ушедший. Дисбаланс не требует выравнивания, так как ключевая метрика AUC-ROC не чувствительна к дисбалансу.\n",
    "\n",
    "Изучили распределение численных признаков: num_services и duration_contract_days. Аномалий не выявлено. Около 1/3 пользователей не использует доп.услуг,чуть меньше 2/3 клиентов используют 1-4 доп сервиса и небольшая часть клиентов использует 5-6 дополнительных услуг. В столбце duration_contract_days наблюдается наблюдается большое количество пользователей с маленькой длительностью котракта. С увеличением длительности контракта количество пользователей снижается и в конце на самом большом количестве дней чуть-чуть увеличивается. Скорее всего это связано с большим количеством привлеченных пользователей вначале существования мобильного оператора. \n",
    "\n",
    "В результате изучения категориальных признаков стало ясно: мужчин и женщин в выборке примерно по ровну; преобладают трудоспособные люди перед пенсионерами - примерно 6 к 1; в отношения состоят приблизительно половина пользователей; почти 2/3 клиентов предпочитают получать чеки в электронном виде; среди систем оплаты лидируют эллектронные чеки - около 35% клиентов предпочитают их, на остальные способы приходится приблизительно по 20% клиентов. Около 8% пользователей не имеют телефона, остальные клиенты поровну предпочитают использовать/не использовать возможность ведения параллельных линий при звонке."
   ]
  },
  {
   "cell_type": "markdown",
   "metadata": {},
   "source": [
    "## Подготовим данные для обучения моделей"
   ]
  },
  {
   "cell_type": "code",
   "execution_count": 26,
   "metadata": {},
   "outputs": [
    {
     "name": "stdout",
     "output_type": "stream",
     "text": [
      "(5282, 9)\n"
     ]
    },
    {
     "data": {
      "text/plain": [
       "(1761, 9)"
      ]
     },
     "execution_count": 26,
     "metadata": {},
     "output_type": "execute_result"
    }
   ],
   "source": [
    "#Разделим данные на обучающую и тестовую выборки. Для тестовой выделим 25% данных:\n",
    "data_train, data_test = train_test_split(full, test_size=0.25, random_state=RANDOM_STATE)\n",
    "\n",
    "print(data_train.shape)\n",
    "data_test.shape"
   ]
  },
  {
   "cell_type": "code",
   "execution_count": 27,
   "metadata": {},
   "outputs": [],
   "source": [
    "#Подготовим признаки для исходных данных\n",
    "features_train = data_train.drop(['is_client'], axis=1)\n",
    "target_train = data_train['is_client']\n",
    "features_test = data_test.drop(['is_client'], axis=1)\n",
    "target_test = data_test['is_client']"
   ]
  },
  {
   "cell_type": "code",
   "execution_count": 28,
   "metadata": {},
   "outputs": [
    {
     "data": {
      "text/plain": [
       "['gender',\n",
       " 'senior_citizen',\n",
       " 'partner',\n",
       " 'paperless_billing',\n",
       " 'payment_method',\n",
       " 'multiple_lines']"
      ]
     },
     "execution_count": 28,
     "metadata": {},
     "output_type": "execute_result"
    }
   ],
   "source": [
    "#Подготовим категориальные признаки из тренировочной выборки для ohe\n",
    "ohe_features = features_train.select_dtypes(include='object').columns.to_list()\n",
    "ohe_features"
   ]
  },
  {
   "cell_type": "code",
   "execution_count": 29,
   "metadata": {},
   "outputs": [
    {
     "data": {
      "text/plain": [
       "['duration_contract_days', 'num_services']"
      ]
     },
     "execution_count": 29,
     "metadata": {},
     "output_type": "execute_result"
    }
   ],
   "source": [
    "#Подготовим численные признаки из тренировочной выборки для ohe\n",
    "num_features = features_train.select_dtypes(exclude='object').columns.to_list()\n",
    "num_features"
   ]
  },
  {
   "cell_type": "code",
   "execution_count": 30,
   "metadata": {},
   "outputs": [],
   "source": [
    "features_train_ohe = features_train.copy()\n",
    "features_test_ohe = features_test.copy()"
   ]
  },
  {
   "cell_type": "code",
   "execution_count": 31,
   "metadata": {
    "scrolled": true
   },
   "outputs": [],
   "source": [
    "#Переведем категориальные признаки в целочисленные, чтобы дальше обучать по ним модели\n",
    "encoder_ohe = OneHotEncoder(drop='first', handle_unknown='error', sparse=False)\n",
    "\n",
    "encoder_ohe.fit(features_train_ohe[ohe_features])\n",
    "\n",
    "features_train_ohe[\n",
    "    encoder_ohe.get_feature_names_out()\n",
    "]= encoder_ohe.transform(features_train_ohe[ohe_features])\n",
    "\n",
    "features_train_ohe = features_train_ohe.drop(ohe_features, axis=1)"
   ]
  },
  {
   "cell_type": "code",
   "execution_count": 32,
   "metadata": {
    "scrolled": true
   },
   "outputs": [
    {
     "data": {
      "text/html": [
       "<div>\n",
       "<style scoped>\n",
       "    .dataframe tbody tr th:only-of-type {\n",
       "        vertical-align: middle;\n",
       "    }\n",
       "\n",
       "    .dataframe tbody tr th {\n",
       "        vertical-align: top;\n",
       "    }\n",
       "\n",
       "    .dataframe thead th {\n",
       "        text-align: right;\n",
       "    }\n",
       "</style>\n",
       "<table border=\"1\" class=\"dataframe\">\n",
       "  <thead>\n",
       "    <tr style=\"text-align: right;\">\n",
       "      <th></th>\n",
       "      <th>duration_contract_days</th>\n",
       "      <th>num_services</th>\n",
       "      <th>gender_Male</th>\n",
       "      <th>senior_citizen_1</th>\n",
       "      <th>partner_Yes</th>\n",
       "      <th>paperless_billing_Yes</th>\n",
       "      <th>payment_method_Credit card (automatic)</th>\n",
       "      <th>payment_method_Electronic check</th>\n",
       "      <th>payment_method_Mailed check</th>\n",
       "      <th>multiple_lines_No_phone</th>\n",
       "      <th>multiple_lines_Yes</th>\n",
       "    </tr>\n",
       "  </thead>\n",
       "  <tbody>\n",
       "    <tr>\n",
       "      <th>5315</th>\n",
       "      <td>-1.101961</td>\n",
       "      <td>-1.110488</td>\n",
       "      <td>1.0</td>\n",
       "      <td>0.0</td>\n",
       "      <td>0.0</td>\n",
       "      <td>1.0</td>\n",
       "      <td>0.0</td>\n",
       "      <td>1.0</td>\n",
       "      <td>0.0</td>\n",
       "      <td>0.0</td>\n",
       "      <td>0.0</td>\n",
       "    </tr>\n",
       "    <tr>\n",
       "      <th>1294</th>\n",
       "      <td>-0.919811</td>\n",
       "      <td>-1.110488</td>\n",
       "      <td>1.0</td>\n",
       "      <td>0.0</td>\n",
       "      <td>0.0</td>\n",
       "      <td>0.0</td>\n",
       "      <td>0.0</td>\n",
       "      <td>1.0</td>\n",
       "      <td>0.0</td>\n",
       "      <td>0.0</td>\n",
       "      <td>0.0</td>\n",
       "    </tr>\n",
       "    <tr>\n",
       "      <th>4861</th>\n",
       "      <td>0.835053</td>\n",
       "      <td>-0.025371</td>\n",
       "      <td>0.0</td>\n",
       "      <td>1.0</td>\n",
       "      <td>1.0</td>\n",
       "      <td>1.0</td>\n",
       "      <td>0.0</td>\n",
       "      <td>0.0</td>\n",
       "      <td>0.0</td>\n",
       "      <td>0.0</td>\n",
       "      <td>0.0</td>\n",
       "    </tr>\n",
       "    <tr>\n",
       "      <th>2469</th>\n",
       "      <td>-0.020906</td>\n",
       "      <td>-1.110488</td>\n",
       "      <td>0.0</td>\n",
       "      <td>0.0</td>\n",
       "      <td>0.0</td>\n",
       "      <td>0.0</td>\n",
       "      <td>0.0</td>\n",
       "      <td>0.0</td>\n",
       "      <td>1.0</td>\n",
       "      <td>0.0</td>\n",
       "      <td>0.0</td>\n",
       "    </tr>\n",
       "    <tr>\n",
       "      <th>278</th>\n",
       "      <td>-0.696195</td>\n",
       "      <td>1.059745</td>\n",
       "      <td>1.0</td>\n",
       "      <td>0.0</td>\n",
       "      <td>0.0</td>\n",
       "      <td>1.0</td>\n",
       "      <td>0.0</td>\n",
       "      <td>1.0</td>\n",
       "      <td>0.0</td>\n",
       "      <td>1.0</td>\n",
       "      <td>0.0</td>\n",
       "    </tr>\n",
       "  </tbody>\n",
       "</table>\n",
       "</div>"
      ],
      "text/plain": [
       "      duration_contract_days  num_services  gender_Male  senior_citizen_1  \\\n",
       "5315               -1.101961     -1.110488          1.0               0.0   \n",
       "1294               -0.919811     -1.110488          1.0               0.0   \n",
       "4861                0.835053     -0.025371          0.0               1.0   \n",
       "2469               -0.020906     -1.110488          0.0               0.0   \n",
       "278                -0.696195      1.059745          1.0               0.0   \n",
       "\n",
       "      partner_Yes  paperless_billing_Yes  \\\n",
       "5315          0.0                    1.0   \n",
       "1294          0.0                    0.0   \n",
       "4861          1.0                    1.0   \n",
       "2469          0.0                    0.0   \n",
       "278           0.0                    1.0   \n",
       "\n",
       "      payment_method_Credit card (automatic)  payment_method_Electronic check  \\\n",
       "5315                                     0.0                              1.0   \n",
       "1294                                     0.0                              1.0   \n",
       "4861                                     0.0                              0.0   \n",
       "2469                                     0.0                              0.0   \n",
       "278                                      0.0                              1.0   \n",
       "\n",
       "      payment_method_Mailed check  multiple_lines_No_phone  multiple_lines_Yes  \n",
       "5315                          0.0                      0.0                 0.0  \n",
       "1294                          0.0                      0.0                 0.0  \n",
       "4861                          0.0                      0.0                 0.0  \n",
       "2469                          1.0                      0.0                 0.0  \n",
       "278                           0.0                      1.0                 0.0  "
      ]
     },
     "execution_count": 32,
     "metadata": {},
     "output_type": "execute_result"
    }
   ],
   "source": [
    "#Создадим скелер для масштабирования\n",
    "scaler = StandardScaler()\n",
    "\n",
    "features_train_ohe[num_features] = scaler.fit_transform(features_train_ohe[num_features])\n",
    "features_train_ohe.head()"
   ]
  },
  {
   "cell_type": "code",
   "execution_count": 33,
   "metadata": {
    "scrolled": true
   },
   "outputs": [],
   "source": [
    "#Обученным энкодером, трансформируем признаки тестовой выборки\n",
    "features_test_ohe[\n",
    "    encoder_ohe.get_feature_names_out()\n",
    "] = encoder_ohe.transform(features_test_ohe[ohe_features])\n",
    "\n",
    "features_test_ohe = features_test_ohe.drop(ohe_features, axis=1)"
   ]
  },
  {
   "cell_type": "code",
   "execution_count": 34,
   "metadata": {
    "scrolled": true
   },
   "outputs": [
    {
     "data": {
      "text/html": [
       "<div>\n",
       "<style scoped>\n",
       "    .dataframe tbody tr th:only-of-type {\n",
       "        vertical-align: middle;\n",
       "    }\n",
       "\n",
       "    .dataframe tbody tr th {\n",
       "        vertical-align: top;\n",
       "    }\n",
       "\n",
       "    .dataframe thead th {\n",
       "        text-align: right;\n",
       "    }\n",
       "</style>\n",
       "<table border=\"1\" class=\"dataframe\">\n",
       "  <thead>\n",
       "    <tr style=\"text-align: right;\">\n",
       "      <th></th>\n",
       "      <th>duration_contract_days</th>\n",
       "      <th>num_services</th>\n",
       "      <th>gender_Male</th>\n",
       "      <th>senior_citizen_1</th>\n",
       "      <th>partner_Yes</th>\n",
       "      <th>paperless_billing_Yes</th>\n",
       "      <th>payment_method_Credit card (automatic)</th>\n",
       "      <th>payment_method_Electronic check</th>\n",
       "      <th>payment_method_Mailed check</th>\n",
       "      <th>multiple_lines_No_phone</th>\n",
       "      <th>multiple_lines_Yes</th>\n",
       "    </tr>\n",
       "  </thead>\n",
       "  <tbody>\n",
       "    <tr>\n",
       "      <th>2248</th>\n",
       "      <td>0.025002</td>\n",
       "      <td>-0.567929</td>\n",
       "      <td>1.0</td>\n",
       "      <td>0.0</td>\n",
       "      <td>1.0</td>\n",
       "      <td>1.0</td>\n",
       "      <td>0.0</td>\n",
       "      <td>0.0</td>\n",
       "      <td>0.0</td>\n",
       "      <td>0.0</td>\n",
       "      <td>1.0</td>\n",
       "    </tr>\n",
       "    <tr>\n",
       "      <th>5204</th>\n",
       "      <td>0.384860</td>\n",
       "      <td>-1.110488</td>\n",
       "      <td>1.0</td>\n",
       "      <td>1.0</td>\n",
       "      <td>1.0</td>\n",
       "      <td>1.0</td>\n",
       "      <td>0.0</td>\n",
       "      <td>1.0</td>\n",
       "      <td>0.0</td>\n",
       "      <td>1.0</td>\n",
       "      <td>0.0</td>\n",
       "    </tr>\n",
       "    <tr>\n",
       "      <th>6865</th>\n",
       "      <td>-0.965719</td>\n",
       "      <td>0.517187</td>\n",
       "      <td>0.0</td>\n",
       "      <td>0.0</td>\n",
       "      <td>1.0</td>\n",
       "      <td>0.0</td>\n",
       "      <td>0.0</td>\n",
       "      <td>0.0</td>\n",
       "      <td>1.0</td>\n",
       "      <td>0.0</td>\n",
       "      <td>0.0</td>\n",
       "    </tr>\n",
       "    <tr>\n",
       "      <th>1667</th>\n",
       "      <td>-0.832438</td>\n",
       "      <td>-1.110488</td>\n",
       "      <td>1.0</td>\n",
       "      <td>0.0</td>\n",
       "      <td>0.0</td>\n",
       "      <td>1.0</td>\n",
       "      <td>1.0</td>\n",
       "      <td>0.0</td>\n",
       "      <td>0.0</td>\n",
       "      <td>0.0</td>\n",
       "      <td>1.0</td>\n",
       "    </tr>\n",
       "    <tr>\n",
       "      <th>6947</th>\n",
       "      <td>1.738400</td>\n",
       "      <td>0.517187</td>\n",
       "      <td>1.0</td>\n",
       "      <td>0.0</td>\n",
       "      <td>1.0</td>\n",
       "      <td>1.0</td>\n",
       "      <td>1.0</td>\n",
       "      <td>0.0</td>\n",
       "      <td>0.0</td>\n",
       "      <td>0.0</td>\n",
       "      <td>1.0</td>\n",
       "    </tr>\n",
       "  </tbody>\n",
       "</table>\n",
       "</div>"
      ],
      "text/plain": [
       "      duration_contract_days  num_services  gender_Male  senior_citizen_1  \\\n",
       "2248                0.025002     -0.567929          1.0               0.0   \n",
       "5204                0.384860     -1.110488          1.0               1.0   \n",
       "6865               -0.965719      0.517187          0.0               0.0   \n",
       "1667               -0.832438     -1.110488          1.0               0.0   \n",
       "6947                1.738400      0.517187          1.0               0.0   \n",
       "\n",
       "      partner_Yes  paperless_billing_Yes  \\\n",
       "2248          1.0                    1.0   \n",
       "5204          1.0                    1.0   \n",
       "6865          1.0                    0.0   \n",
       "1667          0.0                    1.0   \n",
       "6947          1.0                    1.0   \n",
       "\n",
       "      payment_method_Credit card (automatic)  payment_method_Electronic check  \\\n",
       "2248                                     0.0                              0.0   \n",
       "5204                                     0.0                              1.0   \n",
       "6865                                     0.0                              0.0   \n",
       "1667                                     1.0                              0.0   \n",
       "6947                                     1.0                              0.0   \n",
       "\n",
       "      payment_method_Mailed check  multiple_lines_No_phone  multiple_lines_Yes  \n",
       "2248                          0.0                      0.0                 1.0  \n",
       "5204                          0.0                      1.0                 0.0  \n",
       "6865                          1.0                      0.0                 0.0  \n",
       "1667                          0.0                      0.0                 1.0  \n",
       "6947                          0.0                      0.0                 1.0  "
      ]
     },
     "execution_count": 34,
     "metadata": {},
     "output_type": "execute_result"
    }
   ],
   "source": [
    "#Обученным скелером масштабируем тестовую выборку\n",
    "features_test_ohe[num_features] = scaler.transform(features_test_ohe[num_features])\n",
    "features_test_ohe.head()"
   ]
  },
  {
   "cell_type": "markdown",
   "metadata": {},
   "source": [
    "**Выводы**\n",
    "\n",
    "В данном разделе было произведено разделение датасета на обучающую и тестовую выборки. Для тестовой - выделили 25% данных. Далее были выделен целевой признак - столбец 'is_client'. Для корректного результата работы моделей методом OneHotEncoder перевели категориальные признаки в численные. Численные признаки масштабировали."
   ]
  },
  {
   "cell_type": "markdown",
   "metadata": {},
   "source": [
    "## Обучим модели"
   ]
  },
  {
   "cell_type": "markdown",
   "metadata": {},
   "source": [
    "### Логистическая регрессия "
   ]
  },
  {
   "cell_type": "code",
   "execution_count": 42,
   "metadata": {},
   "outputs": [
    {
     "name": "stdout",
     "output_type": "stream",
     "text": [
      "Best parameters: {'C': 10, 'solver': 'liblinear'}\n",
      "Best AUC-ROC LogisticRegression: 0.7143714820764698\n"
     ]
    }
   ],
   "source": [
    "#Подберем параметры через GridSearchCV\n",
    "model_logr = LogisticRegression(random_state=RANDOM_STATE)\n",
    "hyperparams = [{'solver':['lbfgs', 'liblinear'],\n",
    "                'C':[0.1, 1, 10]}]\n",
    "\n",
    "clf = GridSearchCV(model_logr, hyperparams, scoring='roc_auc', cv=3, n_jobs=-1)\n",
    "clf.fit(features_train_ohe, target_train)\n",
    "print(\"Best parameters:\", clf.best_params_)\n",
    "print(\"Best AUC-ROC LogisticRegression:\", clf.best_score_)"
   ]
  },
  {
   "cell_type": "markdown",
   "metadata": {},
   "source": [
    "### CatBoost"
   ]
  },
  {
   "cell_type": "code",
   "execution_count": 43,
   "metadata": {},
   "outputs": [
    {
     "name": "stdout",
     "output_type": "stream",
     "text": [
      "Best parameters: {'depth': 6, 'iterations': 550, 'learning_rate': 0.03}\n",
      "Best AUC-ROC CatBoost: 0.8849848095331363\n"
     ]
    }
   ],
   "source": [
    "#Подберем параметры для CatBoost через GridSearchCV\n",
    "cat = CatBoostClassifier(random_state=RANDOM_STATE)\n",
    "params = {'iterations': range(450, 600, 50),\n",
    "          'depth': range(1, 8),\n",
    "          'learning_rate': [0.01, 0.03, 0.01]}\n",
    "\n",
    "cat_grid = GridSearchCV(estimator=cat, param_grid=params, scoring='roc_auc', cv=3, n_jobs=-1)\n",
    "cat_grid.fit(features_train_ohe, target_train, verbose=0)\n",
    "print(\"Best parameters:\", cat_grid.best_params_)\n",
    "print(\"Best AUC-ROC CatBoost:\", cat_grid.best_score_)"
   ]
  },
  {
   "cell_type": "markdown",
   "metadata": {},
   "source": [
    "### LightGBM"
   ]
  },
  {
   "cell_type": "code",
   "execution_count": 47,
   "metadata": {},
   "outputs": [
    {
     "name": "stdout",
     "output_type": "stream",
     "text": [
      "Best parameters: {'max_depth': 3, 'n_estimators': 550, 'num_threads': 1, 'verbose': -1}\n",
      "Best AUC-ROC LightGBM: 0.9010672627372421\n"
     ]
    }
   ],
   "source": [
    "#Подберем параметры для LightGBM через GridSearchCV\n",
    "light = LGBMClassifier(random_state=RANDOM_STATE)\n",
    "param_grid = {'n_estimators': range(200, 600, 50), \n",
    "              'max_depth': range(1,11),\n",
    "              'verbose': [-1],\n",
    "             'num_threads':[1]\n",
    "             }\n",
    "\n",
    "light_grid = GridSearchCV(light, param_grid, scoring='roc_auc', cv=3, n_jobs=-1)\n",
    "light_grid.fit(features_train_ohe, target_train)\n",
    "print(\"Best parameters:\", light_grid.best_params_)\n",
    "print(\"Best AUC-ROC LightGBM:\", light_grid.best_score_)"
   ]
  },
  {
   "cell_type": "markdown",
   "metadata": {},
   "source": [
    "**Выводы**\n",
    "\n",
    "У модели LogisticRegression лучшее значение AUC-ROC около 0.71, у CatBoostClassifier около 0.88, у LGBMClassifier около 0.90. Таким образом, лучшая модель LGBMClassifier - с параметрами 'max_depth'=3, 'n_estimators'=550."
   ]
  },
  {
   "cell_type": "markdown",
   "metadata": {},
   "source": [
    "## Проверим лучшую модель на тестовой выборке"
   ]
  },
  {
   "cell_type": "code",
   "execution_count": 36,
   "metadata": {},
   "outputs": [
    {
     "name": "stdout",
     "output_type": "stream",
     "text": [
      "ROC-AUC LightGBM на тестовой выборке: 0.926\n"
     ]
    }
   ],
   "source": [
    "model_best = light_grid\n",
    "test_predict = model_best.predict_proba(features_test_ohe)[:, 1]\n",
    "roc_auc_best_test = roc_auc_score(target_test, test_predict)\n",
    "print('ROC-AUC LightGBM на тестовой выборке:', roc_auc_best_test.round(3))"
   ]
  },
  {
   "cell_type": "code",
   "execution_count": 71,
   "metadata": {},
   "outputs": [
    {
     "data": {
      "image/png": "[encoded data removed]",
      "text/plain": [
       "<Figure size 432x288 with 1 Axes>"
      ]
     },
     "metadata": {
      "needs_background": "light"
     },
     "output_type": "display_data"
    }
   ],
   "source": [
    "#Построим ROC-кривую\n",
    "fpr, tpr, thresholds = metrics.roc_curve(target_test, test_predict)\n",
    "\n",
    "plt.figure()\n",
    "plt.plot([0, 1], [0, 1], linestyle='--')\n",
    "plt.plot(fpr, tpr)\n",
    "\n",
    "plt.xlabel('False Positive Rate')\n",
    "plt.ylabel('True Positive Rate')\n",
    "plt.title('ROC-кривая')\n",
    "plt.show()"
   ]
  },
  {
   "cell_type": "code",
   "execution_count": 46,
   "metadata": {},
   "outputs": [
    {
     "data": {
      "text/plain": [
       "[Text(0, 0.5, 'False'), Text(0, 1.5, 'True')]"
      ]
     },
     "execution_count": 46,
     "metadata": {},
     "output_type": "execute_result"
    },
    {
     "data": {
      "image/png": "[encoded data removed]",
      "text/plain": [
       "<Figure size 432x288 with 2 Axes>"
      ]
     },
     "metadata": {
      "needs_background": "light"
     },
     "output_type": "display_data"
    }
   ],
   "source": [
    "#Построим матрицу ошибок\n",
    "predict = model_best.predict(features_test_ohe)\n",
    "cf_matrix = confusion_matrix(predict, target_test)\n",
    "\n",
    "ax = sns.heatmap(cf_matrix, annot= True , fmt=\"d\")\n",
    "\n",
    "ax.set_title('Матрица ошибок');\n",
    "ax.set_xlabel('Предсказания')\n",
    "ax.set_ylabel('Реальность');\n",
    "\n",
    "ax.xaxis.set_ticklabels(['False','True'])\n",
    "ax.yaxis.set_ticklabels(['False','True'])"
   ]
  },
  {
   "cell_type": "code",
   "execution_count": 62,
   "metadata": {},
   "outputs": [
    {
     "data": {
      "text/plain": [
       "Text(0.5, 0, 'Важность')"
      ]
     },
     "execution_count": 62,
     "metadata": {},
     "output_type": "execute_result"
    },
    {
     "data": {
      "image/png": "[encoded data removed]",
      "text/plain": [
       "<Figure size 432x288 with 1 Axes>"
      ]
     },
     "metadata": {
      "needs_background": "light"
     },
     "output_type": "display_data"
    }
   ],
   "source": [
    "full_feat_importance = pd.DataFrame(model_best.best_estimator_.feature_importances_, index=features_test_ohe.columns)\n",
    "full_feat_importance.sort_values(by=0).plot.barh(colormap='hot')\n",
    "\n",
    "plt.title('Диаграмма важности признаков')\n",
    "plt.ylabel('Признак')\n",
    "plt.xlabel('Важность')"
   ]
  },
  {
   "cell_type": "markdown",
   "metadata": {},
   "source": [
    "## Общий вывод"
   ]
  },
  {
   "cell_type": "markdown",
   "metadata": {},
   "source": [
    "Данные предоставлены в 4 таблицах. Таблицы contract_new и personal_new содержат по 7043 строки без пропусков. В internet_new содержится 5517 строк без пропусков.  В таблице phone_new 6361 строка без пропущенных значений. В ходе предобработки данных явных дубликатов не выявлено. Названия столбцов приведены в соответсвие с хорошим стилем. \n",
    "\n",
    "\n",
    "Для дальнейшего исследования данных, таблицы были объедены в одну по столбцу customer_id. Количество строк в общей таблице соответвует наибольшему количеству строк из 4 таблиц (таблица contract). Типы данных некоторых столбцов изменены: total_charges переведен в float64,senior_citizen в object, begin_date и end_date в datetime64.  Для удобства работы с данными ввели столбец is_client - отражающий целевой признак: остался клиент или ушел. В ходе объединения таблиц появились пропуски. Они были заполнены значениями, исходя из назначения столбца.\n",
    "\n",
    "\n",
    "В ходе исследовательского анализа данных были добавлены дополнительные столбцы с длительностью контракта в днях - duration_contract_days и количеством дополнительных услуг - num_services. Для улучшения обучения моделей были удалены столбцы:'customer_id', так как он уникальный и неколичественный, 'begin_date' и 'end_date', так как на их основе уже был создан более показательный 'duration_contract_days'.\n",
    "\n",
    "\n",
    "Мы проанализировали взаимосвязь признаков на предмет мультиколлиниарности. Пороговое значение сильной коллинеарности приняли 0.6. Из численных признаков monthly_charges и total_charges сильно коррелируют со столбцами num_services и duration_contract_days, поэтому были удалены. Из категориальных признаков dependents коррелировал с partner, type с рядом других столбцов, столбцы internet_service, online_security, online_backup, device_protection, tech_support, streaming_tv, streaming_movies - с num_services. Данные столбцы были также удалены.\n",
    "\n",
    "\n",
    "Рассмотрели балланс классов в целевом признаке. На 6 текущих клиентов приходится 1 ушедший. Дисбаланс не требует выравнивания, так как ключевая метрика AUC-ROC не чувствительна к нему.\n",
    "\n",
    "\n",
    "Изучили распределение численных признаков: num_services и duration_contract_days. Аномалий не выявлено. Около 1/3 пользователей не использует доп.услуг,чуть меньше 2/3 клиентов используют 1-4 доп сервиса и небольшая часть клиентов использует 5-6 дополнительных услуг. В столбце duration_contract_days наблюдается наблюдается большое количество пользователей с маленькой длительностью котракта. С увеличением длительности контракта количество пользователей снижается и в конце на самом большом количестве дней чуть-чуть увеличивается. Скорее всего это связано с большим количеством привлеченных пользователей вначале существования мобильного оператора. \n",
    "\n",
    "\n",
    "В результате изучения категориальных признаков стало ясно: мужчин и женщин в выборке примерно по ровну; преобладают трудоспособные люди перед пенсионерами - примерно 6 к 1; в отношения состоят приблизительно половина пользователей; почти 2/3 клиентов предпочитают получать чеки в электронном виде; среди систем оплаты лидируют эллектронные чеки - около 35% клиентов предпочитают их, на остальные способы приходится приблизительно по 20% клиентов. Около 8% пользователей не имеют телефона, остальные клиенты поровну предпочитают использовать/не использовать возможность ведения параллельных линий при звонке.\n",
    "\n",
    "\n",
    "Разделили датасет на обучающую и тестовую выборки. Для тестовой - выделили 25% данных. Далее были выделен целевой признак - столбец 'is_client'. Для корректного результата работы моделей методом OneHotEncoder перевели категориальные признаки в численные. Численные признаки масштабировали.\n",
    "\n",
    "Обучили три модели  с использованием подбора гиперпараметров через GridSearchCV: LogisticRegression, CatBoostClassifier и LGBMClassifier. У модели LogisticRegression лучшее значение AUC-ROC на обучающей выборке около 0.71, у CatBoostClassifier около 0.88, у LGBMClassifier около 0.90. Таким образом, лучшая модель LGBMClassifier - с параметрами 'max_depth'=3, 'n_estimators'=550. Проверили ее на тестовой выборке - AUC-ROC около 0.93, данная модель решает поставленную задачу. \n",
    "\n",
    "Для анализа работы модели построили ROC-кривую. График нашей модели сильно выше чем случайной, следовательно, у нее много истинно положительных ответов и высокое качество.\n",
    "\n",
    "Благодаря анализу важности признаков для конечной модели стало видно, что наиболее значимый признак duration_contract_days. С большим отрывом, но все еще имеющий влияние, стал признак num_services.\n",
    "\n",
    "Из матрицы ошибок модели вытекают следующие выводы:\n",
    "\n",
    "- TruePositive = 1485, модель отлично предсказывает пользователей, которые останутся.\n",
    "- TrueNegative = 104, модель хорошо предсказывает пользователей, которые на самом деле уйдут.\n",
    "- False Positive = 7, ложнооставшихся пользователей крайне мало, что отлично для нашей задачи, так как таких клиентов нужно было бы отнести в потенциально уходящие и выслать им промокод для сохранения лояльности.\n",
    "- FalseNegative = 165, модель предсказывает уход пользователям, которые на самом деле останутся. Немалое количество таких предсказаний не критично, так как наша цель сохранить клиентов, и ложно высланный промокод лучше, чем невысланный действительно уходящему клиенту.\n",
    "\n",
    "\n",
    "Благодаря всем вышеперечисленным этапам можно сделать вывод, что нам удалось построить модель для решения задачи классификации, которая определяет: планирует ли клиент уйти."
   ]
  }
 ],
 "metadata": {
  "ExecuteTimeLog": [
   {
    "duration": 378,
    "start_time": "2023-08-17T11:49:26.569Z"
   },
   {
    "duration": 510,
    "start_time": "2023-08-17T11:49:27.037Z"
   },
   {
    "duration": 21,
    "start_time": "2023-08-17T11:49:28.869Z"
   },
   {
    "duration": 31,
    "start_time": "2023-08-17T11:49:29.357Z"
   },
   {
    "duration": 12,
    "start_time": "2023-08-17T11:49:29.737Z"
   },
   {
    "duration": 37,
    "start_time": "2023-08-17T11:49:30.597Z"
   },
   {
    "duration": 18,
    "start_time": "2023-08-17T11:49:31.125Z"
   },
   {
    "duration": 30,
    "start_time": "2023-08-17T11:49:32.025Z"
   },
   {
    "duration": 21,
    "start_time": "2023-08-17T11:49:33.026Z"
   },
   {
    "duration": 1676,
    "start_time": "2023-08-17T11:50:40.593Z"
   },
   {
    "duration": 1194,
    "start_time": "2023-08-17T11:51:19.805Z"
   },
   {
    "duration": 5,
    "start_time": "2023-08-17T11:51:39.457Z"
   },
   {
    "duration": 5,
    "start_time": "2023-08-17T11:51:50.899Z"
   },
   {
    "duration": 962,
    "start_time": "2023-08-17T11:52:16.101Z"
   },
   {
    "duration": 5,
    "start_time": "2023-08-17T12:01:42.398Z"
   },
   {
    "duration": 7,
    "start_time": "2023-08-17T12:01:50.973Z"
   },
   {
    "duration": 1740,
    "start_time": "2023-08-17T12:03:24.197Z"
   },
   {
    "duration": 1674,
    "start_time": "2023-08-17T12:03:37.934Z"
   },
   {
    "duration": 1574,
    "start_time": "2023-08-17T12:04:51.413Z"
   },
   {
    "duration": 24,
    "start_time": "2023-08-17T12:08:22.810Z"
   },
   {
    "duration": 6,
    "start_time": "2023-08-17T12:08:35.753Z"
   },
   {
    "duration": 6,
    "start_time": "2023-08-17T12:09:19.902Z"
   },
   {
    "duration": 6,
    "start_time": "2023-08-17T12:15:57.692Z"
   },
   {
    "duration": 5,
    "start_time": "2023-08-17T12:16:02.036Z"
   },
   {
    "duration": 5,
    "start_time": "2023-08-17T12:16:07.099Z"
   },
   {
    "duration": 4,
    "start_time": "2023-08-17T12:16:14.893Z"
   },
   {
    "duration": 5,
    "start_time": "2023-08-17T12:16:23.052Z"
   },
   {
    "duration": 11,
    "start_time": "2023-08-17T12:16:37.332Z"
   },
   {
    "duration": 21,
    "start_time": "2023-08-17T12:16:49.852Z"
   },
   {
    "duration": 4,
    "start_time": "2023-08-17T12:16:50.608Z"
   },
   {
    "duration": 7,
    "start_time": "2023-08-17T12:17:03.652Z"
   },
   {
    "duration": 20,
    "start_time": "2023-08-17T12:17:33.651Z"
   },
   {
    "duration": 4,
    "start_time": "2023-08-17T12:17:43.472Z"
   },
   {
    "duration": 5,
    "start_time": "2023-08-17T12:17:44.813Z"
   },
   {
    "duration": 24,
    "start_time": "2023-08-17T12:17:53.972Z"
   },
   {
    "duration": 4,
    "start_time": "2023-08-17T12:17:55.368Z"
   },
   {
    "duration": 3,
    "start_time": "2023-08-17T12:34:23.115Z"
   },
   {
    "duration": 274,
    "start_time": "2023-08-17T12:34:23.120Z"
   },
   {
    "duration": 50,
    "start_time": "2023-08-17T12:34:23.396Z"
   },
   {
    "duration": 36,
    "start_time": "2023-08-17T12:34:23.448Z"
   },
   {
    "duration": 12,
    "start_time": "2023-08-17T12:34:23.487Z"
   },
   {
    "duration": 79,
    "start_time": "2023-08-17T12:34:23.501Z"
   },
   {
    "duration": 18,
    "start_time": "2023-08-17T12:34:23.582Z"
   },
   {
    "duration": 17,
    "start_time": "2023-08-17T12:34:23.602Z"
   },
   {
    "duration": 28,
    "start_time": "2023-08-17T12:34:23.620Z"
   },
   {
    "duration": 82,
    "start_time": "2023-08-17T12:34:23.650Z"
   },
   {
    "duration": 519,
    "start_time": "2023-08-17T12:40:21.152Z"
   },
   {
    "duration": 58,
    "start_time": "2023-08-17T12:41:02.896Z"
   },
   {
    "duration": 20,
    "start_time": "2023-08-17T12:41:31.352Z"
   },
   {
    "duration": 435,
    "start_time": "2023-08-17T12:43:18.938Z"
   },
   {
    "duration": 259,
    "start_time": "2023-08-17T12:43:19.375Z"
   },
   {
    "duration": 34,
    "start_time": "2023-08-17T12:43:19.638Z"
   },
   {
    "duration": 55,
    "start_time": "2023-08-17T12:43:19.674Z"
   },
   {
    "duration": 21,
    "start_time": "2023-08-17T12:43:19.731Z"
   },
   {
    "duration": 48,
    "start_time": "2023-08-17T12:43:19.755Z"
   },
   {
    "duration": 36,
    "start_time": "2023-08-17T12:43:19.805Z"
   },
   {
    "duration": 9,
    "start_time": "2023-08-17T12:43:19.843Z"
   },
   {
    "duration": 30,
    "start_time": "2023-08-17T12:43:19.853Z"
   },
   {
    "duration": 23,
    "start_time": "2023-08-17T12:43:19.885Z"
   },
   {
    "duration": 25,
    "start_time": "2023-08-17T12:43:19.910Z"
   },
   {
    "duration": 456,
    "start_time": "2023-08-17T12:43:19.943Z"
   },
   {
    "duration": 0,
    "start_time": "2023-08-17T12:43:20.401Z"
   },
   {
    "duration": 0,
    "start_time": "2023-08-17T12:43:20.402Z"
   },
   {
    "duration": 0,
    "start_time": "2023-08-17T12:43:20.403Z"
   },
   {
    "duration": 0,
    "start_time": "2023-08-17T12:43:20.404Z"
   },
   {
    "duration": 0,
    "start_time": "2023-08-17T12:43:20.405Z"
   },
   {
    "duration": 3,
    "start_time": "2023-08-17T12:45:28.002Z"
   },
   {
    "duration": 136,
    "start_time": "2023-08-17T12:45:34.674Z"
   },
   {
    "duration": 49,
    "start_time": "2023-08-17T12:47:20.474Z"
   },
   {
    "duration": 29,
    "start_time": "2023-08-17T12:47:40.296Z"
   },
   {
    "duration": 16,
    "start_time": "2023-08-17T12:47:46.862Z"
   },
   {
    "duration": 846,
    "start_time": "2023-08-17T16:26:17.470Z"
   },
   {
    "duration": 517,
    "start_time": "2023-08-17T16:26:18.319Z"
   },
   {
    "duration": 24,
    "start_time": "2023-08-17T16:26:20.373Z"
   },
   {
    "duration": 34,
    "start_time": "2023-08-17T16:26:20.754Z"
   },
   {
    "duration": 15,
    "start_time": "2023-08-17T16:26:21.203Z"
   },
   {
    "duration": 44,
    "start_time": "2023-08-17T16:26:21.581Z"
   },
   {
    "duration": 20,
    "start_time": "2023-08-17T16:26:22.084Z"
   },
   {
    "duration": 8,
    "start_time": "2023-08-17T16:26:22.899Z"
   },
   {
    "duration": 29,
    "start_time": "2023-08-17T16:26:23.197Z"
   },
   {
    "duration": 30,
    "start_time": "2023-08-17T16:26:23.698Z"
   },
   {
    "duration": 23,
    "start_time": "2023-08-17T16:26:24.562Z"
   },
   {
    "duration": 139,
    "start_time": "2023-08-17T16:26:24.792Z"
   },
   {
    "duration": 62,
    "start_time": "2023-08-17T16:26:25.556Z"
   },
   {
    "duration": 17,
    "start_time": "2023-08-17T16:26:26.321Z"
   },
   {
    "duration": 6,
    "start_time": "2023-08-17T16:39:13.720Z"
   },
   {
    "duration": 5,
    "start_time": "2023-08-17T16:44:57.386Z"
   },
   {
    "duration": 5,
    "start_time": "2023-08-17T16:46:16.400Z"
   },
   {
    "duration": 7,
    "start_time": "2023-08-17T16:46:17.017Z"
   },
   {
    "duration": 6,
    "start_time": "2023-08-17T16:46:17.573Z"
   },
   {
    "duration": 6,
    "start_time": "2023-08-17T16:46:22.844Z"
   },
   {
    "duration": 5,
    "start_time": "2023-08-17T16:46:23.362Z"
   },
   {
    "duration": 5,
    "start_time": "2023-08-17T16:46:24.042Z"
   },
   {
    "duration": 5,
    "start_time": "2023-08-17T16:46:25.441Z"
   },
   {
    "duration": 10,
    "start_time": "2023-08-17T16:46:26.310Z"
   },
   {
    "duration": 5,
    "start_time": "2023-08-17T16:46:28.833Z"
   },
   {
    "duration": 2055,
    "start_time": "2023-08-17T16:51:06.912Z"
   },
   {
    "duration": 1502,
    "start_time": "2023-08-17T16:52:24.926Z"
   },
   {
    "duration": 1487,
    "start_time": "2023-08-17T16:53:09.238Z"
   },
   {
    "duration": 1018,
    "start_time": "2023-08-17T16:53:50.863Z"
   },
   {
    "duration": 49,
    "start_time": "2023-08-17T21:54:45.563Z"
   },
   {
    "duration": 717,
    "start_time": "2023-08-17T21:54:55.618Z"
   },
   {
    "duration": 455,
    "start_time": "2023-08-17T21:54:56.337Z"
   },
   {
    "duration": 25,
    "start_time": "2023-08-17T21:54:56.794Z"
   },
   {
    "duration": 32,
    "start_time": "2023-08-17T21:54:56.852Z"
   },
   {
    "duration": 11,
    "start_time": "2023-08-17T21:54:56.887Z"
   },
   {
    "duration": 60,
    "start_time": "2023-08-17T21:54:56.900Z"
   },
   {
    "duration": 17,
    "start_time": "2023-08-17T21:54:57.019Z"
   },
   {
    "duration": 7,
    "start_time": "2023-08-17T21:54:57.344Z"
   },
   {
    "duration": 26,
    "start_time": "2023-08-17T21:54:57.536Z"
   },
   {
    "duration": 25,
    "start_time": "2023-08-17T21:54:57.894Z"
   },
   {
    "duration": 21,
    "start_time": "2023-08-17T21:55:00.050Z"
   },
   {
    "duration": 121,
    "start_time": "2023-08-17T21:55:03.002Z"
   },
   {
    "duration": 52,
    "start_time": "2023-08-17T21:55:05.303Z"
   },
   {
    "duration": 16,
    "start_time": "2023-08-17T21:55:06.036Z"
   },
   {
    "duration": 21304,
    "start_time": "2023-08-17T21:55:11.407Z"
   },
   {
    "duration": 21476,
    "start_time": "2023-08-17T21:56:48.339Z"
   },
   {
    "duration": 1049,
    "start_time": "2023-08-18T19:43:03.567Z"
   },
   {
    "duration": 505,
    "start_time": "2023-08-18T19:43:04.618Z"
   },
   {
    "duration": 47,
    "start_time": "2023-08-18T19:43:05.125Z"
   },
   {
    "duration": 31,
    "start_time": "2023-08-18T19:43:05.174Z"
   },
   {
    "duration": 11,
    "start_time": "2023-08-18T19:43:05.207Z"
   },
   {
    "duration": 65,
    "start_time": "2023-08-18T19:43:05.220Z"
   },
   {
    "duration": 16,
    "start_time": "2023-08-18T19:43:05.286Z"
   },
   {
    "duration": 7,
    "start_time": "2023-08-18T19:43:05.304Z"
   },
   {
    "duration": 48,
    "start_time": "2023-08-18T19:43:05.313Z"
   },
   {
    "duration": 26,
    "start_time": "2023-08-18T19:43:05.363Z"
   },
   {
    "duration": 21,
    "start_time": "2023-08-18T19:43:12.007Z"
   },
   {
    "duration": 155,
    "start_time": "2023-08-18T19:43:19.112Z"
   },
   {
    "duration": 1003,
    "start_time": "2023-08-18T19:47:07.150Z"
   },
   {
    "duration": 1315,
    "start_time": "2023-08-18T19:49:14.718Z"
   },
   {
    "duration": 9,
    "start_time": "2023-08-18T19:49:37.005Z"
   },
   {
    "duration": 7,
    "start_time": "2023-08-18T19:52:20.005Z"
   },
   {
    "duration": 16,
    "start_time": "2023-08-18T19:52:34.180Z"
   },
   {
    "duration": 72,
    "start_time": "2023-08-18T19:53:01.605Z"
   },
   {
    "duration": 12,
    "start_time": "2023-08-18T19:53:34.443Z"
   },
   {
    "duration": 9,
    "start_time": "2023-08-18T19:53:45.080Z"
   },
   {
    "duration": 14,
    "start_time": "2023-08-18T19:56:58.054Z"
   },
   {
    "duration": 79,
    "start_time": "2023-08-18T20:14:57.808Z"
   },
   {
    "duration": 9,
    "start_time": "2023-08-18T20:16:49.184Z"
   },
   {
    "duration": 7,
    "start_time": "2023-08-18T20:17:06.608Z"
   },
   {
    "duration": 7,
    "start_time": "2023-08-18T20:17:35.955Z"
   },
   {
    "duration": 3994,
    "start_time": "2023-08-18T20:18:15.852Z"
   },
   {
    "duration": 581,
    "start_time": "2023-08-18T20:18:23.109Z"
   },
   {
    "duration": 20579,
    "start_time": "2023-08-18T20:18:26.511Z"
   },
   {
    "duration": 4,
    "start_time": "2023-08-18T20:20:04.219Z"
   },
   {
    "duration": 19,
    "start_time": "2023-08-18T20:20:06.570Z"
   },
   {
    "duration": 2,
    "start_time": "2023-08-18T20:20:59.120Z"
   },
   {
    "duration": 950,
    "start_time": "2023-08-18T20:22:27.264Z"
   },
   {
    "duration": 1517,
    "start_time": "2023-08-18T20:23:21.444Z"
   },
   {
    "duration": 1546,
    "start_time": "2023-08-18T20:23:38.873Z"
   },
   {
    "duration": 4,
    "start_time": "2023-08-18T20:27:51.046Z"
   },
   {
    "duration": 1328,
    "start_time": "2023-08-18T20:27:51.931Z"
   },
   {
    "duration": 16,
    "start_time": "2023-08-18T20:29:12.116Z"
   },
   {
    "duration": 49,
    "start_time": "2023-08-18T20:40:45.142Z"
   },
   {
    "duration": 4,
    "start_time": "2023-08-18T20:41:08.536Z"
   },
   {
    "duration": 499,
    "start_time": "2023-08-18T20:41:17.531Z"
   },
   {
    "duration": 15,
    "start_time": "2023-08-18T20:41:58.916Z"
   },
   {
    "duration": 437,
    "start_time": "2023-08-18T20:42:14.466Z"
   },
   {
    "duration": 1326,
    "start_time": "2023-08-18T21:19:22.376Z"
   },
   {
    "duration": 15,
    "start_time": "2023-08-18T21:20:34.787Z"
   },
   {
    "duration": 1292,
    "start_time": "2023-08-18T21:20:47.278Z"
   },
   {
    "duration": 2138,
    "start_time": "2023-08-18T21:23:17.924Z"
   },
   {
    "duration": 3,
    "start_time": "2023-08-18T21:23:20.065Z"
   },
   {
    "duration": 213,
    "start_time": "2023-08-18T21:23:20.069Z"
   },
   {
    "duration": 19,
    "start_time": "2023-08-18T21:23:20.285Z"
   },
   {
    "duration": 53,
    "start_time": "2023-08-18T21:23:20.306Z"
   },
   {
    "duration": 11,
    "start_time": "2023-08-18T21:23:20.360Z"
   },
   {
    "duration": 62,
    "start_time": "2023-08-18T21:23:20.372Z"
   },
   {
    "duration": 16,
    "start_time": "2023-08-18T21:23:20.436Z"
   },
   {
    "duration": 16,
    "start_time": "2023-08-18T21:23:20.453Z"
   },
   {
    "duration": 38,
    "start_time": "2023-08-18T21:23:20.472Z"
   },
   {
    "duration": 28,
    "start_time": "2023-08-18T21:23:20.512Z"
   },
   {
    "duration": 1031,
    "start_time": "2023-08-18T21:23:20.542Z"
   },
   {
    "duration": 0,
    "start_time": "2023-08-18T21:23:21.575Z"
   },
   {
    "duration": 0,
    "start_time": "2023-08-18T21:23:21.576Z"
   },
   {
    "duration": 0,
    "start_time": "2023-08-18T21:23:21.577Z"
   },
   {
    "duration": 0,
    "start_time": "2023-08-18T21:23:21.579Z"
   },
   {
    "duration": 0,
    "start_time": "2023-08-18T21:23:21.579Z"
   },
   {
    "duration": 0,
    "start_time": "2023-08-18T21:23:21.581Z"
   },
   {
    "duration": 0,
    "start_time": "2023-08-18T21:23:21.581Z"
   },
   {
    "duration": 0,
    "start_time": "2023-08-18T21:23:21.582Z"
   },
   {
    "duration": 0,
    "start_time": "2023-08-18T21:23:21.583Z"
   },
   {
    "duration": 0,
    "start_time": "2023-08-18T21:23:21.584Z"
   },
   {
    "duration": 0,
    "start_time": "2023-08-18T21:23:21.585Z"
   },
   {
    "duration": 0,
    "start_time": "2023-08-18T21:23:21.586Z"
   },
   {
    "duration": 0,
    "start_time": "2023-08-18T21:23:21.587Z"
   },
   {
    "duration": 0,
    "start_time": "2023-08-18T21:23:21.588Z"
   },
   {
    "duration": 0,
    "start_time": "2023-08-18T21:23:21.589Z"
   },
   {
    "duration": 0,
    "start_time": "2023-08-18T21:23:21.591Z"
   },
   {
    "duration": 0,
    "start_time": "2023-08-18T21:23:21.592Z"
   },
   {
    "duration": 0,
    "start_time": "2023-08-18T21:23:21.593Z"
   },
   {
    "duration": 0,
    "start_time": "2023-08-18T21:23:21.594Z"
   },
   {
    "duration": 1010,
    "start_time": "2023-08-18T21:23:26.579Z"
   },
   {
    "duration": 30565,
    "start_time": "2023-08-18T21:23:39.942Z"
   },
   {
    "duration": 12,
    "start_time": "2023-08-18T21:24:10.508Z"
   },
   {
    "duration": 3013,
    "start_time": "2023-08-19T12:18:20.015Z"
   },
   {
    "duration": 1401,
    "start_time": "2023-08-19T12:18:23.031Z"
   },
   {
    "duration": 558,
    "start_time": "2023-08-19T12:18:24.434Z"
   },
   {
    "duration": 22,
    "start_time": "2023-08-19T12:18:24.994Z"
   },
   {
    "duration": 61,
    "start_time": "2023-08-19T12:18:25.017Z"
   },
   {
    "duration": 12,
    "start_time": "2023-08-19T12:18:25.080Z"
   },
   {
    "duration": 41,
    "start_time": "2023-08-19T12:18:25.094Z"
   },
   {
    "duration": 37,
    "start_time": "2023-08-19T12:18:25.137Z"
   },
   {
    "duration": 6,
    "start_time": "2023-08-19T12:18:25.176Z"
   },
   {
    "duration": 27,
    "start_time": "2023-08-19T12:18:25.184Z"
   },
   {
    "duration": 22,
    "start_time": "2023-08-19T12:18:25.213Z"
   },
   {
    "duration": 32402,
    "start_time": "2023-08-19T12:20:51.306Z"
   },
   {
    "duration": 110,
    "start_time": "2023-08-19T12:21:23.710Z"
   },
   {
    "duration": 47,
    "start_time": "2023-08-19T12:23:22.602Z"
   },
   {
    "duration": 2097,
    "start_time": "2023-08-19T12:23:29.717Z"
   },
   {
    "duration": 1216,
    "start_time": "2023-08-19T12:23:31.816Z"
   },
   {
    "duration": 558,
    "start_time": "2023-08-19T12:23:33.034Z"
   },
   {
    "duration": 24,
    "start_time": "2023-08-19T12:23:33.593Z"
   },
   {
    "duration": 63,
    "start_time": "2023-08-19T12:23:33.619Z"
   },
   {
    "duration": 13,
    "start_time": "2023-08-19T12:23:33.684Z"
   },
   {
    "duration": 68,
    "start_time": "2023-08-19T12:23:33.699Z"
   },
   {
    "duration": 18,
    "start_time": "2023-08-19T12:23:33.769Z"
   },
   {
    "duration": 15,
    "start_time": "2023-08-19T12:23:33.789Z"
   },
   {
    "duration": 26,
    "start_time": "2023-08-19T12:23:33.805Z"
   },
   {
    "duration": 39,
    "start_time": "2023-08-19T12:23:33.833Z"
   },
   {
    "duration": 2104,
    "start_time": "2023-08-19T12:25:06.958Z"
   },
   {
    "duration": 1163,
    "start_time": "2023-08-19T12:25:09.065Z"
   },
   {
    "duration": 547,
    "start_time": "2023-08-19T12:25:10.230Z"
   },
   {
    "duration": 21,
    "start_time": "2023-08-19T12:25:10.779Z"
   },
   {
    "duration": 31,
    "start_time": "2023-08-19T12:25:10.802Z"
   },
   {
    "duration": 13,
    "start_time": "2023-08-19T12:25:10.858Z"
   },
   {
    "duration": 39,
    "start_time": "2023-08-19T12:25:10.872Z"
   },
   {
    "duration": 16,
    "start_time": "2023-08-19T12:25:10.913Z"
   },
   {
    "duration": 34,
    "start_time": "2023-08-19T12:25:10.930Z"
   },
   {
    "duration": 25,
    "start_time": "2023-08-19T12:25:10.965Z"
   },
   {
    "duration": 22,
    "start_time": "2023-08-19T12:25:10.992Z"
   },
   {
    "duration": 50,
    "start_time": "2023-08-19T12:25:45.518Z"
   },
   {
    "duration": 6,
    "start_time": "2023-08-19T12:25:45.922Z"
   },
   {
    "duration": 1999,
    "start_time": "2023-08-19T12:25:49.045Z"
   },
   {
    "duration": 1177,
    "start_time": "2023-08-19T12:25:51.046Z"
   },
   {
    "duration": 536,
    "start_time": "2023-08-19T12:25:52.225Z"
   },
   {
    "duration": 24,
    "start_time": "2023-08-19T12:25:52.763Z"
   },
   {
    "duration": 34,
    "start_time": "2023-08-19T12:25:52.789Z"
   },
   {
    "duration": 48,
    "start_time": "2023-08-19T12:25:52.825Z"
   },
   {
    "duration": 41,
    "start_time": "2023-08-19T12:25:52.875Z"
   },
   {
    "duration": 16,
    "start_time": "2023-08-19T12:25:52.918Z"
   },
   {
    "duration": 23,
    "start_time": "2023-08-19T12:25:52.936Z"
   },
   {
    "duration": 32,
    "start_time": "2023-08-19T12:25:52.960Z"
   },
   {
    "duration": 27,
    "start_time": "2023-08-19T12:25:52.994Z"
   },
   {
    "duration": 1949,
    "start_time": "2023-08-19T12:26:47.406Z"
   },
   {
    "duration": 1248,
    "start_time": "2023-08-19T12:26:49.357Z"
   },
   {
    "duration": 491,
    "start_time": "2023-08-19T12:26:50.607Z"
   },
   {
    "duration": 23,
    "start_time": "2023-08-19T12:26:51.099Z"
   },
   {
    "duration": 60,
    "start_time": "2023-08-19T12:26:51.124Z"
   },
   {
    "duration": 11,
    "start_time": "2023-08-19T12:26:51.185Z"
   },
   {
    "duration": 44,
    "start_time": "2023-08-19T12:26:51.198Z"
   },
   {
    "duration": 17,
    "start_time": "2023-08-19T12:26:51.260Z"
   },
   {
    "duration": 7,
    "start_time": "2023-08-19T12:26:51.278Z"
   },
   {
    "duration": 34,
    "start_time": "2023-08-19T12:26:51.287Z"
   },
   {
    "duration": 45,
    "start_time": "2023-08-19T12:26:51.323Z"
   },
   {
    "duration": 2096,
    "start_time": "2023-08-19T12:27:33.506Z"
   },
   {
    "duration": 1126,
    "start_time": "2023-08-19T12:27:35.605Z"
   },
   {
    "duration": 488,
    "start_time": "2023-08-19T12:27:36.732Z"
   },
   {
    "duration": 48,
    "start_time": "2023-08-19T12:27:37.222Z"
   },
   {
    "duration": 33,
    "start_time": "2023-08-19T12:27:37.272Z"
   },
   {
    "duration": 14,
    "start_time": "2023-08-19T12:27:37.307Z"
   },
   {
    "duration": 64,
    "start_time": "2023-08-19T12:27:37.323Z"
   },
   {
    "duration": 18,
    "start_time": "2023-08-19T12:27:37.388Z"
   },
   {
    "duration": 7,
    "start_time": "2023-08-19T12:27:37.408Z"
   },
   {
    "duration": 44,
    "start_time": "2023-08-19T12:27:37.416Z"
   },
   {
    "duration": 24,
    "start_time": "2023-08-19T12:27:37.461Z"
   },
   {
    "duration": 51,
    "start_time": "2023-08-19T12:28:10.704Z"
   },
   {
    "duration": 2095,
    "start_time": "2023-08-19T12:28:26.665Z"
   },
   {
    "duration": 1185,
    "start_time": "2023-08-19T12:28:28.762Z"
   },
   {
    "duration": 532,
    "start_time": "2023-08-19T12:28:29.949Z"
   },
   {
    "duration": 25,
    "start_time": "2023-08-19T12:28:30.484Z"
   },
   {
    "duration": 81,
    "start_time": "2023-08-19T12:28:30.511Z"
   },
   {
    "duration": 17,
    "start_time": "2023-08-19T12:28:30.595Z"
   },
   {
    "duration": 75,
    "start_time": "2023-08-19T12:28:30.614Z"
   },
   {
    "duration": 22,
    "start_time": "2023-08-19T12:28:30.691Z"
   },
   {
    "duration": 28,
    "start_time": "2023-08-19T12:28:30.715Z"
   },
   {
    "duration": 68,
    "start_time": "2023-08-19T12:28:30.745Z"
   },
   {
    "duration": 54,
    "start_time": "2023-08-19T12:28:30.815Z"
   },
   {
    "duration": 99,
    "start_time": "2023-08-19T12:29:22.857Z"
   },
   {
    "duration": 96,
    "start_time": "2023-08-19T12:29:35.005Z"
   },
   {
    "duration": 11,
    "start_time": "2023-08-19T12:29:48.100Z"
   },
   {
    "duration": 30,
    "start_time": "2023-08-19T12:32:37.499Z"
   },
   {
    "duration": 19,
    "start_time": "2023-08-19T12:32:53.085Z"
   },
   {
    "duration": 7,
    "start_time": "2023-08-19T12:33:26.432Z"
   },
   {
    "duration": 12,
    "start_time": "2023-08-19T12:35:12.400Z"
   },
   {
    "duration": 10,
    "start_time": "2023-08-19T12:37:56.647Z"
   },
   {
    "duration": 78,
    "start_time": "2023-08-19T12:38:22.708Z"
   },
   {
    "duration": 59,
    "start_time": "2023-08-19T12:38:28.325Z"
   },
   {
    "duration": 2929,
    "start_time": "2023-08-19T20:48:38.034Z"
   },
   {
    "duration": 1237,
    "start_time": "2023-08-19T20:48:40.965Z"
   },
   {
    "duration": 483,
    "start_time": "2023-08-19T20:48:42.204Z"
   },
   {
    "duration": 20,
    "start_time": "2023-08-19T20:48:42.689Z"
   },
   {
    "duration": 56,
    "start_time": "2023-08-19T20:48:42.710Z"
   },
   {
    "duration": 10,
    "start_time": "2023-08-19T20:48:42.768Z"
   },
   {
    "duration": 34,
    "start_time": "2023-08-19T20:48:43.698Z"
   },
   {
    "duration": 16,
    "start_time": "2023-08-19T20:48:44.743Z"
   },
   {
    "duration": 7,
    "start_time": "2023-08-19T20:48:48.709Z"
   },
   {
    "duration": 25,
    "start_time": "2023-08-19T20:48:49.693Z"
   },
   {
    "duration": 22,
    "start_time": "2023-08-19T20:48:52.903Z"
   },
   {
    "duration": 8,
    "start_time": "2023-08-19T20:50:05.012Z"
   },
   {
    "duration": 47,
    "start_time": "2023-08-19T20:50:05.814Z"
   },
   {
    "duration": 4,
    "start_time": "2023-08-19T20:52:31.393Z"
   },
   {
    "duration": 808,
    "start_time": "2023-08-19T20:52:41.068Z"
   },
   {
    "duration": 5,
    "start_time": "2023-08-19T20:52:50.833Z"
   },
   {
    "duration": 13,
    "start_time": "2023-08-19T20:52:51.769Z"
   },
   {
    "duration": 146,
    "start_time": "2023-08-19T20:53:10.594Z"
   },
   {
    "duration": 96,
    "start_time": "2023-08-19T20:53:51.657Z"
   },
   {
    "duration": 16,
    "start_time": "2023-08-19T20:53:57.989Z"
   },
   {
    "duration": 2101,
    "start_time": "2023-08-19T21:07:41.831Z"
   },
   {
    "duration": 3,
    "start_time": "2023-08-19T21:07:43.935Z"
   },
   {
    "duration": 268,
    "start_time": "2023-08-19T21:07:43.940Z"
   },
   {
    "duration": 51,
    "start_time": "2023-08-19T21:07:44.211Z"
   },
   {
    "duration": 33,
    "start_time": "2023-08-19T21:07:44.263Z"
   },
   {
    "duration": 12,
    "start_time": "2023-08-19T21:07:44.297Z"
   },
   {
    "duration": 66,
    "start_time": "2023-08-19T21:07:44.311Z"
   },
   {
    "duration": 16,
    "start_time": "2023-08-19T21:07:44.379Z"
   },
   {
    "duration": 7,
    "start_time": "2023-08-19T21:07:44.396Z"
   },
   {
    "duration": 46,
    "start_time": "2023-08-19T21:07:44.406Z"
   },
   {
    "duration": 29,
    "start_time": "2023-08-19T21:07:44.454Z"
   },
   {
    "duration": 10,
    "start_time": "2023-08-19T21:07:44.485Z"
   },
   {
    "duration": 86,
    "start_time": "2023-08-19T21:07:44.497Z"
   },
   {
    "duration": 30,
    "start_time": "2023-08-19T21:07:44.585Z"
   },
   {
    "duration": 0,
    "start_time": "2023-08-19T21:07:44.616Z"
   },
   {
    "duration": 0,
    "start_time": "2023-08-19T21:07:44.618Z"
   },
   {
    "duration": 0,
    "start_time": "2023-08-19T21:07:44.619Z"
   },
   {
    "duration": 0,
    "start_time": "2023-08-19T21:07:44.620Z"
   },
   {
    "duration": 0,
    "start_time": "2023-08-19T21:07:44.622Z"
   },
   {
    "duration": 0,
    "start_time": "2023-08-19T21:07:44.623Z"
   },
   {
    "duration": 0,
    "start_time": "2023-08-19T21:07:44.624Z"
   },
   {
    "duration": 0,
    "start_time": "2023-08-19T21:07:44.625Z"
   },
   {
    "duration": 29,
    "start_time": "2023-08-19T21:08:04.895Z"
   },
   {
    "duration": 10,
    "start_time": "2023-08-19T21:08:04.926Z"
   },
   {
    "duration": 25,
    "start_time": "2023-08-19T21:08:04.938Z"
   },
   {
    "duration": 4,
    "start_time": "2023-08-19T21:08:04.964Z"
   },
   {
    "duration": 1428,
    "start_time": "2023-08-19T21:08:04.970Z"
   },
   {
    "duration": 4,
    "start_time": "2023-08-19T21:08:06.399Z"
   },
   {
    "duration": 22,
    "start_time": "2023-08-19T21:08:06.404Z"
   },
   {
    "duration": 408,
    "start_time": "2023-08-19T21:08:06.427Z"
   },
   {
    "duration": 17,
    "start_time": "2023-08-19T21:08:36.158Z"
   },
   {
    "duration": 2074,
    "start_time": "2023-08-19T21:08:43.022Z"
   },
   {
    "duration": 3,
    "start_time": "2023-08-19T21:08:45.099Z"
   },
   {
    "duration": 205,
    "start_time": "2023-08-19T21:08:45.104Z"
   },
   {
    "duration": 48,
    "start_time": "2023-08-19T21:08:45.310Z"
   },
   {
    "duration": 30,
    "start_time": "2023-08-19T21:08:45.360Z"
   },
   {
    "duration": 10,
    "start_time": "2023-08-19T21:08:45.392Z"
   },
   {
    "duration": 64,
    "start_time": "2023-08-19T21:08:45.403Z"
   },
   {
    "duration": 26,
    "start_time": "2023-08-19T21:08:45.469Z"
   },
   {
    "duration": 10,
    "start_time": "2023-08-19T21:08:45.497Z"
   },
   {
    "duration": 57,
    "start_time": "2023-08-19T21:08:45.510Z"
   },
   {
    "duration": 36,
    "start_time": "2023-08-19T21:08:45.569Z"
   },
   {
    "duration": 15,
    "start_time": "2023-08-19T21:08:45.607Z"
   },
   {
    "duration": 85,
    "start_time": "2023-08-19T21:08:45.624Z"
   },
   {
    "duration": 53,
    "start_time": "2023-08-19T21:08:45.711Z"
   },
   {
    "duration": 0,
    "start_time": "2023-08-19T21:08:45.767Z"
   },
   {
    "duration": 0,
    "start_time": "2023-08-19T21:08:45.768Z"
   },
   {
    "duration": 0,
    "start_time": "2023-08-19T21:08:45.769Z"
   },
   {
    "duration": 0,
    "start_time": "2023-08-19T21:08:45.770Z"
   },
   {
    "duration": 0,
    "start_time": "2023-08-19T21:08:45.772Z"
   },
   {
    "duration": 23,
    "start_time": "2023-08-19T21:08:50.668Z"
   },
   {
    "duration": 8,
    "start_time": "2023-08-19T21:08:54.296Z"
   },
   {
    "duration": 24,
    "start_time": "2023-08-19T21:08:54.659Z"
   },
   {
    "duration": 5,
    "start_time": "2023-08-19T21:10:01.502Z"
   },
   {
    "duration": 10,
    "start_time": "2023-08-19T21:10:02.952Z"
   },
   {
    "duration": 9,
    "start_time": "2023-08-19T21:10:16.888Z"
   },
   {
    "duration": 12,
    "start_time": "2023-08-19T21:10:24.556Z"
   },
   {
    "duration": 2235,
    "start_time": "2023-08-19T21:11:30.513Z"
   },
   {
    "duration": 4,
    "start_time": "2023-08-19T21:11:32.751Z"
   },
   {
    "duration": 242,
    "start_time": "2023-08-19T21:11:32.756Z"
   },
   {
    "duration": 54,
    "start_time": "2023-08-19T21:11:33.001Z"
   },
   {
    "duration": 44,
    "start_time": "2023-08-19T21:11:33.057Z"
   },
   {
    "duration": 15,
    "start_time": "2023-08-19T21:11:33.103Z"
   },
   {
    "duration": 76,
    "start_time": "2023-08-19T21:11:33.120Z"
   },
   {
    "duration": 22,
    "start_time": "2023-08-19T21:11:33.198Z"
   },
   {
    "duration": 7,
    "start_time": "2023-08-19T21:11:33.222Z"
   },
   {
    "duration": 36,
    "start_time": "2023-08-19T21:11:33.251Z"
   },
   {
    "duration": 34,
    "start_time": "2023-08-19T21:11:33.289Z"
   },
   {
    "duration": 36,
    "start_time": "2023-08-19T21:11:33.325Z"
   },
   {
    "duration": 94,
    "start_time": "2023-08-19T21:11:33.363Z"
   },
   {
    "duration": 41,
    "start_time": "2023-08-19T21:11:33.459Z"
   },
   {
    "duration": 0,
    "start_time": "2023-08-19T21:11:33.503Z"
   },
   {
    "duration": 0,
    "start_time": "2023-08-19T21:11:33.504Z"
   },
   {
    "duration": 0,
    "start_time": "2023-08-19T21:11:33.505Z"
   },
   {
    "duration": 0,
    "start_time": "2023-08-19T21:11:33.507Z"
   },
   {
    "duration": 9,
    "start_time": "2023-08-19T21:11:33.956Z"
   },
   {
    "duration": 17,
    "start_time": "2023-08-19T21:11:36.363Z"
   },
   {
    "duration": 19184,
    "start_time": "2023-08-19T21:11:51.397Z"
   },
   {
    "duration": 5,
    "start_time": "2023-08-19T21:13:00.351Z"
   },
   {
    "duration": 21,
    "start_time": "2023-08-19T21:13:01.552Z"
   },
   {
    "duration": 16715,
    "start_time": "2023-08-19T21:14:10.099Z"
   },
   {
    "duration": 2166,
    "start_time": "2023-08-19T21:15:06.493Z"
   },
   {
    "duration": 5,
    "start_time": "2023-08-19T21:15:08.661Z"
   },
   {
    "duration": 227,
    "start_time": "2023-08-19T21:15:08.669Z"
   },
   {
    "duration": 20,
    "start_time": "2023-08-19T21:15:08.898Z"
   },
   {
    "duration": 33,
    "start_time": "2023-08-19T21:15:08.950Z"
   },
   {
    "duration": 14,
    "start_time": "2023-08-19T21:15:08.985Z"
   },
   {
    "duration": 83,
    "start_time": "2023-08-19T21:15:09.001Z"
   },
   {
    "duration": 20,
    "start_time": "2023-08-19T21:15:09.086Z"
   },
   {
    "duration": 9,
    "start_time": "2023-08-19T21:15:09.110Z"
   },
   {
    "duration": 53,
    "start_time": "2023-08-19T21:15:09.122Z"
   },
   {
    "duration": 34,
    "start_time": "2023-08-19T21:15:09.178Z"
   },
   {
    "duration": 12,
    "start_time": "2023-08-19T21:15:09.214Z"
   },
   {
    "duration": 80,
    "start_time": "2023-08-19T21:15:09.250Z"
   },
   {
    "duration": 54,
    "start_time": "2023-08-19T21:15:09.332Z"
   },
   {
    "duration": 0,
    "start_time": "2023-08-19T21:15:09.388Z"
   },
   {
    "duration": 0,
    "start_time": "2023-08-19T21:15:09.390Z"
   },
   {
    "duration": 0,
    "start_time": "2023-08-19T21:15:09.391Z"
   },
   {
    "duration": 0,
    "start_time": "2023-08-19T21:15:09.393Z"
   },
   {
    "duration": 1,
    "start_time": "2023-08-19T21:15:09.395Z"
   },
   {
    "duration": 0,
    "start_time": "2023-08-19T21:15:09.397Z"
   },
   {
    "duration": 26,
    "start_time": "2023-08-19T21:16:07.564Z"
   },
   {
    "duration": 8,
    "start_time": "2023-08-19T21:16:46.399Z"
   },
   {
    "duration": 17,
    "start_time": "2023-08-19T21:16:47.325Z"
   },
   {
    "duration": 7,
    "start_time": "2023-08-19T21:16:58.804Z"
   },
   {
    "duration": 1379,
    "start_time": "2023-08-19T21:16:59.831Z"
   },
   {
    "duration": 5,
    "start_time": "2023-08-19T21:18:28.913Z"
   },
   {
    "duration": 16,
    "start_time": "2023-08-19T21:18:30.034Z"
   },
   {
    "duration": 460,
    "start_time": "2023-08-19T21:18:40.390Z"
   },
   {
    "duration": 199,
    "start_time": "2023-08-19T21:19:44.554Z"
   },
   {
    "duration": 2104,
    "start_time": "2023-08-19T21:19:59.184Z"
   },
   {
    "duration": 4,
    "start_time": "2023-08-19T21:20:01.291Z"
   },
   {
    "duration": 289,
    "start_time": "2023-08-19T21:20:01.297Z"
   },
   {
    "duration": 22,
    "start_time": "2023-08-19T21:20:01.588Z"
   },
   {
    "duration": 78,
    "start_time": "2023-08-19T21:20:01.612Z"
   },
   {
    "duration": 16,
    "start_time": "2023-08-19T21:20:01.692Z"
   },
   {
    "duration": 100,
    "start_time": "2023-08-19T21:20:01.711Z"
   },
   {
    "duration": 18,
    "start_time": "2023-08-19T21:20:01.813Z"
   },
   {
    "duration": 26,
    "start_time": "2023-08-19T21:20:01.833Z"
   },
   {
    "duration": 45,
    "start_time": "2023-08-19T21:20:01.861Z"
   },
   {
    "duration": 53,
    "start_time": "2023-08-19T21:20:01.908Z"
   },
   {
    "duration": 29,
    "start_time": "2023-08-19T21:20:01.962Z"
   },
   {
    "duration": 66,
    "start_time": "2023-08-19T21:20:01.992Z"
   },
   {
    "duration": 32,
    "start_time": "2023-08-19T21:20:02.061Z"
   },
   {
    "duration": 0,
    "start_time": "2023-08-19T21:20:02.095Z"
   },
   {
    "duration": 0,
    "start_time": "2023-08-19T21:20:02.096Z"
   },
   {
    "duration": 0,
    "start_time": "2023-08-19T21:20:02.097Z"
   },
   {
    "duration": 0,
    "start_time": "2023-08-19T21:20:02.098Z"
   },
   {
    "duration": 0,
    "start_time": "2023-08-19T21:20:02.099Z"
   },
   {
    "duration": 0,
    "start_time": "2023-08-19T21:20:02.100Z"
   },
   {
    "duration": 0,
    "start_time": "2023-08-19T21:20:02.101Z"
   },
   {
    "duration": 3,
    "start_time": "2023-08-19T21:26:14.671Z"
   },
   {
    "duration": 2261,
    "start_time": "2023-08-19T21:26:55.129Z"
   },
   {
    "duration": 4,
    "start_time": "2023-08-19T21:26:57.393Z"
   },
   {
    "duration": 259,
    "start_time": "2023-08-19T21:26:57.399Z"
   },
   {
    "duration": 21,
    "start_time": "2023-08-19T21:26:57.660Z"
   },
   {
    "duration": 33,
    "start_time": "2023-08-19T21:26:57.683Z"
   },
   {
    "duration": 47,
    "start_time": "2023-08-19T21:26:57.718Z"
   },
   {
    "duration": 48,
    "start_time": "2023-08-19T21:26:57.767Z"
   },
   {
    "duration": 37,
    "start_time": "2023-08-19T21:26:57.817Z"
   },
   {
    "duration": 9,
    "start_time": "2023-08-19T21:26:57.856Z"
   },
   {
    "duration": 24,
    "start_time": "2023-08-19T21:26:57.868Z"
   },
   {
    "duration": 57,
    "start_time": "2023-08-19T21:26:57.894Z"
   },
   {
    "duration": 3,
    "start_time": "2023-08-19T21:26:57.953Z"
   },
   {
    "duration": 3,
    "start_time": "2023-08-19T21:26:57.958Z"
   },
   {
    "duration": 4,
    "start_time": "2023-08-19T21:26:57.963Z"
   },
   {
    "duration": 31,
    "start_time": "2023-08-19T21:26:57.968Z"
   },
   {
    "duration": 9,
    "start_time": "2023-08-19T21:26:58.001Z"
   },
   {
    "duration": 46,
    "start_time": "2023-08-19T21:26:58.012Z"
   },
   {
    "duration": 5,
    "start_time": "2023-08-19T21:26:58.060Z"
   },
   {
    "duration": 943,
    "start_time": "2023-08-19T21:26:58.067Z"
   },
   {
    "duration": 5,
    "start_time": "2023-08-19T21:26:59.012Z"
   },
   {
    "duration": 15,
    "start_time": "2023-08-19T21:26:59.019Z"
   },
   {
    "duration": 239,
    "start_time": "2023-08-19T21:26:59.036Z"
   },
   {
    "duration": 138,
    "start_time": "2023-08-19T21:27:18.052Z"
   },
   {
    "duration": 513,
    "start_time": "2023-08-19T21:30:29.693Z"
   },
   {
    "duration": 422,
    "start_time": "2023-08-19T21:31:00.806Z"
   },
   {
    "duration": 402,
    "start_time": "2023-08-19T21:31:08.618Z"
   },
   {
    "duration": 277,
    "start_time": "2023-08-19T21:44:12.974Z"
   },
   {
    "duration": 146,
    "start_time": "2023-08-19T21:44:37.170Z"
   },
   {
    "duration": 240,
    "start_time": "2023-08-19T21:50:00.441Z"
   },
   {
    "duration": 446,
    "start_time": "2023-08-19T21:51:05.172Z"
   },
   {
    "duration": 449,
    "start_time": "2023-08-19T21:51:21.408Z"
   },
   {
    "duration": 332,
    "start_time": "2023-08-19T21:51:34.324Z"
   },
   {
    "duration": 386,
    "start_time": "2023-08-19T21:51:42.656Z"
   },
   {
    "duration": 274,
    "start_time": "2023-08-19T21:51:56.637Z"
   },
   {
    "duration": 296,
    "start_time": "2023-08-19T21:52:10.059Z"
   },
   {
    "duration": 301,
    "start_time": "2023-08-19T21:52:19.265Z"
   },
   {
    "duration": 276,
    "start_time": "2023-08-19T21:52:24.897Z"
   },
   {
    "duration": 250,
    "start_time": "2023-08-19T21:52:34.977Z"
   },
   {
    "duration": 267,
    "start_time": "2023-08-19T21:52:44.552Z"
   },
   {
    "duration": 5,
    "start_time": "2023-08-19T21:53:14.775Z"
   },
   {
    "duration": 73,
    "start_time": "2023-08-19T21:54:48.374Z"
   },
   {
    "duration": 70,
    "start_time": "2023-08-19T21:55:13.988Z"
   },
   {
    "duration": 1274,
    "start_time": "2023-08-19T21:55:22.162Z"
   },
   {
    "duration": 9,
    "start_time": "2023-08-19T21:56:13.224Z"
   },
   {
    "duration": 2856,
    "start_time": "2023-08-19T21:56:37.734Z"
   },
   {
    "duration": 1725,
    "start_time": "2023-08-19T21:57:45.518Z"
   },
   {
    "duration": 454,
    "start_time": "2023-08-19T21:58:00.527Z"
   },
   {
    "duration": 521,
    "start_time": "2023-08-19T21:58:13.817Z"
   },
   {
    "duration": 286,
    "start_time": "2023-08-19T21:58:30.708Z"
   },
   {
    "duration": 369,
    "start_time": "2023-08-19T21:59:02.540Z"
   },
   {
    "duration": 286,
    "start_time": "2023-08-19T21:59:22.945Z"
   },
   {
    "duration": 11,
    "start_time": "2023-08-19T21:59:43.013Z"
   },
   {
    "duration": 361,
    "start_time": "2023-08-19T22:01:26.292Z"
   },
   {
    "duration": 316,
    "start_time": "2023-08-19T22:01:46.096Z"
   },
   {
    "duration": 483,
    "start_time": "2023-08-19T22:01:53.571Z"
   },
   {
    "duration": 308,
    "start_time": "2023-08-19T22:01:57.592Z"
   },
   {
    "duration": 12,
    "start_time": "2023-08-19T22:03:07.628Z"
   },
   {
    "duration": 440,
    "start_time": "2023-08-19T22:03:40.652Z"
   },
   {
    "duration": 323,
    "start_time": "2023-08-19T22:04:47.017Z"
   },
   {
    "duration": 544,
    "start_time": "2023-08-19T22:06:29.239Z"
   },
   {
    "duration": 111,
    "start_time": "2023-08-19T22:08:52.455Z"
   },
   {
    "duration": 10,
    "start_time": "2023-08-19T22:11:23.252Z"
   },
   {
    "duration": 122877,
    "start_time": "2023-08-19T22:13:02.421Z"
   },
   {
    "duration": 435,
    "start_time": "2023-08-19T22:15:24.329Z"
   },
   {
    "duration": 112576,
    "start_time": "2023-08-19T22:15:57.040Z"
   },
   {
    "duration": 107,
    "start_time": "2023-08-19T22:17:49.618Z"
   },
   {
    "duration": 105,
    "start_time": "2023-08-19T22:17:58.090Z"
   },
   {
    "duration": 191,
    "start_time": "2023-08-19T22:18:44.635Z"
   },
   {
    "duration": 296,
    "start_time": "2023-08-19T22:19:22.691Z"
   },
   {
    "duration": 360,
    "start_time": "2023-08-19T22:20:01.346Z"
   },
   {
    "duration": 496,
    "start_time": "2023-08-19T22:22:30.126Z"
   },
   {
    "duration": 463,
    "start_time": "2023-08-19T22:23:05.462Z"
   },
   {
    "duration": 461,
    "start_time": "2023-08-19T22:23:15.111Z"
   },
   {
    "duration": 3608,
    "start_time": "2023-08-20T12:39:11.422Z"
   },
   {
    "duration": 1389,
    "start_time": "2023-08-20T12:39:15.032Z"
   },
   {
    "duration": 564,
    "start_time": "2023-08-20T12:39:16.423Z"
   },
   {
    "duration": 24,
    "start_time": "2023-08-20T12:39:16.991Z"
   },
   {
    "duration": 81,
    "start_time": "2023-08-20T12:39:17.016Z"
   },
   {
    "duration": 13,
    "start_time": "2023-08-20T12:39:17.099Z"
   },
   {
    "duration": 63,
    "start_time": "2023-08-20T12:39:17.114Z"
   },
   {
    "duration": 20,
    "start_time": "2023-08-20T12:39:17.186Z"
   },
   {
    "duration": 37,
    "start_time": "2023-08-20T12:39:17.208Z"
   },
   {
    "duration": 43,
    "start_time": "2023-08-20T12:39:17.248Z"
   },
   {
    "duration": 25,
    "start_time": "2023-08-20T12:39:17.293Z"
   },
   {
    "duration": 3,
    "start_time": "2023-08-20T12:39:17.319Z"
   },
   {
    "duration": 7,
    "start_time": "2023-08-20T12:39:17.323Z"
   },
   {
    "duration": 8,
    "start_time": "2023-08-20T12:39:17.333Z"
   },
   {
    "duration": 45,
    "start_time": "2023-08-20T12:39:17.344Z"
   },
   {
    "duration": 10,
    "start_time": "2023-08-20T12:39:17.391Z"
   },
   {
    "duration": 67,
    "start_time": "2023-08-20T12:39:17.403Z"
   },
   {
    "duration": 9,
    "start_time": "2023-08-20T12:39:17.476Z"
   },
   {
    "duration": 1090,
    "start_time": "2023-08-20T12:39:17.487Z"
   },
   {
    "duration": 6,
    "start_time": "2023-08-20T12:39:18.583Z"
   },
   {
    "duration": 22,
    "start_time": "2023-08-20T12:39:18.591Z"
   },
   {
    "duration": 251,
    "start_time": "2023-08-20T12:39:18.614Z"
   },
   {
    "duration": 139,
    "start_time": "2023-08-20T12:39:18.867Z"
   },
   {
    "duration": 198,
    "start_time": "2023-08-20T12:39:19.008Z"
   },
   {
    "duration": 154925,
    "start_time": "2023-08-20T12:39:19.208Z"
   },
   {
    "duration": 748,
    "start_time": "2023-08-20T12:41:54.135Z"
   },
   {
    "duration": 610,
    "start_time": "2023-08-20T12:41:54.885Z"
   },
   {
    "duration": 155215,
    "start_time": "2023-08-20T12:41:55.499Z"
   },
   {
    "duration": 390,
    "start_time": "2023-08-20T12:44:30.716Z"
   },
   {
    "duration": 180,
    "start_time": "2023-08-20T12:44:31.108Z"
   },
   {
    "duration": 131,
    "start_time": "2023-08-20T12:44:31.289Z"
   },
   {
    "duration": 0,
    "start_time": "2023-08-20T12:44:31.422Z"
   },
   {
    "duration": 0,
    "start_time": "2023-08-20T12:44:31.423Z"
   },
   {
    "duration": 0,
    "start_time": "2023-08-20T12:44:31.424Z"
   },
   {
    "duration": 0,
    "start_time": "2023-08-20T12:44:31.426Z"
   },
   {
    "duration": 0,
    "start_time": "2023-08-20T12:44:31.427Z"
   },
   {
    "duration": 177,
    "start_time": "2023-08-20T13:40:26.156Z"
   },
   {
    "duration": 166,
    "start_time": "2023-08-20T13:40:58.882Z"
   },
   {
    "duration": 2784,
    "start_time": "2023-08-20T13:42:03.121Z"
   },
   {
    "duration": 329,
    "start_time": "2023-08-20T13:42:53.438Z"
   },
   {
    "duration": 309,
    "start_time": "2023-08-20T13:43:11.089Z"
   },
   {
    "duration": 270,
    "start_time": "2023-08-20T13:43:17.305Z"
   },
   {
    "duration": 303,
    "start_time": "2023-08-20T13:44:21.481Z"
   },
   {
    "duration": 12,
    "start_time": "2023-08-20T13:45:09.901Z"
   },
   {
    "duration": 1415,
    "start_time": "2023-08-20T13:46:58.082Z"
   },
   {
    "duration": 15,
    "start_time": "2023-08-20T13:47:22.271Z"
   },
   {
    "duration": 2187,
    "start_time": "2023-08-20T13:47:45.639Z"
   },
   {
    "duration": 3,
    "start_time": "2023-08-20T13:47:47.830Z"
   },
   {
    "duration": 242,
    "start_time": "2023-08-20T13:47:47.835Z"
   },
   {
    "duration": 21,
    "start_time": "2023-08-20T13:47:48.079Z"
   },
   {
    "duration": 59,
    "start_time": "2023-08-20T13:47:48.101Z"
   },
   {
    "duration": 16,
    "start_time": "2023-08-20T13:47:48.162Z"
   },
   {
    "duration": 40,
    "start_time": "2023-08-20T13:47:48.180Z"
   },
   {
    "duration": 43,
    "start_time": "2023-08-20T13:47:48.222Z"
   },
   {
    "duration": 7,
    "start_time": "2023-08-20T13:47:48.267Z"
   },
   {
    "duration": 31,
    "start_time": "2023-08-20T13:47:48.276Z"
   },
   {
    "duration": 30,
    "start_time": "2023-08-20T13:47:48.309Z"
   },
   {
    "duration": 4,
    "start_time": "2023-08-20T13:47:48.357Z"
   },
   {
    "duration": 6,
    "start_time": "2023-08-20T13:47:48.364Z"
   },
   {
    "duration": 12,
    "start_time": "2023-08-20T13:47:48.371Z"
   },
   {
    "duration": 30,
    "start_time": "2023-08-20T13:47:48.385Z"
   },
   {
    "duration": 7,
    "start_time": "2023-08-20T13:47:48.418Z"
   },
   {
    "duration": 39,
    "start_time": "2023-08-20T13:47:48.427Z"
   },
   {
    "duration": 5,
    "start_time": "2023-08-20T13:47:48.468Z"
   },
   {
    "duration": 959,
    "start_time": "2023-08-20T13:47:48.475Z"
   },
   {
    "duration": 4,
    "start_time": "2023-08-20T13:47:49.435Z"
   },
   {
    "duration": 26,
    "start_time": "2023-08-20T13:47:49.441Z"
   },
   {
    "duration": 213,
    "start_time": "2023-08-20T13:47:49.468Z"
   },
   {
    "duration": 128,
    "start_time": "2023-08-20T13:47:49.683Z"
   },
   {
    "duration": 292,
    "start_time": "2023-08-20T13:47:49.812Z"
   },
   {
    "duration": 11,
    "start_time": "2023-08-20T13:47:50.106Z"
   },
   {
    "duration": 0,
    "start_time": "2023-08-20T13:47:50.119Z"
   },
   {
    "duration": 0,
    "start_time": "2023-08-20T13:47:50.120Z"
   },
   {
    "duration": 0,
    "start_time": "2023-08-20T13:47:50.121Z"
   },
   {
    "duration": 0,
    "start_time": "2023-08-20T13:47:50.122Z"
   },
   {
    "duration": 0,
    "start_time": "2023-08-20T13:47:50.123Z"
   },
   {
    "duration": 0,
    "start_time": "2023-08-20T13:47:50.124Z"
   },
   {
    "duration": 0,
    "start_time": "2023-08-20T13:47:50.125Z"
   },
   {
    "duration": 0,
    "start_time": "2023-08-20T13:47:50.125Z"
   },
   {
    "duration": 0,
    "start_time": "2023-08-20T13:47:50.126Z"
   },
   {
    "duration": 0,
    "start_time": "2023-08-20T13:47:50.128Z"
   },
   {
    "duration": 0,
    "start_time": "2023-08-20T13:47:50.152Z"
   },
   {
    "duration": 12,
    "start_time": "2023-08-20T13:48:17.228Z"
   },
   {
    "duration": 12,
    "start_time": "2023-08-20T13:48:51.274Z"
   },
   {
    "duration": 2,
    "start_time": "2023-08-20T13:48:55.395Z"
   },
   {
    "duration": 3160,
    "start_time": "2023-08-20T15:48:58.530Z"
   },
   {
    "duration": 1218,
    "start_time": "2023-08-20T15:49:01.693Z"
   },
   {
    "duration": 483,
    "start_time": "2023-08-20T15:49:02.913Z"
   },
   {
    "duration": 20,
    "start_time": "2023-08-20T15:49:03.398Z"
   },
   {
    "duration": 53,
    "start_time": "2023-08-20T15:49:03.419Z"
   },
   {
    "duration": 9,
    "start_time": "2023-08-20T15:49:03.474Z"
   },
   {
    "duration": 34,
    "start_time": "2023-08-20T15:49:03.484Z"
   },
   {
    "duration": 36,
    "start_time": "2023-08-20T15:49:03.520Z"
   },
   {
    "duration": 6,
    "start_time": "2023-08-20T15:49:03.557Z"
   },
   {
    "duration": 39,
    "start_time": "2023-08-20T15:49:03.565Z"
   },
   {
    "duration": 21,
    "start_time": "2023-08-20T15:49:03.605Z"
   },
   {
    "duration": 2,
    "start_time": "2023-08-20T15:49:03.628Z"
   },
   {
    "duration": 8,
    "start_time": "2023-08-20T15:49:03.631Z"
   },
   {
    "duration": 4,
    "start_time": "2023-08-20T15:49:03.640Z"
   },
   {
    "duration": 24,
    "start_time": "2023-08-20T15:49:03.645Z"
   },
   {
    "duration": 7,
    "start_time": "2023-08-20T15:49:03.670Z"
   },
   {
    "duration": 46,
    "start_time": "2023-08-20T15:49:03.679Z"
   },
   {
    "duration": 22,
    "start_time": "2023-08-20T15:49:03.727Z"
   },
   {
    "duration": 858,
    "start_time": "2023-08-20T15:49:03.751Z"
   },
   {
    "duration": 4,
    "start_time": "2023-08-20T15:49:04.611Z"
   },
   {
    "duration": 15,
    "start_time": "2023-08-20T15:49:04.616Z"
   },
   {
    "duration": 200,
    "start_time": "2023-08-20T15:49:04.633Z"
   },
   {
    "duration": 122,
    "start_time": "2023-08-20T15:49:04.834Z"
   },
   {
    "duration": 260,
    "start_time": "2023-08-20T15:49:04.958Z"
   },
   {
    "duration": 101,
    "start_time": "2023-08-20T15:49:05.219Z"
   },
   {
    "duration": 0,
    "start_time": "2023-08-20T15:49:05.323Z"
   },
   {
    "duration": 1,
    "start_time": "2023-08-20T15:49:05.324Z"
   },
   {
    "duration": 0,
    "start_time": "2023-08-20T15:49:05.326Z"
   },
   {
    "duration": 0,
    "start_time": "2023-08-20T15:49:05.327Z"
   },
   {
    "duration": 1,
    "start_time": "2023-08-20T15:49:05.328Z"
   },
   {
    "duration": 0,
    "start_time": "2023-08-20T15:49:05.330Z"
   },
   {
    "duration": 0,
    "start_time": "2023-08-20T15:49:05.331Z"
   },
   {
    "duration": 0,
    "start_time": "2023-08-20T15:49:05.350Z"
   },
   {
    "duration": 0,
    "start_time": "2023-08-20T15:49:05.351Z"
   },
   {
    "duration": 0,
    "start_time": "2023-08-20T15:49:05.353Z"
   },
   {
    "duration": 0,
    "start_time": "2023-08-20T15:49:05.354Z"
   },
   {
    "duration": 64,
    "start_time": "2023-08-20T15:56:12.704Z"
   },
   {
    "duration": 232,
    "start_time": "2023-08-20T15:56:38.609Z"
   },
   {
    "duration": 423,
    "start_time": "2023-08-20T15:56:59.257Z"
   },
   {
    "duration": 183,
    "start_time": "2023-08-20T15:59:46.013Z"
   },
   {
    "duration": 824,
    "start_time": "2023-08-20T16:06:45.812Z"
   },
   {
    "duration": 606,
    "start_time": "2023-08-20T16:08:59.875Z"
   },
   {
    "duration": 29,
    "start_time": "2023-08-20T16:09:41.826Z"
   },
   {
    "duration": 14,
    "start_time": "2023-08-20T16:09:50.969Z"
   },
   {
    "duration": 116,
    "start_time": "2023-08-20T16:10:22.417Z"
   },
   {
    "duration": 14,
    "start_time": "2023-08-20T16:10:27.755Z"
   },
   {
    "duration": 453,
    "start_time": "2023-08-20T16:12:52.318Z"
   },
   {
    "duration": 114,
    "start_time": "2023-08-20T16:20:05.174Z"
   },
   {
    "duration": 68,
    "start_time": "2023-08-20T16:21:03.072Z"
   },
   {
    "duration": 394,
    "start_time": "2023-08-20T16:21:56.675Z"
   },
   {
    "duration": 457,
    "start_time": "2023-08-20T16:22:58.500Z"
   },
   {
    "duration": 857,
    "start_time": "2023-08-20T16:23:07.859Z"
   },
   {
    "duration": 78,
    "start_time": "2023-08-20T16:23:34.542Z"
   },
   {
    "duration": 846,
    "start_time": "2023-08-20T16:23:40.306Z"
   },
   {
    "duration": 16,
    "start_time": "2023-08-20T16:23:59.817Z"
   },
   {
    "duration": 1793,
    "start_time": "2023-08-20T16:24:14.064Z"
   },
   {
    "duration": 93,
    "start_time": "2023-08-20T16:24:31.301Z"
   },
   {
    "duration": 108,
    "start_time": "2023-08-20T16:25:22.600Z"
   },
   {
    "duration": 751,
    "start_time": "2023-08-20T16:25:45.528Z"
   },
   {
    "duration": 780,
    "start_time": "2023-08-20T16:31:17.579Z"
   },
   {
    "duration": 767,
    "start_time": "2023-08-20T16:31:47.558Z"
   },
   {
    "duration": 736,
    "start_time": "2023-08-20T16:32:57.495Z"
   },
   {
    "duration": 162,
    "start_time": "2023-08-20T16:34:07.531Z"
   },
   {
    "duration": 895,
    "start_time": "2023-08-20T16:34:15.749Z"
   },
   {
    "duration": 809,
    "start_time": "2023-08-20T16:34:56.809Z"
   },
   {
    "duration": 4021,
    "start_time": "2023-08-20T20:19:38.076Z"
   },
   {
    "duration": 1843,
    "start_time": "2023-08-20T20:19:42.099Z"
   },
   {
    "duration": 479,
    "start_time": "2023-08-20T20:19:43.943Z"
   },
   {
    "duration": 49,
    "start_time": "2023-08-20T20:19:44.424Z"
   },
   {
    "duration": 29,
    "start_time": "2023-08-20T20:19:44.476Z"
   },
   {
    "duration": 10,
    "start_time": "2023-08-20T20:19:44.507Z"
   },
   {
    "duration": 63,
    "start_time": "2023-08-20T20:19:44.518Z"
   },
   {
    "duration": 14,
    "start_time": "2023-08-20T20:19:44.582Z"
   },
   {
    "duration": 6,
    "start_time": "2023-08-20T20:19:44.597Z"
   },
   {
    "duration": 25,
    "start_time": "2023-08-20T20:19:44.605Z"
   },
   {
    "duration": 39,
    "start_time": "2023-08-20T20:19:44.631Z"
   },
   {
    "duration": 2,
    "start_time": "2023-08-20T20:19:44.671Z"
   },
   {
    "duration": 5,
    "start_time": "2023-08-20T20:19:44.674Z"
   },
   {
    "duration": 3,
    "start_time": "2023-08-20T20:19:44.681Z"
   },
   {
    "duration": 23,
    "start_time": "2023-08-20T20:19:44.685Z"
   },
   {
    "duration": 7,
    "start_time": "2023-08-20T20:19:44.710Z"
   },
   {
    "duration": 74,
    "start_time": "2023-08-20T20:19:44.719Z"
   },
   {
    "duration": 4,
    "start_time": "2023-08-20T20:19:44.795Z"
   },
   {
    "duration": 843,
    "start_time": "2023-08-20T20:19:44.801Z"
   },
   {
    "duration": 6,
    "start_time": "2023-08-20T20:19:45.646Z"
   },
   {
    "duration": 25,
    "start_time": "2023-08-20T20:19:45.654Z"
   },
   {
    "duration": 187,
    "start_time": "2023-08-20T20:19:45.681Z"
   },
   {
    "duration": 134,
    "start_time": "2023-08-20T20:19:45.870Z"
   },
   {
    "duration": 77,
    "start_time": "2023-08-20T20:19:46.006Z"
   },
   {
    "duration": 375,
    "start_time": "2023-08-20T20:19:46.085Z"
   },
   {
    "duration": 852,
    "start_time": "2023-08-20T20:19:46.462Z"
   },
   {
    "duration": 12,
    "start_time": "2023-08-20T20:19:47.315Z"
   },
   {
    "duration": 77,
    "start_time": "2023-08-20T20:19:47.328Z"
   },
   {
    "duration": 0,
    "start_time": "2023-08-20T20:19:47.407Z"
   },
   {
    "duration": 780,
    "start_time": "2023-08-20T20:20:58.442Z"
   },
   {
    "duration": 20649,
    "start_time": "2023-08-20T20:24:35.346Z"
   },
   {
    "duration": 20944,
    "start_time": "2023-08-20T20:25:00.153Z"
   },
   {
    "duration": 356,
    "start_time": "2023-08-20T20:26:40.635Z"
   },
   {
    "duration": 378,
    "start_time": "2023-08-20T20:28:45.296Z"
   },
   {
    "duration": 299,
    "start_time": "2023-08-20T20:29:01.127Z"
   },
   {
    "duration": 198,
    "start_time": "2023-08-20T20:29:28.353Z"
   },
   {
    "duration": 472,
    "start_time": "2023-08-20T20:29:39.450Z"
   },
   {
    "duration": 373,
    "start_time": "2023-08-20T20:30:28.558Z"
   },
   {
    "duration": 203,
    "start_time": "2023-08-20T20:31:02.924Z"
   },
   {
    "duration": 390,
    "start_time": "2023-08-20T20:31:30.736Z"
   },
   {
    "duration": 193,
    "start_time": "2023-08-20T20:32:24.180Z"
   },
   {
    "duration": 452,
    "start_time": "2023-08-20T20:33:32.235Z"
   },
   {
    "duration": 475,
    "start_time": "2023-08-20T20:33:52.807Z"
   },
   {
    "duration": 9,
    "start_time": "2023-08-20T20:48:07.572Z"
   },
   {
    "duration": 9,
    "start_time": "2023-08-20T20:48:11.200Z"
   },
   {
    "duration": 9,
    "start_time": "2023-08-20T20:49:32.018Z"
   },
   {
    "duration": 266,
    "start_time": "2023-08-20T20:49:39.511Z"
   },
   {
    "duration": 7,
    "start_time": "2023-08-20T20:49:45.504Z"
   },
   {
    "duration": 12,
    "start_time": "2023-08-20T20:50:20.131Z"
   },
   {
    "duration": 5,
    "start_time": "2023-08-20T20:52:23.741Z"
   },
   {
    "duration": 6,
    "start_time": "2023-08-20T20:52:45.237Z"
   },
   {
    "duration": 3,
    "start_time": "2023-08-20T20:52:45.957Z"
   },
   {
    "duration": 5,
    "start_time": "2023-08-20T20:53:20.053Z"
   },
   {
    "duration": 2,
    "start_time": "2023-08-20T20:53:38.216Z"
   },
   {
    "duration": 18,
    "start_time": "2023-08-20T20:54:16.437Z"
   },
   {
    "duration": 19,
    "start_time": "2023-08-20T20:54:33.838Z"
   },
   {
    "duration": 3199,
    "start_time": "2023-08-21T07:52:50.347Z"
   },
   {
    "duration": 1502,
    "start_time": "2023-08-21T07:52:53.549Z"
   },
   {
    "duration": 439,
    "start_time": "2023-08-21T07:52:55.053Z"
   },
   {
    "duration": 22,
    "start_time": "2023-08-21T07:52:55.494Z"
   },
   {
    "duration": 64,
    "start_time": "2023-08-21T07:52:55.517Z"
   },
   {
    "duration": 11,
    "start_time": "2023-08-21T07:52:55.582Z"
   },
   {
    "duration": 58,
    "start_time": "2023-08-21T07:52:55.595Z"
   },
   {
    "duration": 16,
    "start_time": "2023-08-21T07:52:55.654Z"
   },
   {
    "duration": 7,
    "start_time": "2023-08-21T07:52:55.672Z"
   },
   {
    "duration": 26,
    "start_time": "2023-08-21T07:52:55.681Z"
   },
   {
    "duration": 50,
    "start_time": "2023-08-21T07:52:55.708Z"
   },
   {
    "duration": 2,
    "start_time": "2023-08-21T07:52:55.760Z"
   },
   {
    "duration": 8,
    "start_time": "2023-08-21T07:52:55.763Z"
   },
   {
    "duration": 6,
    "start_time": "2023-08-21T07:52:55.772Z"
   },
   {
    "duration": 23,
    "start_time": "2023-08-21T07:52:55.780Z"
   },
   {
    "duration": 7,
    "start_time": "2023-08-21T07:52:55.805Z"
   },
   {
    "duration": 74,
    "start_time": "2023-08-21T07:52:55.813Z"
   },
   {
    "duration": 3,
    "start_time": "2023-08-21T07:52:55.889Z"
   },
   {
    "duration": 931,
    "start_time": "2023-08-21T07:52:55.894Z"
   },
   {
    "duration": 4,
    "start_time": "2023-08-21T07:52:56.827Z"
   },
   {
    "duration": 27,
    "start_time": "2023-08-21T07:52:56.833Z"
   },
   {
    "duration": 225,
    "start_time": "2023-08-21T07:52:56.861Z"
   },
   {
    "duration": 126,
    "start_time": "2023-08-21T07:52:57.088Z"
   },
   {
    "duration": 440,
    "start_time": "2023-08-21T07:52:57.216Z"
   },
   {
    "duration": 974,
    "start_time": "2023-08-21T07:52:57.658Z"
   },
   {
    "duration": 23,
    "start_time": "2023-08-21T07:52:58.634Z"
   },
   {
    "duration": 79,
    "start_time": "2023-08-21T07:52:58.659Z"
   },
   {
    "duration": 0,
    "start_time": "2023-08-21T07:52:58.740Z"
   },
   {
    "duration": 0,
    "start_time": "2023-08-21T07:52:58.741Z"
   },
   {
    "duration": 0,
    "start_time": "2023-08-21T07:52:58.743Z"
   },
   {
    "duration": 0,
    "start_time": "2023-08-21T07:52:58.744Z"
   },
   {
    "duration": 0,
    "start_time": "2023-08-21T07:52:58.746Z"
   },
   {
    "duration": 0,
    "start_time": "2023-08-21T07:52:58.747Z"
   },
   {
    "duration": 0,
    "start_time": "2023-08-21T07:52:58.749Z"
   },
   {
    "duration": 0,
    "start_time": "2023-08-21T07:52:58.751Z"
   },
   {
    "duration": 7,
    "start_time": "2023-08-21T07:53:02.458Z"
   },
   {
    "duration": 6,
    "start_time": "2023-08-21T07:53:03.930Z"
   },
   {
    "duration": 5,
    "start_time": "2023-08-21T07:53:05.598Z"
   },
   {
    "duration": 4,
    "start_time": "2023-08-21T07:53:06.265Z"
   },
   {
    "duration": 122,
    "start_time": "2023-08-21T07:53:06.909Z"
   },
   {
    "duration": 17,
    "start_time": "2023-08-21T07:57:32.721Z"
   },
   {
    "duration": 17,
    "start_time": "2023-08-21T08:01:08.454Z"
   },
   {
    "duration": 14,
    "start_time": "2023-08-21T08:01:44.275Z"
   },
   {
    "duration": 9,
    "start_time": "2023-08-21T08:02:24.700Z"
   },
   {
    "duration": 27,
    "start_time": "2023-08-21T08:05:58.638Z"
   },
   {
    "duration": 15,
    "start_time": "2023-08-21T08:10:16.072Z"
   },
   {
    "duration": 8305,
    "start_time": "2023-08-21T08:10:53.972Z"
   },
   {
    "duration": 18,
    "start_time": "2023-08-21T08:11:26.689Z"
   },
   {
    "duration": 15,
    "start_time": "2023-08-21T08:18:37.309Z"
   },
   {
    "duration": 16,
    "start_time": "2023-08-21T08:18:45.637Z"
   },
   {
    "duration": 22,
    "start_time": "2023-08-21T08:19:36.806Z"
   },
   {
    "duration": 3,
    "start_time": "2023-08-21T08:20:23.875Z"
   },
   {
    "duration": 3,
    "start_time": "2023-08-21T08:30:52.924Z"
   },
   {
    "duration": 25,
    "start_time": "2023-08-21T08:32:22.498Z"
   },
   {
    "duration": 29,
    "start_time": "2023-08-21T08:32:42.812Z"
   },
   {
    "duration": 27,
    "start_time": "2023-08-21T08:34:15.286Z"
   },
   {
    "duration": 14,
    "start_time": "2023-08-21T08:39:28.310Z"
   },
   {
    "duration": 8,
    "start_time": "2023-08-21T08:39:58.649Z"
   },
   {
    "duration": 6,
    "start_time": "2023-08-21T08:40:08.938Z"
   },
   {
    "duration": 6,
    "start_time": "2023-08-21T08:40:09.467Z"
   },
   {
    "duration": 20,
    "start_time": "2023-08-21T08:40:32.114Z"
   },
   {
    "duration": 24,
    "start_time": "2023-08-21T08:40:42.437Z"
   },
   {
    "duration": 17,
    "start_time": "2023-08-21T08:44:50.949Z"
   },
   {
    "duration": 26,
    "start_time": "2023-08-21T08:45:04.409Z"
   },
   {
    "duration": 33,
    "start_time": "2023-08-21T08:47:04.534Z"
   },
   {
    "duration": 13,
    "start_time": "2023-08-21T08:47:06.392Z"
   },
   {
    "duration": 2157,
    "start_time": "2023-08-21T08:47:24.276Z"
   },
   {
    "duration": 2175,
    "start_time": "2023-08-21T08:47:26.436Z"
   },
   {
    "duration": 4,
    "start_time": "2023-08-21T08:47:28.613Z"
   },
   {
    "duration": 260,
    "start_time": "2023-08-21T08:47:28.619Z"
   },
   {
    "duration": 22,
    "start_time": "2023-08-21T08:47:28.880Z"
   },
   {
    "duration": 30,
    "start_time": "2023-08-21T08:47:28.903Z"
   },
   {
    "duration": 17,
    "start_time": "2023-08-21T08:47:28.952Z"
   },
   {
    "duration": 42,
    "start_time": "2023-08-21T08:47:28.970Z"
   },
   {
    "duration": 16,
    "start_time": "2023-08-21T08:47:29.013Z"
   },
   {
    "duration": 33,
    "start_time": "2023-08-21T08:47:29.032Z"
   },
   {
    "duration": 25,
    "start_time": "2023-08-21T08:47:29.067Z"
   },
   {
    "duration": 23,
    "start_time": "2023-08-21T08:47:29.093Z"
   },
   {
    "duration": 3,
    "start_time": "2023-08-21T08:47:29.118Z"
   },
   {
    "duration": 15,
    "start_time": "2023-08-21T08:47:29.122Z"
   },
   {
    "duration": 11,
    "start_time": "2023-08-21T08:47:29.138Z"
   },
   {
    "duration": 35,
    "start_time": "2023-08-21T08:47:29.150Z"
   },
   {
    "duration": 7,
    "start_time": "2023-08-21T08:47:29.187Z"
   },
   {
    "duration": 25,
    "start_time": "2023-08-21T08:47:29.196Z"
   },
   {
    "duration": 4,
    "start_time": "2023-08-21T08:47:29.222Z"
   },
   {
    "duration": 947,
    "start_time": "2023-08-21T08:47:29.228Z"
   },
   {
    "duration": 3,
    "start_time": "2023-08-21T08:47:30.177Z"
   },
   {
    "duration": 49,
    "start_time": "2023-08-21T08:47:30.182Z"
   },
   {
    "duration": 247,
    "start_time": "2023-08-21T08:47:30.233Z"
   },
   {
    "duration": 142,
    "start_time": "2023-08-21T08:47:30.482Z"
   },
   {
    "duration": 462,
    "start_time": "2023-08-21T08:47:30.626Z"
   },
   {
    "duration": 974,
    "start_time": "2023-08-21T08:47:31.091Z"
   },
   {
    "duration": 72,
    "start_time": "2023-08-21T08:47:32.067Z"
   },
   {
    "duration": 0,
    "start_time": "2023-08-21T08:47:32.140Z"
   },
   {
    "duration": 0,
    "start_time": "2023-08-21T08:47:32.142Z"
   },
   {
    "duration": 0,
    "start_time": "2023-08-21T08:47:32.143Z"
   },
   {
    "duration": 0,
    "start_time": "2023-08-21T08:47:32.144Z"
   },
   {
    "duration": 0,
    "start_time": "2023-08-21T08:47:32.145Z"
   },
   {
    "duration": 0,
    "start_time": "2023-08-21T08:47:32.146Z"
   },
   {
    "duration": 0,
    "start_time": "2023-08-21T08:47:32.148Z"
   },
   {
    "duration": 0,
    "start_time": "2023-08-21T08:47:32.149Z"
   },
   {
    "duration": 7,
    "start_time": "2023-08-21T08:49:15.715Z"
   },
   {
    "duration": 6,
    "start_time": "2023-08-21T08:49:16.320Z"
   },
   {
    "duration": 6,
    "start_time": "2023-08-21T08:49:16.825Z"
   },
   {
    "duration": 7,
    "start_time": "2023-08-21T08:49:17.304Z"
   },
   {
    "duration": 3,
    "start_time": "2023-08-21T08:49:17.840Z"
   },
   {
    "duration": 34,
    "start_time": "2023-08-21T08:49:18.341Z"
   },
   {
    "duration": 20,
    "start_time": "2023-08-21T08:49:19.008Z"
   },
   {
    "duration": 11,
    "start_time": "2023-08-21T08:49:22.291Z"
   },
   {
    "duration": 17,
    "start_time": "2023-08-21T08:49:23.023Z"
   },
   {
    "duration": 25,
    "start_time": "2023-08-21T08:54:24.244Z"
   },
   {
    "duration": 11,
    "start_time": "2023-08-21T08:54:58.610Z"
   },
   {
    "duration": 2193,
    "start_time": "2023-08-21T08:56:03.326Z"
   },
   {
    "duration": 3,
    "start_time": "2023-08-21T08:56:05.522Z"
   },
   {
    "duration": 20,
    "start_time": "2023-08-21T08:56:05.526Z"
   },
   {
    "duration": 0,
    "start_time": "2023-08-21T08:56:05.549Z"
   },
   {
    "duration": 0,
    "start_time": "2023-08-21T08:56:05.550Z"
   },
   {
    "duration": 0,
    "start_time": "2023-08-21T08:56:05.552Z"
   },
   {
    "duration": 0,
    "start_time": "2023-08-21T08:56:05.553Z"
   },
   {
    "duration": 1,
    "start_time": "2023-08-21T08:56:05.553Z"
   },
   {
    "duration": 0,
    "start_time": "2023-08-21T08:56:05.554Z"
   },
   {
    "duration": 0,
    "start_time": "2023-08-21T08:56:05.555Z"
   },
   {
    "duration": 0,
    "start_time": "2023-08-21T08:56:05.556Z"
   },
   {
    "duration": 0,
    "start_time": "2023-08-21T08:56:05.557Z"
   },
   {
    "duration": 0,
    "start_time": "2023-08-21T08:56:05.558Z"
   },
   {
    "duration": 0,
    "start_time": "2023-08-21T08:56:05.558Z"
   },
   {
    "duration": 0,
    "start_time": "2023-08-21T08:56:05.559Z"
   },
   {
    "duration": 0,
    "start_time": "2023-08-21T08:56:05.559Z"
   },
   {
    "duration": 0,
    "start_time": "2023-08-21T08:56:05.560Z"
   },
   {
    "duration": 0,
    "start_time": "2023-08-21T08:56:05.561Z"
   },
   {
    "duration": 0,
    "start_time": "2023-08-21T08:56:05.561Z"
   },
   {
    "duration": 0,
    "start_time": "2023-08-21T08:56:05.562Z"
   },
   {
    "duration": 0,
    "start_time": "2023-08-21T08:56:05.562Z"
   },
   {
    "duration": 0,
    "start_time": "2023-08-21T08:56:05.563Z"
   },
   {
    "duration": 0,
    "start_time": "2023-08-21T08:56:05.563Z"
   },
   {
    "duration": 0,
    "start_time": "2023-08-21T08:56:05.564Z"
   },
   {
    "duration": 0,
    "start_time": "2023-08-21T08:56:05.565Z"
   },
   {
    "duration": 0,
    "start_time": "2023-08-21T08:56:05.565Z"
   },
   {
    "duration": 0,
    "start_time": "2023-08-21T08:56:05.566Z"
   },
   {
    "duration": 0,
    "start_time": "2023-08-21T08:56:05.567Z"
   },
   {
    "duration": 0,
    "start_time": "2023-08-21T08:56:05.567Z"
   },
   {
    "duration": 0,
    "start_time": "2023-08-21T08:56:05.568Z"
   },
   {
    "duration": 1,
    "start_time": "2023-08-21T08:56:05.568Z"
   },
   {
    "duration": 0,
    "start_time": "2023-08-21T08:56:05.569Z"
   },
   {
    "duration": 0,
    "start_time": "2023-08-21T08:56:05.572Z"
   },
   {
    "duration": 0,
    "start_time": "2023-08-21T08:56:05.572Z"
   },
   {
    "duration": 0,
    "start_time": "2023-08-21T08:56:05.573Z"
   },
   {
    "duration": 0,
    "start_time": "2023-08-21T08:56:05.574Z"
   },
   {
    "duration": 0,
    "start_time": "2023-08-21T08:56:05.575Z"
   },
   {
    "duration": 14,
    "start_time": "2023-08-21T08:57:18.952Z"
   },
   {
    "duration": 2408,
    "start_time": "2023-08-21T08:58:16.616Z"
   },
   {
    "duration": 18,
    "start_time": "2023-08-21T08:58:23.366Z"
   },
   {
    "duration": 3239,
    "start_time": "2023-08-21T13:47:38.357Z"
   },
   {
    "duration": 7228,
    "start_time": "2023-08-21T13:47:41.599Z"
   },
   {
    "duration": 1431,
    "start_time": "2023-08-21T13:47:48.828Z"
   },
   {
    "duration": 461,
    "start_time": "2023-08-21T13:47:55.822Z"
   },
   {
    "duration": 31,
    "start_time": "2023-08-21T13:48:02.458Z"
   },
   {
    "duration": 33,
    "start_time": "2023-08-21T13:48:02.718Z"
   },
   {
    "duration": 12,
    "start_time": "2023-08-21T13:48:03.291Z"
   },
   {
    "duration": 39,
    "start_time": "2023-08-21T13:48:03.723Z"
   },
   {
    "duration": 17,
    "start_time": "2023-08-21T13:48:04.179Z"
   },
   {
    "duration": 8,
    "start_time": "2023-08-21T13:48:04.622Z"
   },
   {
    "duration": 27,
    "start_time": "2023-08-21T13:48:05.163Z"
   },
   {
    "duration": 27,
    "start_time": "2023-08-21T13:48:06.184Z"
   },
   {
    "duration": 3,
    "start_time": "2023-08-21T13:54:27.696Z"
   },
   {
    "duration": 3,
    "start_time": "2023-08-21T13:54:27.891Z"
   },
   {
    "duration": 2,
    "start_time": "2023-08-21T13:54:28.077Z"
   },
   {
    "duration": 21,
    "start_time": "2023-08-21T13:54:28.301Z"
   },
   {
    "duration": 8,
    "start_time": "2023-08-21T13:54:29.046Z"
   },
   {
    "duration": 50,
    "start_time": "2023-08-21T13:54:29.482Z"
   },
   {
    "duration": 5,
    "start_time": "2023-08-21T13:54:30.991Z"
   },
   {
    "duration": 1003,
    "start_time": "2023-08-21T13:54:31.464Z"
   },
   {
    "duration": 5,
    "start_time": "2023-08-21T13:54:32.470Z"
   },
   {
    "duration": 13,
    "start_time": "2023-08-21T13:54:32.854Z"
   },
   {
    "duration": 214,
    "start_time": "2023-08-21T13:54:33.389Z"
   },
   {
    "duration": 127,
    "start_time": "2023-08-21T13:54:34.447Z"
   },
   {
    "duration": 430,
    "start_time": "2023-08-21T13:54:36.676Z"
   },
   {
    "duration": 896,
    "start_time": "2023-08-21T13:54:39.255Z"
   },
   {
    "duration": 7,
    "start_time": "2023-08-21T13:55:17.893Z"
   },
   {
    "duration": 6,
    "start_time": "2023-08-21T13:55:18.241Z"
   },
   {
    "duration": 6,
    "start_time": "2023-08-21T13:55:18.695Z"
   },
   {
    "duration": 5,
    "start_time": "2023-08-21T13:55:19.191Z"
   },
   {
    "duration": 3,
    "start_time": "2023-08-21T13:55:20.227Z"
   },
   {
    "duration": 28,
    "start_time": "2023-08-21T13:55:20.586Z"
   },
   {
    "duration": 22,
    "start_time": "2023-08-21T13:55:21.051Z"
   },
   {
    "duration": 122,
    "start_time": "2023-08-21T13:56:44.850Z"
   },
   {
    "duration": 2148,
    "start_time": "2023-08-21T13:57:09.439Z"
   },
   {
    "duration": 2242,
    "start_time": "2023-08-21T13:57:11.590Z"
   },
   {
    "duration": 4,
    "start_time": "2023-08-21T13:57:13.834Z"
   },
   {
    "duration": 233,
    "start_time": "2023-08-21T13:57:13.840Z"
   },
   {
    "duration": 50,
    "start_time": "2023-08-21T13:57:14.075Z"
   },
   {
    "duration": 33,
    "start_time": "2023-08-21T13:57:14.126Z"
   },
   {
    "duration": 12,
    "start_time": "2023-08-21T13:57:14.160Z"
   },
   {
    "duration": 69,
    "start_time": "2023-08-21T13:57:14.174Z"
   },
   {
    "duration": 17,
    "start_time": "2023-08-21T13:57:14.244Z"
   },
   {
    "duration": 8,
    "start_time": "2023-08-21T13:57:14.263Z"
   },
   {
    "duration": 45,
    "start_time": "2023-08-21T13:57:14.273Z"
   },
   {
    "duration": 26,
    "start_time": "2023-08-21T13:57:14.320Z"
   },
   {
    "duration": 3,
    "start_time": "2023-08-21T13:57:14.348Z"
   },
   {
    "duration": 12,
    "start_time": "2023-08-21T13:57:14.354Z"
   },
   {
    "duration": 15,
    "start_time": "2023-08-21T13:57:14.367Z"
   },
   {
    "duration": 34,
    "start_time": "2023-08-21T13:57:14.384Z"
   },
   {
    "duration": 8,
    "start_time": "2023-08-21T13:57:14.419Z"
   },
   {
    "duration": 19,
    "start_time": "2023-08-21T13:57:14.429Z"
   },
   {
    "duration": 4,
    "start_time": "2023-08-21T13:57:14.450Z"
   },
   {
    "duration": 1058,
    "start_time": "2023-08-21T13:57:14.456Z"
   },
   {
    "duration": 5,
    "start_time": "2023-08-21T13:57:15.516Z"
   },
   {
    "duration": 20,
    "start_time": "2023-08-21T13:57:15.522Z"
   },
   {
    "duration": 295,
    "start_time": "2023-08-21T13:57:15.544Z"
   },
   {
    "duration": 123,
    "start_time": "2023-08-21T13:57:15.841Z"
   },
   {
    "duration": 444,
    "start_time": "2023-08-21T13:57:15.965Z"
   },
   {
    "duration": 940,
    "start_time": "2023-08-21T13:57:16.411Z"
   },
   {
    "duration": 7,
    "start_time": "2023-08-21T13:57:17.352Z"
   },
   {
    "duration": 39,
    "start_time": "2023-08-21T13:57:17.361Z"
   },
   {
    "duration": 57,
    "start_time": "2023-08-21T13:57:17.402Z"
   },
   {
    "duration": 34,
    "start_time": "2023-08-21T13:57:17.461Z"
   },
   {
    "duration": 29,
    "start_time": "2023-08-21T13:57:17.497Z"
   },
   {
    "duration": 41,
    "start_time": "2023-08-21T13:57:17.527Z"
   },
   {
    "duration": 27,
    "start_time": "2023-08-21T13:57:17.570Z"
   },
   {
    "duration": 17,
    "start_time": "2023-08-21T13:57:17.598Z"
   },
   {
    "duration": 15,
    "start_time": "2023-08-21T14:05:07.950Z"
   },
   {
    "duration": 18,
    "start_time": "2023-08-21T14:05:11.740Z"
   },
   {
    "duration": 15,
    "start_time": "2023-08-21T14:12:32.470Z"
   },
   {
    "duration": 2958,
    "start_time": "2023-08-21T14:13:03.951Z"
   },
   {
    "duration": 36008,
    "start_time": "2023-08-21T14:13:53.373Z"
   },
   {
    "duration": 70232,
    "start_time": "2023-08-21T14:14:31.184Z"
   },
   {
    "duration": 55197,
    "start_time": "2023-08-21T14:15:41.418Z"
   },
   {
    "duration": 531066,
    "start_time": "2023-08-21T14:34:34.756Z"
   },
   {
    "duration": 404613,
    "start_time": "2023-08-21T14:43:25.824Z"
   },
   {
    "duration": 571176,
    "start_time": "2023-08-21T14:50:10.439Z"
   },
   {
    "duration": 58,
    "start_time": "2023-08-21T17:36:11.888Z"
   },
   {
    "duration": 3176,
    "start_time": "2023-08-21T17:36:14.399Z"
   },
   {
    "duration": 7272,
    "start_time": "2023-08-21T17:36:17.577Z"
   },
   {
    "duration": 1634,
    "start_time": "2023-08-21T17:36:24.852Z"
   },
   {
    "duration": 484,
    "start_time": "2023-08-21T17:36:26.488Z"
   },
   {
    "duration": 56,
    "start_time": "2023-08-21T17:36:26.975Z"
   },
   {
    "duration": 109,
    "start_time": "2023-08-21T17:36:27.033Z"
   },
   {
    "duration": 21,
    "start_time": "2023-08-21T17:36:27.144Z"
   },
   {
    "duration": 42,
    "start_time": "2023-08-21T17:36:27.167Z"
   },
   {
    "duration": 20,
    "start_time": "2023-08-21T17:36:27.210Z"
   },
   {
    "duration": 26,
    "start_time": "2023-08-21T17:36:27.234Z"
   },
   {
    "duration": 62,
    "start_time": "2023-08-21T17:36:27.262Z"
   },
   {
    "duration": 61,
    "start_time": "2023-08-21T17:36:27.326Z"
   },
   {
    "duration": 23,
    "start_time": "2023-08-21T17:36:27.389Z"
   },
   {
    "duration": 65,
    "start_time": "2023-08-21T17:36:27.414Z"
   },
   {
    "duration": 43,
    "start_time": "2023-08-21T17:36:27.480Z"
   },
   {
    "duration": 87,
    "start_time": "2023-08-21T17:36:27.525Z"
   },
   {
    "duration": 81,
    "start_time": "2023-08-21T17:36:27.613Z"
   },
   {
    "duration": 86,
    "start_time": "2023-08-21T17:36:27.696Z"
   },
   {
    "duration": 4,
    "start_time": "2023-08-21T17:36:27.784Z"
   },
   {
    "duration": 1000,
    "start_time": "2023-08-21T17:36:27.789Z"
   },
   {
    "duration": 4,
    "start_time": "2023-08-21T17:36:28.790Z"
   },
   {
    "duration": 43,
    "start_time": "2023-08-21T17:36:28.796Z"
   },
   {
    "duration": 251,
    "start_time": "2023-08-21T17:36:28.841Z"
   },
   {
    "duration": 164,
    "start_time": "2023-08-21T17:36:29.094Z"
   },
   {
    "duration": 497,
    "start_time": "2023-08-21T17:36:29.260Z"
   },
   {
    "duration": 1059,
    "start_time": "2023-08-21T17:36:29.759Z"
   },
   {
    "duration": 7,
    "start_time": "2023-08-21T17:36:30.823Z"
   },
   {
    "duration": 22,
    "start_time": "2023-08-21T17:36:30.834Z"
   },
   {
    "duration": 11,
    "start_time": "2023-08-21T17:36:30.859Z"
   },
   {
    "duration": 128,
    "start_time": "2023-08-21T17:36:30.873Z"
   },
   {
    "duration": 99,
    "start_time": "2023-08-21T17:36:31.003Z"
   },
   {
    "duration": 76,
    "start_time": "2023-08-21T17:36:31.104Z"
   },
   {
    "duration": 100,
    "start_time": "2023-08-21T17:36:31.182Z"
   },
   {
    "duration": 27,
    "start_time": "2023-08-21T17:36:31.283Z"
   },
   {
    "duration": 18,
    "start_time": "2023-08-21T17:36:31.312Z"
   },
   {
    "duration": 33,
    "start_time": "2023-08-21T17:36:31.334Z"
   },
   {
    "duration": 4155,
    "start_time": "2023-08-21T17:36:31.369Z"
   },
   {
    "duration": 3129,
    "start_time": "2023-08-21T20:52:22.859Z"
   },
   {
    "duration": 7484,
    "start_time": "2023-08-21T20:52:25.990Z"
   },
   {
    "duration": 1760,
    "start_time": "2023-08-21T20:52:33.476Z"
   },
   {
    "duration": 434,
    "start_time": "2023-08-21T20:52:35.238Z"
   },
   {
    "duration": 19,
    "start_time": "2023-08-21T20:52:35.674Z"
   },
   {
    "duration": 54,
    "start_time": "2023-08-21T20:52:35.695Z"
   },
   {
    "duration": 43,
    "start_time": "2023-08-21T20:52:35.751Z"
   },
   {
    "duration": 59,
    "start_time": "2023-08-21T20:52:35.796Z"
   },
   {
    "duration": 16,
    "start_time": "2023-08-21T20:52:35.857Z"
   },
   {
    "duration": 10,
    "start_time": "2023-08-21T20:52:35.876Z"
   },
   {
    "duration": 35,
    "start_time": "2023-08-21T20:52:35.887Z"
   },
   {
    "duration": 29,
    "start_time": "2023-08-21T20:52:35.924Z"
   },
   {
    "duration": 3,
    "start_time": "2023-08-21T20:52:35.954Z"
   },
   {
    "duration": 6,
    "start_time": "2023-08-21T20:52:35.958Z"
   },
   {
    "duration": 50,
    "start_time": "2023-08-21T20:52:35.966Z"
   },
   {
    "duration": 28,
    "start_time": "2023-08-21T20:52:36.018Z"
   },
   {
    "duration": 9,
    "start_time": "2023-08-21T20:52:36.048Z"
   },
   {
    "duration": 64,
    "start_time": "2023-08-21T20:52:36.059Z"
   },
   {
    "duration": 12,
    "start_time": "2023-08-21T20:52:36.124Z"
   },
   {
    "duration": 940,
    "start_time": "2023-08-21T20:52:36.138Z"
   },
   {
    "duration": 4,
    "start_time": "2023-08-21T20:52:37.080Z"
   },
   {
    "duration": 17,
    "start_time": "2023-08-21T20:52:37.086Z"
   },
   {
    "duration": 225,
    "start_time": "2023-08-21T20:52:37.104Z"
   },
   {
    "duration": 147,
    "start_time": "2023-08-21T20:52:37.330Z"
   },
   {
    "duration": 471,
    "start_time": "2023-08-21T20:52:37.478Z"
   },
   {
    "duration": 908,
    "start_time": "2023-08-21T20:52:37.950Z"
   },
   {
    "duration": 7,
    "start_time": "2023-08-21T20:52:38.859Z"
   },
   {
    "duration": 6,
    "start_time": "2023-08-21T20:52:38.869Z"
   },
   {
    "duration": 11,
    "start_time": "2023-08-21T20:52:38.876Z"
   },
   {
    "duration": 16,
    "start_time": "2023-08-21T20:52:38.888Z"
   },
   {
    "duration": 4,
    "start_time": "2023-08-21T20:52:38.906Z"
   },
   {
    "duration": 36,
    "start_time": "2023-08-21T20:52:38.912Z"
   },
   {
    "duration": 20,
    "start_time": "2023-08-21T20:52:38.949Z"
   },
   {
    "duration": 12,
    "start_time": "2023-08-21T20:52:38.970Z"
   },
   {
    "duration": 17,
    "start_time": "2023-08-21T20:52:38.984Z"
   },
   {
    "duration": 3732,
    "start_time": "2023-08-21T20:52:39.003Z"
   },
   {
    "duration": 369234,
    "start_time": "2023-08-21T20:52:42.737Z"
   },
   {
    "duration": 7576,
    "start_time": "2023-08-21T20:58:51.973Z"
   },
   {
    "duration": 0,
    "start_time": "2023-08-21T20:58:59.551Z"
   },
   {
    "duration": 0,
    "start_time": "2023-08-21T20:58:59.553Z"
   },
   {
    "duration": 3067918,
    "start_time": "2023-08-21T20:59:36.428Z"
   },
   {
    "duration": 10,
    "start_time": "2023-08-21T21:50:44.349Z"
   },
   {
    "duration": 16,
    "start_time": "2023-08-21T21:54:46.674Z"
   },
   {
    "duration": 6969,
    "start_time": "2023-08-21T21:57:21.474Z"
   },
   {
    "duration": 2708,
    "start_time": "2023-08-21T21:57:31.428Z"
   },
   {
    "duration": 1603,
    "start_time": "2023-08-21T21:58:11.346Z"
   },
   {
    "duration": 1560,
    "start_time": "2023-08-21T21:58:39.388Z"
   },
   {
    "duration": 13,
    "start_time": "2023-08-21T21:59:58.100Z"
   },
   {
    "duration": 1681,
    "start_time": "2023-08-21T22:00:11.442Z"
   },
   {
    "duration": 75099,
    "start_time": "2023-08-21T22:01:27.086Z"
   },
   {
    "duration": 16223,
    "start_time": "2023-08-21T22:05:54.675Z"
   },
   {
    "duration": 17712,
    "start_time": "2023-08-21T22:06:57.880Z"
   },
   {
    "duration": 244544,
    "start_time": "2023-08-21T22:07:29.222Z"
   },
   {
    "duration": 200,
    "start_time": "2023-08-21T22:23:05.104Z"
   },
   {
    "duration": 2179,
    "start_time": "2023-08-21T22:23:10.008Z"
   },
   {
    "duration": 105,
    "start_time": "2023-08-21T22:28:04.942Z"
   },
   {
    "duration": 2358,
    "start_time": "2023-08-22T10:39:53.040Z"
   },
   {
    "duration": 2347,
    "start_time": "2023-08-22T10:39:55.400Z"
   },
   {
    "duration": 1344,
    "start_time": "2023-08-22T10:39:57.749Z"
   },
   {
    "duration": 464,
    "start_time": "2023-08-22T10:39:59.095Z"
   },
   {
    "duration": 21,
    "start_time": "2023-08-22T10:39:59.562Z"
   },
   {
    "duration": 75,
    "start_time": "2023-08-22T10:39:59.584Z"
   },
   {
    "duration": 12,
    "start_time": "2023-08-22T10:39:59.661Z"
   },
   {
    "duration": 65,
    "start_time": "2023-08-22T10:39:59.675Z"
   },
   {
    "duration": 20,
    "start_time": "2023-08-22T10:39:59.742Z"
   },
   {
    "duration": 8,
    "start_time": "2023-08-22T10:39:59.764Z"
   },
   {
    "duration": 58,
    "start_time": "2023-08-22T10:39:59.774Z"
   },
   {
    "duration": 29,
    "start_time": "2023-08-22T10:39:59.835Z"
   },
   {
    "duration": 10,
    "start_time": "2023-08-22T10:39:59.866Z"
   },
   {
    "duration": 128,
    "start_time": "2023-08-22T10:39:59.879Z"
   },
   {
    "duration": 0,
    "start_time": "2023-08-22T10:40:00.009Z"
   },
   {
    "duration": 0,
    "start_time": "2023-08-22T10:40:00.010Z"
   },
   {
    "duration": 0,
    "start_time": "2023-08-22T10:40:00.011Z"
   },
   {
    "duration": 0,
    "start_time": "2023-08-22T10:40:00.012Z"
   },
   {
    "duration": 0,
    "start_time": "2023-08-22T10:40:00.025Z"
   },
   {
    "duration": 0,
    "start_time": "2023-08-22T10:40:00.026Z"
   },
   {
    "duration": 0,
    "start_time": "2023-08-22T10:40:00.030Z"
   },
   {
    "duration": 0,
    "start_time": "2023-08-22T10:40:00.032Z"
   },
   {
    "duration": 0,
    "start_time": "2023-08-22T10:40:00.037Z"
   },
   {
    "duration": 0,
    "start_time": "2023-08-22T10:40:00.038Z"
   },
   {
    "duration": 0,
    "start_time": "2023-08-22T10:40:00.040Z"
   },
   {
    "duration": 0,
    "start_time": "2023-08-22T10:40:00.043Z"
   },
   {
    "duration": 0,
    "start_time": "2023-08-22T10:40:00.044Z"
   },
   {
    "duration": 0,
    "start_time": "2023-08-22T10:40:00.045Z"
   },
   {
    "duration": 0,
    "start_time": "2023-08-22T10:40:00.046Z"
   },
   {
    "duration": 0,
    "start_time": "2023-08-22T10:40:00.047Z"
   },
   {
    "duration": 0,
    "start_time": "2023-08-22T10:40:00.048Z"
   },
   {
    "duration": 0,
    "start_time": "2023-08-22T10:40:00.050Z"
   },
   {
    "duration": 0,
    "start_time": "2023-08-22T10:40:00.050Z"
   },
   {
    "duration": 0,
    "start_time": "2023-08-22T10:40:00.051Z"
   },
   {
    "duration": 0,
    "start_time": "2023-08-22T10:40:00.052Z"
   },
   {
    "duration": 0,
    "start_time": "2023-08-22T10:40:00.054Z"
   },
   {
    "duration": 0,
    "start_time": "2023-08-22T10:40:00.055Z"
   },
   {
    "duration": 0,
    "start_time": "2023-08-22T10:40:00.056Z"
   },
   {
    "duration": 0,
    "start_time": "2023-08-22T10:40:00.057Z"
   },
   {
    "duration": 0,
    "start_time": "2023-08-22T10:40:00.058Z"
   },
   {
    "duration": 0,
    "start_time": "2023-08-22T10:40:00.060Z"
   },
   {
    "duration": 0,
    "start_time": "2023-08-22T10:40:00.061Z"
   },
   {
    "duration": 1,
    "start_time": "2023-08-22T10:40:00.061Z"
   },
   {
    "duration": 2688,
    "start_time": "2023-08-22T10:56:16.022Z"
   },
   {
    "duration": 2422,
    "start_time": "2023-08-22T10:56:18.713Z"
   },
   {
    "duration": 1361,
    "start_time": "2023-08-22T10:56:21.137Z"
   },
   {
    "duration": 258,
    "start_time": "2023-08-22T10:56:22.500Z"
   },
   {
    "duration": 23,
    "start_time": "2023-08-22T10:56:22.760Z"
   },
   {
    "duration": 57,
    "start_time": "2023-08-22T10:56:22.785Z"
   },
   {
    "duration": 13,
    "start_time": "2023-08-22T10:56:22.843Z"
   },
   {
    "duration": 51,
    "start_time": "2023-08-22T10:56:22.858Z"
   },
   {
    "duration": 38,
    "start_time": "2023-08-22T10:56:22.911Z"
   },
   {
    "duration": 9,
    "start_time": "2023-08-22T10:56:22.951Z"
   },
   {
    "duration": 36,
    "start_time": "2023-08-22T10:56:22.962Z"
   },
   {
    "duration": 56,
    "start_time": "2023-08-22T10:56:23.000Z"
   },
   {
    "duration": 3,
    "start_time": "2023-08-22T10:56:23.057Z"
   },
   {
    "duration": 92,
    "start_time": "2023-08-22T10:56:23.065Z"
   },
   {
    "duration": 0,
    "start_time": "2023-08-22T10:56:23.159Z"
   },
   {
    "duration": 0,
    "start_time": "2023-08-22T10:56:23.160Z"
   },
   {
    "duration": 0,
    "start_time": "2023-08-22T10:56:23.162Z"
   },
   {
    "duration": 0,
    "start_time": "2023-08-22T10:56:23.163Z"
   },
   {
    "duration": 0,
    "start_time": "2023-08-22T10:56:23.164Z"
   },
   {
    "duration": 0,
    "start_time": "2023-08-22T10:56:23.165Z"
   },
   {
    "duration": 0,
    "start_time": "2023-08-22T10:56:23.166Z"
   },
   {
    "duration": 0,
    "start_time": "2023-08-22T10:56:23.167Z"
   },
   {
    "duration": 0,
    "start_time": "2023-08-22T10:56:23.168Z"
   },
   {
    "duration": 0,
    "start_time": "2023-08-22T10:56:23.169Z"
   },
   {
    "duration": 0,
    "start_time": "2023-08-22T10:56:23.170Z"
   },
   {
    "duration": 0,
    "start_time": "2023-08-22T10:56:23.171Z"
   },
   {
    "duration": 0,
    "start_time": "2023-08-22T10:56:23.172Z"
   },
   {
    "duration": 0,
    "start_time": "2023-08-22T10:56:23.173Z"
   },
   {
    "duration": 0,
    "start_time": "2023-08-22T10:56:23.174Z"
   },
   {
    "duration": 0,
    "start_time": "2023-08-22T10:56:23.175Z"
   },
   {
    "duration": 0,
    "start_time": "2023-08-22T10:56:23.177Z"
   },
   {
    "duration": 0,
    "start_time": "2023-08-22T10:56:23.179Z"
   },
   {
    "duration": 0,
    "start_time": "2023-08-22T10:56:23.180Z"
   },
   {
    "duration": 0,
    "start_time": "2023-08-22T10:56:23.182Z"
   },
   {
    "duration": 0,
    "start_time": "2023-08-22T10:56:23.183Z"
   },
   {
    "duration": 0,
    "start_time": "2023-08-22T10:56:23.185Z"
   },
   {
    "duration": 0,
    "start_time": "2023-08-22T10:56:23.186Z"
   },
   {
    "duration": 0,
    "start_time": "2023-08-22T10:56:23.188Z"
   },
   {
    "duration": 0,
    "start_time": "2023-08-22T10:56:23.190Z"
   },
   {
    "duration": 0,
    "start_time": "2023-08-22T10:56:23.191Z"
   },
   {
    "duration": 0,
    "start_time": "2023-08-22T10:56:23.192Z"
   },
   {
    "duration": 0,
    "start_time": "2023-08-22T10:56:23.194Z"
   },
   {
    "duration": 0,
    "start_time": "2023-08-22T10:56:23.195Z"
   },
   {
    "duration": 0,
    "start_time": "2023-08-22T10:56:23.229Z"
   },
   {
    "duration": 78,
    "start_time": "2023-08-22T11:02:02.890Z"
   },
   {
    "duration": 48,
    "start_time": "2023-08-22T11:02:45.868Z"
   },
   {
    "duration": 695,
    "start_time": "2023-08-22T11:03:14.288Z"
   },
   {
    "duration": 23,
    "start_time": "2023-08-22T11:05:34.912Z"
   },
   {
    "duration": 5,
    "start_time": "2023-08-22T11:06:59.643Z"
   },
   {
    "duration": 5,
    "start_time": "2023-08-22T11:07:12.543Z"
   },
   {
    "duration": 37,
    "start_time": "2023-08-22T11:07:19.209Z"
   },
   {
    "duration": 13,
    "start_time": "2023-08-22T11:09:56.139Z"
   },
   {
    "duration": 14,
    "start_time": "2023-08-22T11:10:06.139Z"
   },
   {
    "duration": 15,
    "start_time": "2023-08-22T11:10:12.000Z"
   },
   {
    "duration": 12,
    "start_time": "2023-08-22T11:11:58.657Z"
   },
   {
    "duration": 26,
    "start_time": "2023-08-22T11:12:06.513Z"
   },
   {
    "duration": 13,
    "start_time": "2023-08-22T11:12:47.454Z"
   },
   {
    "duration": 12,
    "start_time": "2023-08-22T11:13:22.991Z"
   },
   {
    "duration": 37,
    "start_time": "2023-08-22T11:13:49.045Z"
   },
   {
    "duration": 32,
    "start_time": "2023-08-22T11:14:24.504Z"
   },
   {
    "duration": 2422,
    "start_time": "2023-08-22T11:16:25.112Z"
   },
   {
    "duration": 2322,
    "start_time": "2023-08-22T11:16:27.538Z"
   },
   {
    "duration": 1399,
    "start_time": "2023-08-22T11:16:29.862Z"
   },
   {
    "duration": 220,
    "start_time": "2023-08-22T11:16:31.263Z"
   },
   {
    "duration": 40,
    "start_time": "2023-08-22T11:16:31.485Z"
   },
   {
    "duration": 36,
    "start_time": "2023-08-22T11:16:31.529Z"
   },
   {
    "duration": 10,
    "start_time": "2023-08-22T11:16:31.567Z"
   },
   {
    "duration": 73,
    "start_time": "2023-08-22T11:16:31.579Z"
   },
   {
    "duration": 18,
    "start_time": "2023-08-22T11:16:31.654Z"
   },
   {
    "duration": 32,
    "start_time": "2023-08-22T11:16:31.674Z"
   },
   {
    "duration": 41,
    "start_time": "2023-08-22T11:16:31.708Z"
   },
   {
    "duration": 24,
    "start_time": "2023-08-22T11:16:31.751Z"
   },
   {
    "duration": 3,
    "start_time": "2023-08-22T11:16:31.776Z"
   },
   {
    "duration": 25,
    "start_time": "2023-08-22T11:16:31.781Z"
   },
   {
    "duration": 27,
    "start_time": "2023-08-22T11:16:31.808Z"
   },
   {
    "duration": 35,
    "start_time": "2023-08-22T11:16:31.839Z"
   },
   {
    "duration": 65,
    "start_time": "2023-08-22T11:16:31.876Z"
   },
   {
    "duration": 9,
    "start_time": "2023-08-22T11:16:31.943Z"
   },
   {
    "duration": 68,
    "start_time": "2023-08-22T11:16:31.953Z"
   },
   {
    "duration": 11,
    "start_time": "2023-08-22T11:16:32.022Z"
   },
   {
    "duration": 1101,
    "start_time": "2023-08-22T11:16:32.036Z"
   },
   {
    "duration": 4,
    "start_time": "2023-08-22T11:16:33.140Z"
   },
   {
    "duration": 21,
    "start_time": "2023-08-22T11:16:33.145Z"
   },
   {
    "duration": 229,
    "start_time": "2023-08-22T11:16:33.167Z"
   },
   {
    "duration": 145,
    "start_time": "2023-08-22T11:16:33.398Z"
   },
   {
    "duration": 461,
    "start_time": "2023-08-22T11:16:33.545Z"
   },
   {
    "duration": 1048,
    "start_time": "2023-08-22T11:16:34.007Z"
   },
   {
    "duration": 8,
    "start_time": "2023-08-22T11:16:35.057Z"
   },
   {
    "duration": 26,
    "start_time": "2023-08-22T11:16:35.067Z"
   },
   {
    "duration": 64,
    "start_time": "2023-08-22T11:16:35.095Z"
   },
   {
    "duration": 13,
    "start_time": "2023-08-22T11:16:35.162Z"
   },
   {
    "duration": 14,
    "start_time": "2023-08-22T11:16:35.177Z"
   },
   {
    "duration": 61,
    "start_time": "2023-08-22T11:16:35.193Z"
   },
   {
    "duration": 20,
    "start_time": "2023-08-22T11:16:35.257Z"
   },
   {
    "duration": 30,
    "start_time": "2023-08-22T11:16:35.278Z"
   },
   {
    "duration": 39,
    "start_time": "2023-08-22T11:16:35.310Z"
   },
   {
    "duration": 6697,
    "start_time": "2023-08-22T11:16:35.351Z"
   },
   {
    "duration": 2370,
    "start_time": "2023-08-22T11:20:55.642Z"
   },
   {
    "duration": 2345,
    "start_time": "2023-08-22T11:20:58.014Z"
   },
   {
    "duration": 1336,
    "start_time": "2023-08-22T11:21:00.361Z"
   },
   {
    "duration": 282,
    "start_time": "2023-08-22T11:21:01.698Z"
   },
   {
    "duration": 59,
    "start_time": "2023-08-22T11:21:01.983Z"
   },
   {
    "duration": 38,
    "start_time": "2023-08-22T11:21:02.044Z"
   },
   {
    "duration": 11,
    "start_time": "2023-08-22T11:21:02.083Z"
   },
   {
    "duration": 77,
    "start_time": "2023-08-22T11:21:02.095Z"
   },
   {
    "duration": 20,
    "start_time": "2023-08-22T11:21:02.174Z"
   },
   {
    "duration": 8,
    "start_time": "2023-08-22T11:21:02.197Z"
   },
   {
    "duration": 48,
    "start_time": "2023-08-22T11:21:02.207Z"
   },
   {
    "duration": 34,
    "start_time": "2023-08-22T11:21:02.257Z"
   },
   {
    "duration": 5,
    "start_time": "2023-08-22T11:21:02.293Z"
   },
   {
    "duration": 3,
    "start_time": "2023-08-22T11:21:02.301Z"
   },
   {
    "duration": 4,
    "start_time": "2023-08-22T11:21:02.306Z"
   },
   {
    "duration": 14,
    "start_time": "2023-08-22T11:21:02.331Z"
   },
   {
    "duration": 35,
    "start_time": "2023-08-22T11:21:02.347Z"
   },
   {
    "duration": 9,
    "start_time": "2023-08-22T11:21:02.384Z"
   },
   {
    "duration": 72,
    "start_time": "2023-08-22T11:21:02.395Z"
   },
   {
    "duration": 5,
    "start_time": "2023-08-22T11:21:02.469Z"
   },
   {
    "duration": 1108,
    "start_time": "2023-08-22T11:21:02.476Z"
   },
   {
    "duration": 5,
    "start_time": "2023-08-22T11:21:03.585Z"
   },
   {
    "duration": 18,
    "start_time": "2023-08-22T11:21:03.591Z"
   },
   {
    "duration": 234,
    "start_time": "2023-08-22T11:21:03.625Z"
   },
   {
    "duration": 159,
    "start_time": "2023-08-22T11:21:03.860Z"
   },
   {
    "duration": 491,
    "start_time": "2023-08-22T11:21:04.020Z"
   },
   {
    "duration": 1028,
    "start_time": "2023-08-22T11:21:04.513Z"
   },
   {
    "duration": 8,
    "start_time": "2023-08-22T11:21:05.543Z"
   },
   {
    "duration": 29,
    "start_time": "2023-08-22T11:21:05.553Z"
   },
   {
    "duration": 44,
    "start_time": "2023-08-22T11:21:05.583Z"
   },
   {
    "duration": 44,
    "start_time": "2023-08-22T11:21:05.633Z"
   },
   {
    "duration": 7,
    "start_time": "2023-08-22T11:21:05.678Z"
   },
   {
    "duration": 34,
    "start_time": "2023-08-22T11:21:05.687Z"
   },
   {
    "duration": 35,
    "start_time": "2023-08-22T11:21:05.722Z"
   },
   {
    "duration": 21,
    "start_time": "2023-08-22T11:21:05.758Z"
   },
   {
    "duration": 32,
    "start_time": "2023-08-22T11:21:05.780Z"
   },
   {
    "duration": 4326,
    "start_time": "2023-08-22T11:21:05.814Z"
   },
   {
    "duration": 331578,
    "start_time": "2023-08-22T11:21:10.144Z"
   },
   {
    "duration": 60086,
    "start_time": "2023-08-22T11:26:41.724Z"
   },
   {
    "duration": 50,
    "start_time": "2023-08-22T11:27:41.812Z"
   },
   {
    "duration": 2833,
    "start_time": "2023-08-22T11:27:41.865Z"
   },
   {
    "duration": 171,
    "start_time": "2023-08-22T11:27:44.700Z"
   },
   {
    "duration": 0,
    "start_time": "2023-08-22T11:27:44.872Z"
   },
   {
    "duration": 39,
    "start_time": "2023-08-22T11:40:50.873Z"
   },
   {
    "duration": 37,
    "start_time": "2023-08-22T11:42:06.935Z"
   },
   {
    "duration": 16,
    "start_time": "2023-08-22T11:43:26.338Z"
   },
   {
    "duration": 19,
    "start_time": "2023-08-22T11:44:24.334Z"
   },
   {
    "duration": 10,
    "start_time": "2023-08-22T11:44:38.545Z"
   },
   {
    "duration": 12,
    "start_time": "2023-08-22T11:44:51.206Z"
   },
   {
    "duration": 12,
    "start_time": "2023-08-22T11:45:21.053Z"
   },
   {
    "duration": 22,
    "start_time": "2023-08-22T11:45:39.249Z"
   },
   {
    "duration": 7,
    "start_time": "2023-08-22T11:46:00.290Z"
   },
   {
    "duration": 3343,
    "start_time": "2023-08-22T14:09:44.471Z"
   },
   {
    "duration": 6758,
    "start_time": "2023-08-22T14:09:47.817Z"
   },
   {
    "duration": 1507,
    "start_time": "2023-08-22T14:09:54.577Z"
   },
   {
    "duration": 521,
    "start_time": "2023-08-22T14:09:56.086Z"
   },
   {
    "duration": 24,
    "start_time": "2023-08-22T14:09:56.609Z"
   },
   {
    "duration": 68,
    "start_time": "2023-08-22T14:09:56.635Z"
   },
   {
    "duration": 14,
    "start_time": "2023-08-22T14:09:56.705Z"
   },
   {
    "duration": 72,
    "start_time": "2023-08-22T14:09:56.721Z"
   },
   {
    "duration": 21,
    "start_time": "2023-08-22T14:09:56.795Z"
   },
   {
    "duration": 8,
    "start_time": "2023-08-22T14:09:56.818Z"
   },
   {
    "duration": 41,
    "start_time": "2023-08-22T14:09:56.827Z"
   },
   {
    "duration": 33,
    "start_time": "2023-08-22T14:09:56.870Z"
   },
   {
    "duration": 3,
    "start_time": "2023-08-22T14:09:56.904Z"
   },
   {
    "duration": 19,
    "start_time": "2023-08-22T14:10:11.746Z"
   },
   {
    "duration": 39,
    "start_time": "2023-08-22T14:11:49.580Z"
   },
   {
    "duration": 7,
    "start_time": "2023-08-22T14:12:08.067Z"
   },
   {
    "duration": 56,
    "start_time": "2023-08-22T14:12:24.430Z"
   },
   {
    "duration": 18,
    "start_time": "2023-08-22T14:23:05.401Z"
   },
   {
    "duration": 128,
    "start_time": "2023-08-22T14:24:45.327Z"
   },
   {
    "duration": 19,
    "start_time": "2023-08-22T14:25:30.152Z"
   },
   {
    "duration": 23,
    "start_time": "2023-08-22T14:25:37.611Z"
   },
   {
    "duration": 2326,
    "start_time": "2023-08-22T14:36:11.146Z"
   },
   {
    "duration": 2503,
    "start_time": "2023-08-22T14:36:13.474Z"
   },
   {
    "duration": 5,
    "start_time": "2023-08-22T14:36:15.980Z"
   },
   {
    "duration": 255,
    "start_time": "2023-08-22T14:36:15.987Z"
   },
   {
    "duration": 50,
    "start_time": "2023-08-22T14:36:16.244Z"
   },
   {
    "duration": 37,
    "start_time": "2023-08-22T14:36:16.295Z"
   },
   {
    "duration": 18,
    "start_time": "2023-08-22T14:36:16.334Z"
   },
   {
    "duration": 80,
    "start_time": "2023-08-22T14:36:16.354Z"
   },
   {
    "duration": 19,
    "start_time": "2023-08-22T14:36:16.436Z"
   },
   {
    "duration": 71,
    "start_time": "2023-08-22T14:36:16.457Z"
   },
   {
    "duration": 66,
    "start_time": "2023-08-22T14:36:16.529Z"
   },
   {
    "duration": 48,
    "start_time": "2023-08-22T14:36:16.597Z"
   },
   {
    "duration": 57,
    "start_time": "2023-08-22T14:36:16.648Z"
   },
   {
    "duration": 39,
    "start_time": "2023-08-22T14:36:16.708Z"
   },
   {
    "duration": 59,
    "start_time": "2023-08-22T14:36:16.748Z"
   },
   {
    "duration": 12,
    "start_time": "2023-08-22T14:36:29.691Z"
   },
   {
    "duration": 16,
    "start_time": "2023-08-22T14:36:33.146Z"
   },
   {
    "duration": 2280,
    "start_time": "2023-08-22T14:37:04.113Z"
   },
   {
    "duration": 2210,
    "start_time": "2023-08-22T14:37:06.396Z"
   },
   {
    "duration": 1309,
    "start_time": "2023-08-22T14:37:08.608Z"
   },
   {
    "duration": 225,
    "start_time": "2023-08-22T14:37:09.919Z"
   },
   {
    "duration": 46,
    "start_time": "2023-08-22T14:37:10.146Z"
   },
   {
    "duration": 32,
    "start_time": "2023-08-22T14:37:10.194Z"
   },
   {
    "duration": 18,
    "start_time": "2023-08-22T14:37:10.228Z"
   },
   {
    "duration": 61,
    "start_time": "2023-08-22T14:37:10.248Z"
   },
   {
    "duration": 18,
    "start_time": "2023-08-22T14:37:10.311Z"
   },
   {
    "duration": 11,
    "start_time": "2023-08-22T14:37:10.332Z"
   },
   {
    "duration": 43,
    "start_time": "2023-08-22T14:37:10.345Z"
   },
   {
    "duration": 25,
    "start_time": "2023-08-22T14:37:10.389Z"
   },
   {
    "duration": 29,
    "start_time": "2023-08-22T14:37:10.416Z"
   },
   {
    "duration": 4,
    "start_time": "2023-08-22T14:37:10.446Z"
   },
   {
    "duration": 85,
    "start_time": "2023-08-22T14:37:10.452Z"
   },
   {
    "duration": 17,
    "start_time": "2023-08-22T14:37:10.539Z"
   },
   {
    "duration": 132,
    "start_time": "2023-08-22T14:37:10.558Z"
   },
   {
    "duration": 1,
    "start_time": "2023-08-22T14:37:10.694Z"
   },
   {
    "duration": 0,
    "start_time": "2023-08-22T14:37:10.697Z"
   },
   {
    "duration": 0,
    "start_time": "2023-08-22T14:37:10.698Z"
   },
   {
    "duration": 0,
    "start_time": "2023-08-22T14:37:10.700Z"
   },
   {
    "duration": 0,
    "start_time": "2023-08-22T14:37:10.701Z"
   },
   {
    "duration": 0,
    "start_time": "2023-08-22T14:37:10.703Z"
   },
   {
    "duration": 0,
    "start_time": "2023-08-22T14:37:10.704Z"
   },
   {
    "duration": 0,
    "start_time": "2023-08-22T14:37:10.705Z"
   },
   {
    "duration": 0,
    "start_time": "2023-08-22T14:37:10.707Z"
   },
   {
    "duration": 0,
    "start_time": "2023-08-22T14:37:10.709Z"
   },
   {
    "duration": 0,
    "start_time": "2023-08-22T14:37:10.710Z"
   },
   {
    "duration": 0,
    "start_time": "2023-08-22T14:37:10.712Z"
   },
   {
    "duration": 0,
    "start_time": "2023-08-22T14:37:10.713Z"
   },
   {
    "duration": 0,
    "start_time": "2023-08-22T14:37:10.715Z"
   },
   {
    "duration": 0,
    "start_time": "2023-08-22T14:37:10.716Z"
   },
   {
    "duration": 0,
    "start_time": "2023-08-22T14:37:10.718Z"
   },
   {
    "duration": 0,
    "start_time": "2023-08-22T14:37:10.719Z"
   },
   {
    "duration": 0,
    "start_time": "2023-08-22T14:37:10.720Z"
   },
   {
    "duration": 0,
    "start_time": "2023-08-22T14:37:10.722Z"
   },
   {
    "duration": 0,
    "start_time": "2023-08-22T14:37:10.723Z"
   },
   {
    "duration": 0,
    "start_time": "2023-08-22T14:37:10.724Z"
   },
   {
    "duration": 0,
    "start_time": "2023-08-22T14:37:10.726Z"
   },
   {
    "duration": 0,
    "start_time": "2023-08-22T14:37:10.727Z"
   },
   {
    "duration": 0,
    "start_time": "2023-08-22T14:37:10.729Z"
   },
   {
    "duration": 0,
    "start_time": "2023-08-22T14:37:10.730Z"
   },
   {
    "duration": 0,
    "start_time": "2023-08-22T14:37:10.731Z"
   },
   {
    "duration": 2353,
    "start_time": "2023-08-22T14:37:28.684Z"
   },
   {
    "duration": 2352,
    "start_time": "2023-08-22T14:37:31.040Z"
   },
   {
    "duration": 5,
    "start_time": "2023-08-22T14:37:33.394Z"
   },
   {
    "duration": 247,
    "start_time": "2023-08-22T14:37:33.402Z"
   },
   {
    "duration": 46,
    "start_time": "2023-08-22T14:37:33.651Z"
   },
   {
    "duration": 36,
    "start_time": "2023-08-22T14:37:33.698Z"
   },
   {
    "duration": 13,
    "start_time": "2023-08-22T14:37:33.735Z"
   },
   {
    "duration": 69,
    "start_time": "2023-08-22T14:37:33.750Z"
   },
   {
    "duration": 19,
    "start_time": "2023-08-22T14:37:33.820Z"
   },
   {
    "duration": 8,
    "start_time": "2023-08-22T14:37:33.841Z"
   },
   {
    "duration": 44,
    "start_time": "2023-08-22T14:37:33.850Z"
   },
   {
    "duration": 25,
    "start_time": "2023-08-22T14:37:33.896Z"
   },
   {
    "duration": 54,
    "start_time": "2023-08-22T14:37:33.923Z"
   },
   {
    "duration": 5,
    "start_time": "2023-08-22T14:37:33.979Z"
   },
   {
    "duration": 17,
    "start_time": "2023-08-22T14:37:33.987Z"
   },
   {
    "duration": 24,
    "start_time": "2023-08-22T14:37:34.005Z"
   },
   {
    "duration": 16,
    "start_time": "2023-08-22T14:37:34.031Z"
   },
   {
    "duration": 23,
    "start_time": "2023-08-22T14:37:34.049Z"
   },
   {
    "duration": 0,
    "start_time": "2023-08-22T14:37:34.088Z"
   },
   {
    "duration": 1,
    "start_time": "2023-08-22T14:37:34.089Z"
   },
   {
    "duration": 0,
    "start_time": "2023-08-22T14:37:34.091Z"
   },
   {
    "duration": 0,
    "start_time": "2023-08-22T14:37:34.092Z"
   },
   {
    "duration": 0,
    "start_time": "2023-08-22T14:37:34.094Z"
   },
   {
    "duration": 0,
    "start_time": "2023-08-22T14:37:34.096Z"
   },
   {
    "duration": 0,
    "start_time": "2023-08-22T14:37:34.097Z"
   },
   {
    "duration": 0,
    "start_time": "2023-08-22T14:37:34.099Z"
   },
   {
    "duration": 0,
    "start_time": "2023-08-22T14:37:34.100Z"
   },
   {
    "duration": 0,
    "start_time": "2023-08-22T14:37:34.101Z"
   },
   {
    "duration": 0,
    "start_time": "2023-08-22T14:37:34.103Z"
   },
   {
    "duration": 0,
    "start_time": "2023-08-22T14:37:34.104Z"
   },
   {
    "duration": 0,
    "start_time": "2023-08-22T14:37:34.105Z"
   },
   {
    "duration": 0,
    "start_time": "2023-08-22T14:37:34.107Z"
   },
   {
    "duration": 0,
    "start_time": "2023-08-22T14:37:34.109Z"
   },
   {
    "duration": 0,
    "start_time": "2023-08-22T14:37:34.110Z"
   },
   {
    "duration": 0,
    "start_time": "2023-08-22T14:37:34.112Z"
   },
   {
    "duration": 0,
    "start_time": "2023-08-22T14:37:34.113Z"
   },
   {
    "duration": 0,
    "start_time": "2023-08-22T14:37:34.114Z"
   },
   {
    "duration": 0,
    "start_time": "2023-08-22T14:37:34.116Z"
   },
   {
    "duration": 0,
    "start_time": "2023-08-22T14:37:34.117Z"
   },
   {
    "duration": 0,
    "start_time": "2023-08-22T14:37:34.118Z"
   },
   {
    "duration": 0,
    "start_time": "2023-08-22T14:37:34.119Z"
   },
   {
    "duration": 0,
    "start_time": "2023-08-22T14:37:34.120Z"
   },
   {
    "duration": 0,
    "start_time": "2023-08-22T14:37:34.122Z"
   },
   {
    "duration": 0,
    "start_time": "2023-08-22T14:37:34.123Z"
   },
   {
    "duration": 2257,
    "start_time": "2023-08-22T14:37:58.342Z"
   },
   {
    "duration": 2187,
    "start_time": "2023-08-22T14:38:00.601Z"
   },
   {
    "duration": 4,
    "start_time": "2023-08-22T14:38:02.790Z"
   },
   {
    "duration": 266,
    "start_time": "2023-08-22T14:38:02.796Z"
   },
   {
    "duration": 42,
    "start_time": "2023-08-22T14:38:03.063Z"
   },
   {
    "duration": 33,
    "start_time": "2023-08-22T14:38:03.106Z"
   },
   {
    "duration": 34,
    "start_time": "2023-08-22T14:38:03.141Z"
   },
   {
    "duration": 77,
    "start_time": "2023-08-22T14:38:03.177Z"
   },
   {
    "duration": 90,
    "start_time": "2023-08-22T14:38:03.256Z"
   },
   {
    "duration": 33,
    "start_time": "2023-08-22T14:38:03.349Z"
   },
   {
    "duration": 50,
    "start_time": "2023-08-22T14:38:03.384Z"
   },
   {
    "duration": 44,
    "start_time": "2023-08-22T14:38:03.436Z"
   },
   {
    "duration": 87,
    "start_time": "2023-08-22T14:38:03.482Z"
   },
   {
    "duration": 68,
    "start_time": "2023-08-22T14:38:03.571Z"
   },
   {
    "duration": 56,
    "start_time": "2023-08-22T14:38:03.641Z"
   },
   {
    "duration": 48,
    "start_time": "2023-08-22T14:38:03.699Z"
   },
   {
    "duration": 61,
    "start_time": "2023-08-22T14:38:03.749Z"
   },
   {
    "duration": 38,
    "start_time": "2023-08-22T14:38:03.812Z"
   },
   {
    "duration": 0,
    "start_time": "2023-08-22T14:38:03.852Z"
   },
   {
    "duration": 0,
    "start_time": "2023-08-22T14:38:03.854Z"
   },
   {
    "duration": 0,
    "start_time": "2023-08-22T14:38:03.855Z"
   },
   {
    "duration": 0,
    "start_time": "2023-08-22T14:38:03.856Z"
   },
   {
    "duration": 0,
    "start_time": "2023-08-22T14:38:03.858Z"
   },
   {
    "duration": 0,
    "start_time": "2023-08-22T14:38:03.859Z"
   },
   {
    "duration": 0,
    "start_time": "2023-08-22T14:38:03.860Z"
   },
   {
    "duration": 0,
    "start_time": "2023-08-22T14:38:03.862Z"
   },
   {
    "duration": 0,
    "start_time": "2023-08-22T14:38:03.863Z"
   },
   {
    "duration": 0,
    "start_time": "2023-08-22T14:38:03.864Z"
   },
   {
    "duration": 0,
    "start_time": "2023-08-22T14:38:03.866Z"
   },
   {
    "duration": 0,
    "start_time": "2023-08-22T14:38:03.867Z"
   },
   {
    "duration": 0,
    "start_time": "2023-08-22T14:38:03.868Z"
   },
   {
    "duration": 0,
    "start_time": "2023-08-22T14:38:03.870Z"
   },
   {
    "duration": 0,
    "start_time": "2023-08-22T14:38:03.871Z"
   },
   {
    "duration": 0,
    "start_time": "2023-08-22T14:38:03.872Z"
   },
   {
    "duration": 0,
    "start_time": "2023-08-22T14:38:03.873Z"
   },
   {
    "duration": 0,
    "start_time": "2023-08-22T14:38:03.874Z"
   },
   {
    "duration": 0,
    "start_time": "2023-08-22T14:38:03.875Z"
   },
   {
    "duration": 0,
    "start_time": "2023-08-22T14:38:03.887Z"
   },
   {
    "duration": 0,
    "start_time": "2023-08-22T14:38:03.889Z"
   },
   {
    "duration": 0,
    "start_time": "2023-08-22T14:38:03.890Z"
   },
   {
    "duration": 0,
    "start_time": "2023-08-22T14:38:03.892Z"
   },
   {
    "duration": 0,
    "start_time": "2023-08-22T14:38:03.893Z"
   },
   {
    "duration": 0,
    "start_time": "2023-08-22T14:38:03.894Z"
   },
   {
    "duration": 0,
    "start_time": "2023-08-22T14:38:03.895Z"
   },
   {
    "duration": 4,
    "start_time": "2023-08-22T14:48:15.672Z"
   },
   {
    "duration": 1020,
    "start_time": "2023-08-22T14:48:21.018Z"
   },
   {
    "duration": 985,
    "start_time": "2023-08-22T14:48:53.287Z"
   },
   {
    "duration": 4,
    "start_time": "2023-08-22T14:50:48.973Z"
   },
   {
    "duration": 19,
    "start_time": "2023-08-22T14:50:51.408Z"
   },
   {
    "duration": 289,
    "start_time": "2023-08-22T14:51:06.752Z"
   },
   {
    "duration": 135,
    "start_time": "2023-08-22T14:51:10.828Z"
   },
   {
    "duration": 528,
    "start_time": "2023-08-22T14:51:28.688Z"
   },
   {
    "duration": 11,
    "start_time": "2023-08-22T14:52:04.993Z"
   },
   {
    "duration": 5,
    "start_time": "2023-08-22T14:52:13.424Z"
   },
   {
    "duration": 13,
    "start_time": "2023-08-22T14:52:26.538Z"
   },
   {
    "duration": 1090,
    "start_time": "2023-08-22T14:52:57.915Z"
   },
   {
    "duration": 7,
    "start_time": "2023-08-22T14:53:33.358Z"
   },
   {
    "duration": 6,
    "start_time": "2023-08-22T14:53:34.013Z"
   },
   {
    "duration": 7,
    "start_time": "2023-08-22T14:53:35.174Z"
   },
   {
    "duration": 6,
    "start_time": "2023-08-22T14:53:39.519Z"
   },
   {
    "duration": 3,
    "start_time": "2023-08-22T14:53:40.377Z"
   },
   {
    "duration": 29,
    "start_time": "2023-08-22T14:53:41.599Z"
   },
   {
    "duration": 22,
    "start_time": "2023-08-22T14:53:43.246Z"
   },
   {
    "duration": 17,
    "start_time": "2023-08-22T14:53:44.377Z"
   },
   {
    "duration": 28,
    "start_time": "2023-08-22T14:53:45.686Z"
   },
   {
    "duration": 3190,
    "start_time": "2023-08-22T14:53:50.202Z"
   },
   {
    "duration": 277397,
    "start_time": "2023-08-22T14:53:56.522Z"
   },
   {
    "duration": 54262,
    "start_time": "2023-08-22T14:58:33.921Z"
   },
   {
    "duration": 38,
    "start_time": "2023-08-22T15:09:04.979Z"
   },
   {
    "duration": 33,
    "start_time": "2023-08-22T15:09:08.085Z"
   },
   {
    "duration": 31,
    "start_time": "2023-08-22T15:09:23.144Z"
   },
   {
    "duration": 35,
    "start_time": "2023-08-22T15:12:24.581Z"
   },
   {
    "duration": 10,
    "start_time": "2023-08-22T15:13:05.922Z"
   },
   {
    "duration": 11,
    "start_time": "2023-08-22T15:13:22.893Z"
   },
   {
    "duration": 41,
    "start_time": "2023-08-22T15:15:08.629Z"
   },
   {
    "duration": 3750,
    "start_time": "2023-08-22T18:32:19.351Z"
   },
   {
    "duration": 11640,
    "start_time": "2023-08-22T18:32:23.104Z"
   },
   {
    "duration": 1559,
    "start_time": "2023-08-22T18:32:34.747Z"
   },
   {
    "duration": 580,
    "start_time": "2023-08-22T18:32:36.308Z"
   },
   {
    "duration": 24,
    "start_time": "2023-08-22T18:32:36.889Z"
   },
   {
    "duration": 77,
    "start_time": "2023-08-22T18:32:36.914Z"
   },
   {
    "duration": 15,
    "start_time": "2023-08-22T18:32:36.994Z"
   },
   {
    "duration": 71,
    "start_time": "2023-08-22T18:32:37.011Z"
   },
   {
    "duration": 16,
    "start_time": "2023-08-22T18:32:37.084Z"
   },
   {
    "duration": 7,
    "start_time": "2023-08-22T18:32:37.104Z"
   },
   {
    "duration": 65,
    "start_time": "2023-08-22T18:32:37.112Z"
   },
   {
    "duration": 23,
    "start_time": "2023-08-22T18:32:37.181Z"
   },
   {
    "duration": 26,
    "start_time": "2023-08-22T18:32:37.206Z"
   },
   {
    "duration": 15,
    "start_time": "2023-08-22T18:32:37.234Z"
   },
   {
    "duration": 65,
    "start_time": "2023-08-22T18:32:37.258Z"
   },
   {
    "duration": 4,
    "start_time": "2023-08-22T18:32:37.325Z"
   },
   {
    "duration": 1113,
    "start_time": "2023-08-22T18:32:37.331Z"
   },
   {
    "duration": 7,
    "start_time": "2023-08-22T18:32:38.447Z"
   },
   {
    "duration": 20,
    "start_time": "2023-08-22T18:32:38.456Z"
   },
   {
    "duration": 303,
    "start_time": "2023-08-22T18:32:38.478Z"
   },
   {
    "duration": 144,
    "start_time": "2023-08-22T18:32:38.783Z"
   },
   {
    "duration": 480,
    "start_time": "2023-08-22T18:32:38.933Z"
   },
   {
    "duration": 1422,
    "start_time": "2023-08-22T18:32:39.415Z"
   },
   {
    "duration": 11,
    "start_time": "2023-08-22T18:32:40.843Z"
   },
   {
    "duration": 27,
    "start_time": "2023-08-22T18:32:40.856Z"
   },
   {
    "duration": 28,
    "start_time": "2023-08-22T18:32:40.886Z"
   },
   {
    "duration": 14,
    "start_time": "2023-08-22T18:32:40.916Z"
   },
   {
    "duration": 18,
    "start_time": "2023-08-22T18:32:40.934Z"
   },
   {
    "duration": 43,
    "start_time": "2023-08-22T18:32:40.955Z"
   },
   {
    "duration": 31,
    "start_time": "2023-08-22T18:32:41.000Z"
   },
   {
    "duration": 31,
    "start_time": "2023-08-22T18:32:41.033Z"
   },
   {
    "duration": 40,
    "start_time": "2023-08-22T18:32:41.066Z"
   },
   {
    "duration": 3759,
    "start_time": "2023-08-22T18:32:41.108Z"
   },
   {
    "duration": 295018,
    "start_time": "2023-08-22T18:32:44.874Z"
   },
   {
    "duration": 55215,
    "start_time": "2023-08-22T18:37:39.894Z"
   },
   {
    "duration": 51,
    "start_time": "2023-08-22T18:38:35.110Z"
   },
   {
    "duration": 6,
    "start_time": "2023-08-22T18:38:35.163Z"
   },
   {
    "duration": 158,
    "start_time": "2023-08-22T18:38:35.171Z"
   },
   {
    "duration": 0,
    "start_time": "2023-08-22T18:38:35.334Z"
   },
   {
    "duration": 0,
    "start_time": "2023-08-22T18:38:35.335Z"
   },
   {
    "duration": 16,
    "start_time": "2023-08-22T18:41:47.160Z"
   },
   {
    "duration": 4,
    "start_time": "2023-08-22T18:42:23.911Z"
   },
   {
    "duration": 14,
    "start_time": "2023-08-22T18:42:33.603Z"
   },
   {
    "duration": 394,
    "start_time": "2023-08-22T18:43:15.078Z"
   },
   {
    "duration": 341,
    "start_time": "2023-08-22T18:44:34.480Z"
   },
   {
    "duration": 314,
    "start_time": "2023-08-22T18:44:55.758Z"
   },
   {
    "duration": 306,
    "start_time": "2023-08-22T18:45:04.826Z"
   },
   {
    "duration": 408,
    "start_time": "2023-08-22T18:45:18.395Z"
   },
   {
    "duration": 8,
    "start_time": "2023-08-22T18:47:17.151Z"
   },
   {
    "duration": 15,
    "start_time": "2023-08-22T18:47:42.781Z"
   },
   {
    "duration": 13,
    "start_time": "2023-08-22T18:48:24.652Z"
   },
   {
    "duration": 21,
    "start_time": "2023-08-22T18:49:31.805Z"
   },
   {
    "duration": 186,
    "start_time": "2023-08-22T18:53:29.510Z"
   },
   {
    "duration": 214,
    "start_time": "2023-08-22T18:54:32.340Z"
   },
   {
    "duration": 11,
    "start_time": "2023-08-22T18:55:43.554Z"
   },
   {
    "duration": 11,
    "start_time": "2023-08-22T18:55:45.871Z"
   },
   {
    "duration": 277,
    "start_time": "2023-08-22T18:56:03.530Z"
   },
   {
    "duration": 225,
    "start_time": "2023-08-22T18:56:59.627Z"
   },
   {
    "duration": 182,
    "start_time": "2023-08-22T18:59:19.785Z"
   },
   {
    "duration": 213,
    "start_time": "2023-08-22T18:59:32.653Z"
   },
   {
    "duration": 178,
    "start_time": "2023-08-22T18:59:47.574Z"
   },
   {
    "duration": 173,
    "start_time": "2023-08-22T18:59:53.074Z"
   },
   {
    "duration": 195,
    "start_time": "2023-08-22T19:00:03.884Z"
   },
   {
    "duration": 196,
    "start_time": "2023-08-22T19:00:37.550Z"
   },
   {
    "duration": 11,
    "start_time": "2023-08-22T19:01:03.352Z"
   },
   {
    "duration": 121,
    "start_time": "2023-08-22T19:02:13.806Z"
   },
   {
    "duration": 8,
    "start_time": "2023-08-22T19:03:08.795Z"
   },
   {
    "duration": 226,
    "start_time": "2023-08-22T19:05:09.596Z"
   },
   {
    "duration": 110,
    "start_time": "2023-08-22T19:05:26.821Z"
   },
   {
    "duration": 5,
    "start_time": "2023-08-22T19:06:23.007Z"
   },
   {
    "duration": 119,
    "start_time": "2023-08-22T19:07:52.591Z"
   },
   {
    "duration": 144,
    "start_time": "2023-08-22T19:08:09.914Z"
   },
   {
    "duration": 121,
    "start_time": "2023-08-22T19:08:14.331Z"
   }
  ],
  "kernelspec": {
   "display_name": "Python 3 (ipykernel)",
   "language": "python",
   "name": "python3"
  },
  "language_info": {
   "codemirror_mode": {
    "name": "ipython",
    "version": 3
   },
   "file_extension": ".py",
   "mimetype": "text/x-python",
   "name": "python",
   "nbconvert_exporter": "python",
   "pygments_lexer": "ipython3",
   "version": "3.9.13"
  },
  "toc": {
   "base_numbering": 1,
   "nav_menu": {},
   "number_sections": true,
   "sideBar": true,
   "skip_h1_title": true,
   "title_cell": "Table of Contents",
   "title_sidebar": "Contents",
   "toc_cell": false,
   "toc_position": {},
   "toc_section_display": true,
   "toc_window_display": false
  }
 },
 "nbformat": 4,
 "nbformat_minor": 2
}
